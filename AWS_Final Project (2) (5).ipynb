{
 "cells": [
  {
   "cell_type": "markdown",
   "id": "9b08954a-1621-4378-b613-48a7d2c7b4c3",
   "metadata": {},
   "source": [
    "# ASK1"
   ]
  },
  {
   "cell_type": "markdown",
   "id": "c012a6a0-8681-4ad0-bddd-8be93ba0901d",
   "metadata": {},
   "source": [
    "**Attestation**\n",
    "\n",
    "I attest that all project team members contribute meaningfully to the project and have complete knowledge of any part of it. Also, our individual contributions in coding, and presentation write-up all come from ourselves, we did not copy or plagiarism from other groups or individuals. - Yachen Wu"
   ]
  },
  {
   "cell_type": "code",
   "execution_count": 234,
   "id": "541740d1-95a0-4337-9f6a-e2a5050f3976",
   "metadata": {},
   "outputs": [],
   "source": [
    "# Identify and describe your dataset"
   ]
  },
  {
   "cell_type": "markdown",
   "id": "5fece033-9b55-4910-84d6-7d72ee0bd701",
   "metadata": {},
   "source": [
    "- The dataset includes 7 main types of information:\n",
    "\n",
    "**Loan Application Details**: \n",
    "- This part of the dataset provides information about the loans people are applying for. It covers things like the kind of loan, how much money is being borrowed, and the terms for paying it back. It also includes the target variable in this dataset that determine whether the individual has difficulties making payments on their loan.\n",
    "\n",
    "\n",
    "**Risk Assessment Data**: \n",
    "- Includes data points essential for evaluating the likelihood of loan repayment or default, crucial for lending decisions.\n",
    "\n",
    "**Customer Segmentation Information**: \n",
    "- Facilitates the division of applicants into groups based on shared characteristics, aiding in targeted marketing and product customization. Like the detailed information about each applicant, including their income, credit score, gender, and many other factors pertaining to them. \n",
    "\n",
    "**Financial Background**: \n",
    "- Likely includes details about the applicants' financial history, credit scores, or existing debts, crucial for assessing financial health.\n",
    "\n",
    "**Contact and Communication Data**: \n",
    "- It encompasses information about how to contact the applicant, such as phone numbers or email addresses.\n",
    "\n",
    "**Employment History**: \n",
    "- Provides insights into the applicants' career stability and earning potential, important for assessing their ability to repay loans.\n",
    "\n",
    "- Our dataset is 148.7 MBs and contains 122 columns and 307,511 rows. \n",
    "\n"
   ]
  },
  {
   "cell_type": "code",
   "execution_count": 236,
   "id": "11f389a4-cebf-496b-87e6-683edd2cd756",
   "metadata": {},
   "outputs": [],
   "source": [
    "# Identify dataset source "
   ]
  },
  {
   "cell_type": "markdown",
   "id": "9d6f3f45-fa06-475a-b576-f501bb85b4b5",
   "metadata": {},
   "source": [
    "We sourced our dataset from The International Institute of Information Technology Bangalore. The IIITB is an industrial research organization relating to information technology. It comes from India credit card applications in September of 2013."
   ]
  },
  {
   "cell_type": "code",
   "execution_count": null,
   "id": "1ab06811-f487-42bd-9084-b27abc9de6c4",
   "metadata": {},
   "outputs": [],
   "source": [
    "# Why is important and what appeals to you about it"
   ]
  },
  {
   "cell_type": "markdown",
   "id": "0545a6b8-d11a-4c7e-b87c-cbddb81a82cf",
   "metadata": {},
   "source": [
    "- The data can help in creating models to predict which loans might not be paid back, which is important for banks to know. It also helps in understanding different groups of customers better, which can guide banks in offering the right kind of loan products and services to the right people.\n",
    "\n",
    "-  It assists the general public in understanding the variables that impact the default rate, particularly for lenders. \n",
    "\n",
    "- It is suitable for data analysis and dimensional modeling with a dataset containing over 300k records.\n",
    "\n",
    "- There are122 variables in a well-structured dataset with a data dictionary to help in the selection and categorization of significant variables and the generation of analysis. \n",
    "\n",
    "- In summary, this dataset is a key tool for managing risk, understanding customers, and making smart decisions in the financial sector."
   ]
  },
  {
   "cell_type": "code",
   "execution_count": 238,
   "id": "4b5b8989-f8b1-4f64-a1c5-7c8f415e0b13",
   "metadata": {},
   "outputs": [],
   "source": [
    "# Acquire data and perform initial exploration to make sure it is suitable for dimensional modeling and analytical analysis"
   ]
  },
  {
   "cell_type": "markdown",
   "id": "1f471fc6-a87d-4c68-9e6f-a5d48d5f65f1",
   "metadata": {},
   "source": [
    "\n",
    "**Numerical Data for Fact Tables**: \n",
    "- The dataset includes crucial numerical values like income and credit scores, pivotal for building detailed fact tables in dimensional modeling.\n",
    "\n",
    "**Categorical Attributes for Dimension Tables**: \n",
    "- It features categorical attributes (e.g., loan types, employment status) that are ideal for crafting dimension tables, enhancing data segmentation and analysis.\n",
    "\n",
    "**Star Schema Implementation**: \n",
    "- A star schema is proposed using natural keys as surrogate keys, streamlining the relationship between facts and dimensions for efficient data querying.\n",
    "\n",
    "**Enhanced Data Manipulation**: \n",
    "- The dataset's coded categorical attributes facilitate easier sorting and manipulation, making it highly adaptable for diverse analytical purposes.\n",
    "\n",
    "In summary, the dataset is well-prepared for dimensional modeling and analysis, with its blend of numerical and categorical data ideally suited for creating a robust and efficient star schema. This structure will enable us to perform in-depth, multifaceted analyses, providing solid insights for decision-making processes."
   ]
  },
  {
   "cell_type": "code",
   "execution_count": 240,
   "id": "5b05eacb-b1bd-45d7-bf81-3a5d1f116d89",
   "metadata": {},
   "outputs": [],
   "source": [
    "# Describe the analytical questions you want to answer with the data. "
   ]
  },
  {
   "cell_type": "markdown",
   "id": "76d8ffc0-6a30-46d0-9657-e3116a84b808",
   "metadata": {},
   "source": [
    "1. In the provided loan data, what is the average loan default rate? What are the loan types along with which income levels have the higher default rate? \n",
    "\n",
    "2. What are the differences between females and males regarding their average income and default rate? Also, within each gender group, which income level shows the highest frequency of defaults?\n",
    "\n",
    "3. How can we identify and categorize the risk profiles of our loan applicants based on their income level, age group, and occupation? Specifically, which income group has the highest overall default rate, and within this group, which age bracket is most prone to defaulting? Furthermore, among the high-risk age bracket in the highest defaulting income group, what are the common occupation types, and how do their default rates compare? \n"
   ]
  },
  {
   "cell_type": "code",
   "execution_count": 241,
   "id": "f27d2e43-97c3-4c75-a83f-345e681234e2",
   "metadata": {},
   "outputs": [],
   "source": [
    "# Describe any concerns with the data and changes you expect to overcome"
   ]
  },
  {
   "cell_type": "markdown",
   "id": "b8135370-7884-4ffb-9154-1c0e8d91953d",
   "metadata": {},
   "source": [
    "1. **Data Volume**:\n",
    "\n",
    "- The dataset contains a substantial number of variables, with 122 in the original dataset. This abundance of variables can lead to reduced data accuracy, increased computational time, and challenges in interpretation. To address this, we plan to narrow down the variables to a more manageable 19, focusing on those directly related to loan default exploration.\n",
    "\n",
    "2. **Categorical Grouping**\n",
    "- For variables that are currently numerical but represent categories (like the example columns 'days_birth' and 'cnt_children'), consider converting them into categorical variables. This grouping can provide more meaningful insights and facilitate easier analysis.\n",
    "- For 'days_birth', converting age into categorized age groups (such as young adult, middle-aged, senior) would allow for a clearer understanding of different age demographics. Similarly, for 'cnt_children', categorizing the data into groups (like no children, one child, multiple children) would offer a more structured way to analyze the impact of the number of children on other variables. These changes will not only improve the clarity of the analysis but also make it easier to identify and interpret trends and patterns within the data.\n",
    "\n",
    "\n",
    "\n",
    "\n"
   ]
  },
  {
   "cell_type": "markdown",
   "id": "c17172b9-5ab7-4a43-82c8-eba5d3c22a5b",
   "metadata": {},
   "source": [
    "# ASK2"
   ]
  },
  {
   "cell_type": "markdown",
   "id": "e97b1dcb-f7b7-46ac-b736-dcaaabb469f5",
   "metadata": {},
   "source": [
    "# Before started \n",
    "\n",
    "set a new folder for this project "
   ]
  },
  {
   "cell_type": "code",
   "execution_count": 2,
   "id": "300858d6-d8fe-4e63-9ab4-a0fa937d75fd",
   "metadata": {},
   "outputs": [],
   "source": [
    "# create an final project folder \n",
    "!mkdir Final_project "
   ]
  },
  {
   "cell_type": "code",
   "execution_count": 7,
   "id": "d5529e5c-f83b-4d97-b676-ca365f877973",
   "metadata": {},
   "outputs": [
    {
     "name": "stdout",
     "output_type": "stream",
     "text": [
      "/home/ubuntu/notebooks/Final_project\n"
     ]
    }
   ],
   "source": [
    "cd /home/ubuntu/notebooks/Final_project\n"
   ]
  },
  {
   "cell_type": "code",
   "execution_count": 5,
   "id": "b61938d4-83e5-44d8-92fb-7a00e87577cb",
   "metadata": {},
   "outputs": [
    {
     "name": "stdout",
     "output_type": "stream",
     "text": [
      "[Errno 2] No such file or directory: 'Final_project'\n",
      "/home/ubuntu/notebooks/Final_project\n"
     ]
    }
   ],
   "source": [
    "# set working directory \n",
    "%cd Final_project "
   ]
  },
  {
   "cell_type": "code",
   "execution_count": 1,
   "id": "78c398f5-efc3-4350-b405-7e88de293609",
   "metadata": {},
   "outputs": [
    {
     "name": "stdout",
     "output_type": "stream",
     "text": [
      "/home/ubuntu/notebooks/Final_project\n"
     ]
    }
   ],
   "source": [
    "# double-check final directory \n",
    "!pwd"
   ]
  },
  {
   "cell_type": "markdown",
   "id": "846b9d5c-3fff-4eef-b727-8e7fb62efffe",
   "metadata": {},
   "source": [
    "Uploaded application_data.csv"
   ]
  },
  {
   "cell_type": "code",
   "execution_count": 2,
   "id": "472a83e4-8fca-4678-abc4-6a77b7021ecd",
   "metadata": {},
   "outputs": [
    {
     "name": "stdout",
     "output_type": "stream",
     "text": [
      "  1: SK_ID_CURR\n",
      "  2: TARGET\n",
      "  3: NAME_CONTRACT_TYPE\n",
      "  4: CODE_GENDER\n",
      "  5: FLAG_OWN_CAR\n",
      "  6: FLAG_OWN_REALTY\n",
      "  7: CNT_CHILDREN\n",
      "  8: AMT_INCOME_TOTAL\n",
      "  9: AMT_CREDIT\n",
      " 10: AMT_ANNUITY\n",
      " 11: AMT_GOODS_PRICE\n",
      " 12: NAME_TYPE_SUITE\n",
      " 13: NAME_INCOME_TYPE\n",
      " 14: NAME_EDUCATION_TYPE\n",
      " 15: NAME_FAMILY_STATUS\n",
      " 16: NAME_HOUSING_TYPE\n",
      " 17: REGION_POPULATION_RELATIVE\n",
      " 18: DAYS_BIRTH\n",
      " 19: DAYS_EMPLOYED\n",
      " 20: DAYS_REGISTRATION\n",
      " 21: DAYS_ID_PUBLISH\n",
      " 22: OWN_CAR_AGE\n",
      " 23: FLAG_MOBIL\n",
      " 24: FLAG_EMP_PHONE\n",
      " 25: FLAG_WORK_PHONE\n",
      " 26: FLAG_CONT_MOBILE\n",
      " 27: FLAG_PHONE\n",
      " 28: FLAG_EMAIL\n",
      " 29: OCCUPATION_TYPE\n",
      " 30: CNT_FAM_MEMBERS\n",
      " 31: REGION_RATING_CLIENT\n",
      " 32: REGION_RATING_CLIENT_W_CITY\n",
      " 33: WEEKDAY_APPR_PROCESS_START\n",
      " 34: HOUR_APPR_PROCESS_START\n",
      " 35: REG_REGION_NOT_LIVE_REGION\n",
      " 36: REG_REGION_NOT_WORK_REGION\n",
      " 37: LIVE_REGION_NOT_WORK_REGION\n",
      " 38: REG_CITY_NOT_LIVE_CITY\n",
      " 39: REG_CITY_NOT_WORK_CITY\n",
      " 40: LIVE_CITY_NOT_WORK_CITY\n",
      " 41: ORGANIZATION_TYPE\n",
      " 42: EXT_SOURCE_1\n",
      " 43: EXT_SOURCE_2\n",
      " 44: EXT_SOURCE_3\n",
      " 45: APARTMENTS_AVG\n",
      " 46: BASEMENTAREA_AVG\n",
      " 47: YEARS_BEGINEXPLUATATION_AVG\n",
      " 48: YEARS_BUILD_AVG\n",
      " 49: COMMONAREA_AVG\n",
      " 50: ELEVATORS_AVG\n",
      " 51: ENTRANCES_AVG\n",
      " 52: FLOORSMAX_AVG\n",
      " 53: FLOORSMIN_AVG\n",
      " 54: LANDAREA_AVG\n",
      " 55: LIVINGAPARTMENTS_AVG\n",
      " 56: LIVINGAREA_AVG\n",
      " 57: NONLIVINGAPARTMENTS_AVG\n",
      " 58: NONLIVINGAREA_AVG\n",
      " 59: APARTMENTS_MODE\n",
      " 60: BASEMENTAREA_MODE\n",
      " 61: YEARS_BEGINEXPLUATATION_MODE\n",
      " 62: YEARS_BUILD_MODE\n",
      " 63: COMMONAREA_MODE\n",
      " 64: ELEVATORS_MODE\n",
      " 65: ENTRANCES_MODE\n",
      " 66: FLOORSMAX_MODE\n",
      " 67: FLOORSMIN_MODE\n",
      " 68: LANDAREA_MODE\n",
      " 69: LIVINGAPARTMENTS_MODE\n",
      " 70: LIVINGAREA_MODE\n",
      " 71: NONLIVINGAPARTMENTS_MODE\n",
      " 72: NONLIVINGAREA_MODE\n",
      " 73: APARTMENTS_MEDI\n",
      " 74: BASEMENTAREA_MEDI\n",
      " 75: YEARS_BEGINEXPLUATATION_MEDI\n",
      " 76: YEARS_BUILD_MEDI\n",
      " 77: COMMONAREA_MEDI\n",
      " 78: ELEVATORS_MEDI\n",
      " 79: ENTRANCES_MEDI\n",
      " 80: FLOORSMAX_MEDI\n",
      " 81: FLOORSMIN_MEDI\n",
      " 82: LANDAREA_MEDI\n",
      " 83: LIVINGAPARTMENTS_MEDI\n",
      " 84: LIVINGAREA_MEDI\n",
      " 85: NONLIVINGAPARTMENTS_MEDI\n",
      " 86: NONLIVINGAREA_MEDI\n",
      " 87: FONDKAPREMONT_MODE\n",
      " 88: HOUSETYPE_MODE\n",
      " 89: TOTALAREA_MODE\n",
      " 90: WALLSMATERIAL_MODE\n",
      " 91: EMERGENCYSTATE_MODE\n",
      " 92: OBS_30_CNT_SOCIAL_CIRCLE\n",
      " 93: DEF_30_CNT_SOCIAL_CIRCLE\n",
      " 94: OBS_60_CNT_SOCIAL_CIRCLE\n",
      " 95: DEF_60_CNT_SOCIAL_CIRCLE\n",
      " 96: DAYS_LAST_PHONE_CHANGE\n",
      " 97: FLAG_DOCUMENT_2\n",
      " 98: FLAG_DOCUMENT_3\n",
      " 99: FLAG_DOCUMENT_4\n",
      "100: FLAG_DOCUMENT_5\n",
      "101: FLAG_DOCUMENT_6\n",
      "102: FLAG_DOCUMENT_7\n",
      "103: FLAG_DOCUMENT_8\n",
      "104: FLAG_DOCUMENT_9\n",
      "105: FLAG_DOCUMENT_10\n",
      "106: FLAG_DOCUMENT_11\n",
      "107: FLAG_DOCUMENT_12\n",
      "108: FLAG_DOCUMENT_13\n",
      "109: FLAG_DOCUMENT_14\n",
      "110: FLAG_DOCUMENT_15\n",
      "111: FLAG_DOCUMENT_16\n",
      "112: FLAG_DOCUMENT_17\n",
      "113: FLAG_DOCUMENT_18\n",
      "114: FLAG_DOCUMENT_19\n",
      "115: FLAG_DOCUMENT_20\n",
      "116: FLAG_DOCUMENT_21\n",
      "117: AMT_REQ_CREDIT_BUREAU_HOUR\n",
      "118: AMT_REQ_CREDIT_BUREAU_DAY\n",
      "119: AMT_REQ_CREDIT_BUREAU_WEEK\n",
      "120: AMT_REQ_CREDIT_BUREAU_MON\n",
      "121: AMT_REQ_CREDIT_BUREAU_QRT\n",
      "122: AMT_REQ_CREDIT_BUREAU_YEAR\n"
     ]
    }
   ],
   "source": [
    "!csvcut -n application_data.csv"
   ]
  },
  {
   "cell_type": "markdown",
   "id": "6485f695-2402-4427-9895-936b058d70cf",
   "metadata": {},
   "source": [
    "There are 122 columns in the original dataset"
   ]
  },
  {
   "cell_type": "markdown",
   "id": "38d4013d-1fbd-4d11-9511-aa751e88c605",
   "metadata": {},
   "source": [
    "But not all of them are variables we need.\n",
    "\n",
    "A lot of columns' descriptions are ambiguous, not clearly defines what they mean. Or the information is normalized, so we cannot get any insights from them, such as the following variables:\n",
    "APARTMENTS_AVG Normalized information about building where the client lives, What is average (_AVG suffix), modus (_MODE suffix), median (_MEDI suffix) apartment size, common area, living area, age of building, number of elevators, number of entrances, state of the building, number of floor\n",
    "\n",
    "Eventually, we boiled down to 19 columns that we can use in the dimensional model.In the original dataset of 122 columns, many were not pertinent to our analysis due to ambiguous descriptions or the presence of normalized data that limited insight extraction. An example is 'APARTMENTS_AVG', which offered normalized details on various building aspects. After a thorough review focusing on clarity, relevance, and potential insights, we condensed the dataset to 19 key columns, thereby sharpening our focus and enhancing the effectiveness of our dimensional model analysis. This refined approach ensures we target the most relevant data for our analytical goals.\n"
   ]
  },
  {
   "cell_type": "markdown",
   "id": "194f13fa-cf27-46b4-9bcd-9fdd58a9f93e",
   "metadata": {},
   "source": [
    "## Removing Unwanted Columns"
   ]
  },
  {
   "cell_type": "markdown",
   "id": "3fd97267-8c1c-4105-b07e-c316f4a2cd1a",
   "metadata": {},
   "source": [
    "Keeping only those columns which are part of the dimension model"
   ]
  },
  {
   "cell_type": "code",
   "execution_count": 2,
   "id": "2167e03b-7667-49f1-a845-8d84f8d7f6b6",
   "metadata": {},
   "outputs": [],
   "source": [
    "!csvcut -c TARGET,AMT_INCOME_TOTAL,AMT_CREDIT,AMT_REQ_CREDIT_BUREAU_HOUR,AMT_REQ_CREDIT_BUREAU_DAY,FLAG_MOBIL,FLAG_EMAIL,FLAG_CONT_MOBILE,SK_ID_CURR,NAME_CONTRACT_TYPE,AMT_ANNUITY,CODE_GENDER,NAME_INCOME_TYPE,NAME_EDUCATION_TYPE,NAME_FAMILY_STATUS,NAME_HOUSING_TYPE,OCCUPATION_TYPE,CNT_CHILDREN,DAYS_BIRTH application_data.csv > application_data2.csv "
   ]
  },
  {
   "cell_type": "markdown",
   "id": "09b23ef0-5c22-45f2-94c4-e45f84a876d7",
   "metadata": {},
   "source": [
    "Here is the list of the 19 selected columns we use in the project "
   ]
  },
  {
   "cell_type": "markdown",
   "id": "bcb0c492-274a-4ed4-bf41-1667488021af",
   "metadata": {},
   "source": [
    "We store them in a new datatset names application_data2.csv"
   ]
  },
  {
   "cell_type": "code",
   "execution_count": 3,
   "id": "15dcea3f-8c92-4f6c-b5d6-ad95c4e62a56",
   "metadata": {},
   "outputs": [
    {
     "name": "stdout",
     "output_type": "stream",
     "text": [
      "  1: TARGET\n",
      "  2: AMT_INCOME_TOTAL\n",
      "  3: AMT_CREDIT\n",
      "  4: AMT_REQ_CREDIT_BUREAU_HOUR\n",
      "  5: AMT_REQ_CREDIT_BUREAU_DAY\n",
      "  6: FLAG_MOBIL\n",
      "  7: FLAG_EMAIL\n",
      "  8: FLAG_CONT_MOBILE\n",
      "  9: SK_ID_CURR\n",
      " 10: NAME_CONTRACT_TYPE\n",
      " 11: AMT_ANNUITY\n",
      " 12: CODE_GENDER\n",
      " 13: NAME_INCOME_TYPE\n",
      " 14: NAME_EDUCATION_TYPE\n",
      " 15: NAME_FAMILY_STATUS\n",
      " 16: NAME_HOUSING_TYPE\n",
      " 17: OCCUPATION_TYPE\n",
      " 18: CNT_CHILDREN\n",
      " 19: DAYS_BIRTH\n"
     ]
    }
   ],
   "source": [
    "!csvcut -n application_data2.csv"
   ]
  },
  {
   "cell_type": "code",
   "execution_count": 4,
   "id": "079e8bf3-d867-4405-b9ac-fd25eafceccf",
   "metadata": {},
   "outputs": [
    {
     "name": "stdout",
     "output_type": "stream",
     "text": [
      "No errors.\n"
     ]
    }
   ],
   "source": [
    "!csvclean -n application_data2.csv"
   ]
  },
  {
   "cell_type": "code",
   "execution_count": 5,
   "id": "0b5c3924-1fc7-4419-96e2-69df5ae2f52e",
   "metadata": {},
   "outputs": [
    {
     "name": "stdout",
     "output_type": "stream",
     "text": [
      "/home/ubuntu/.local/lib/python3.8/site-packages/agate/table/from_csv.py:74: RuntimeWarning: Error sniffing CSV dialect: Could not determine delimiter\n",
      "  1. \"TARGET\"\n",
      "\n",
      "\tType of data:          Boolean\n",
      "\tContains null values:  False\n",
      "\tUnique values:         2\n",
      "\tMost common values:    False (282686x)\n",
      "\t                       True (24825x)\n",
      "\n",
      "  2. \"AMT_INCOME_TOTAL\"\n",
      "\n",
      "\tType of data:          Number\n",
      "\tContains null values:  False\n",
      "\tUnique values:         2548\n",
      "\tSmallest value:        25650\n",
      "\tLargest value:         117000000\n",
      "\tSum:                   51907216960.935\n",
      "\tMean:                  168797.919\n",
      "\tMedian:                147150\n",
      "\tStDev:                 237123.146\n",
      "\tMost common values:    135000 (35750x)\n",
      "\t                       112500 (31019x)\n",
      "\t                       157500 (26556x)\n",
      "\t                       180000 (24719x)\n",
      "\t                       90000 (22483x)\n",
      "\n",
      "  3. \"AMT_CREDIT\"\n",
      "\n",
      "\tType of data:          Number\n",
      "\tContains null values:  False\n",
      "\tUnique values:         5603\n",
      "\tSmallest value:        45000\n",
      "\tLargest value:         4050000\n",
      "\tSum:                   184207084195.5\n",
      "\tMean:                  599026\n",
      "\tMedian:                513531\n",
      "\tStDev:                 402490.777\n",
      "\tMost common values:    450000 (9709x)\n",
      "\t                       675000 (8877x)\n",
      "\t                       225000 (8162x)\n",
      "\t                       180000 (7342x)\n",
      "\t                       270000 (7241x)\n",
      "\n",
      "  4. \"AMT_REQ_CREDIT_BUREAU_HOUR\"\n",
      "\n",
      "\tType of data:          Number\n",
      "\tContains null values:  True (excluded from calculations)\n",
      "\tUnique values:         6\n",
      "\tSmallest value:        0\n",
      "\tLargest value:         4\n",
      "\tSum:                   1703\n",
      "\tMean:                  0.006\n",
      "\tMedian:                0\n",
      "\tStDev:                 0.084\n",
      "\tMost common values:    0 (264366x)\n",
      "\t                       None (41519x)\n",
      "\t                       1 (1560x)\n",
      "\t                       2 (56x)\n",
      "\t                       3 (9x)\n",
      "\n",
      "  5. \"AMT_REQ_CREDIT_BUREAU_DAY\"\n",
      "\n",
      "\tType of data:          Number\n",
      "\tContains null values:  True (excluded from calculations)\n",
      "\tUnique values:         10\n",
      "\tSmallest value:        0\n",
      "\tLargest value:         9\n",
      "\tSum:                   1862\n",
      "\tMean:                  0.007\n",
      "\tMedian:                0\n",
      "\tStDev:                 0.111\n",
      "\tMost common values:    0 (264503x)\n",
      "\t                       None (41519x)\n",
      "\t                       1 (1292x)\n",
      "\t                       2 (106x)\n",
      "\t                       3 (45x)\n",
      "\n",
      "  6. \"FLAG_MOBIL\"\n",
      "\n",
      "\tType of data:          Boolean\n",
      "\tContains null values:  False\n",
      "\tUnique values:         2\n",
      "\tMost common values:    True (307510x)\n",
      "\t                       False (1x)\n",
      "\n",
      "  7. \"FLAG_EMAIL\"\n",
      "\n",
      "\tType of data:          Boolean\n",
      "\tContains null values:  False\n",
      "\tUnique values:         2\n",
      "\tMost common values:    False (290069x)\n",
      "\t                       True (17442x)\n",
      "\n",
      "  8. \"FLAG_CONT_MOBILE\"\n",
      "\n",
      "\tType of data:          Boolean\n",
      "\tContains null values:  False\n",
      "\tUnique values:         2\n",
      "\tMost common values:    True (306937x)\n",
      "\t                       False (574x)\n",
      "\n",
      "  9. \"SK_ID_CURR\"\n",
      "\n",
      "\tType of data:          Number\n",
      "\tContains null values:  False\n",
      "\tUnique values:         307511\n",
      "\tSmallest value:        100002\n",
      "\tLargest value:         456255\n",
      "\tSum:                   85543569448\n",
      "\tMean:                  278180.519\n",
      "\tMedian:                278202\n",
      "\tStDev:                 102790.175\n",
      "\tMost common values:    100002 (1x)\n",
      "\t                       100003 (1x)\n",
      "\t                       100004 (1x)\n",
      "\t                       100006 (1x)\n",
      "\t                       100007 (1x)\n",
      "\n",
      " 10. \"NAME_CONTRACT_TYPE\"\n",
      "\n",
      "\tType of data:          Text\n",
      "\tContains null values:  False\n",
      "\tUnique values:         2\n",
      "\tLongest value:         15 characters\n",
      "\tMost common values:    Cash loans (278232x)\n",
      "\t                       Revolving loans (29279x)\n",
      "\n",
      " 11. \"AMT_ANNUITY\"\n",
      "\n",
      "\tType of data:          Number\n",
      "\tContains null values:  True (excluded from calculations)\n",
      "\tUnique values:         13673\n",
      "\tSmallest value:        1615.5\n",
      "\tLargest value:         258025.5\n",
      "\tSum:                   8335859368.5\n",
      "\tMean:                  27108.574\n",
      "\tMedian:                24903\n",
      "\tStDev:                 14493.737\n",
      "\tMost common values:    9000 (6385x)\n",
      "\t                       13500 (5514x)\n",
      "\t                       6750 (2279x)\n",
      "\t                       10125 (2035x)\n",
      "\t                       37800 (1602x)\n",
      "\n",
      " 12. \"CODE_GENDER\"\n",
      "\n",
      "\tType of data:          Text\n",
      "\tContains null values:  False\n",
      "\tUnique values:         3\n",
      "\tLongest value:         3 characters\n",
      "\tMost common values:    F (202448x)\n",
      "\t                       M (105059x)\n",
      "\t                       XNA (4x)\n",
      "\n",
      " 13. \"NAME_INCOME_TYPE\"\n",
      "\n",
      "\tType of data:          Text\n",
      "\tContains null values:  False\n",
      "\tUnique values:         8\n",
      "\tLongest value:         20 characters\n",
      "\tMost common values:    Working (158774x)\n",
      "\t                       Commercial associate (71617x)\n",
      "\t                       Pensioner (55362x)\n",
      "\t                       State servant (21703x)\n",
      "\t                       Unemployed (22x)\n",
      "\n",
      " 14. \"NAME_EDUCATION_TYPE\"\n",
      "\n",
      "\tType of data:          Text\n",
      "\tContains null values:  False\n",
      "\tUnique values:         5\n",
      "\tLongest value:         29 characters\n",
      "\tMost common values:    Secondary / secondary special (218391x)\n",
      "\t                       Higher education (74863x)\n",
      "\t                       Incomplete higher (10277x)\n",
      "\t                       Lower secondary (3816x)\n",
      "\t                       Academic degree (164x)\n",
      "\n",
      " 15. \"NAME_FAMILY_STATUS\"\n",
      "\n",
      "\tType of data:          Text\n",
      "\tContains null values:  False\n",
      "\tUnique values:         6\n",
      "\tLongest value:         20 characters\n",
      "\tMost common values:    Married (196432x)\n",
      "\t                       Single / not married (45444x)\n",
      "\t                       Civil marriage (29775x)\n",
      "\t                       Separated (19770x)\n",
      "\t                       Widow (16088x)\n",
      "\n",
      " 16. \"NAME_HOUSING_TYPE\"\n",
      "\n",
      "\tType of data:          Text\n",
      "\tContains null values:  False\n",
      "\tUnique values:         6\n",
      "\tLongest value:         19 characters\n",
      "\tMost common values:    House / apartment (272868x)\n",
      "\t                       With parents (14840x)\n",
      "\t                       Municipal apartment (11183x)\n",
      "\t                       Rented apartment (4881x)\n",
      "\t                       Office apartment (2617x)\n",
      "\n",
      " 17. \"OCCUPATION_TYPE\"\n",
      "\n",
      "\tType of data:          Text\n",
      "\tContains null values:  True (excluded from calculations)\n",
      "\tUnique values:         19\n",
      "\tLongest value:         21 characters\n",
      "\tMost common values:    None (96391x)\n",
      "\t                       Laborers (55186x)\n",
      "\t                       Sales staff (32102x)\n",
      "\t                       Core staff (27570x)\n",
      "\t                       Managers (21371x)\n",
      "\n",
      " 18. \"CNT_CHILDREN\"\n",
      "\n",
      "\tType of data:          Number\n",
      "\tContains null values:  False\n",
      "\tUnique values:         15\n",
      "\tSmallest value:        0\n",
      "\tLargest value:         19\n",
      "\tSum:                   128248\n",
      "\tMean:                  0.417\n",
      "\tMedian:                0\n",
      "\tStDev:                 0.722\n",
      "\tMost common values:    0 (215371x)\n",
      "\t                       1 (61119x)\n",
      "\t                       2 (26749x)\n",
      "\t                       3 (3717x)\n",
      "\t                       4 (429x)\n",
      "\n",
      " 19. \"DAYS_BIRTH\"\n",
      "\n",
      "\tType of data:          Number\n",
      "\tContains null values:  False\n",
      "\tUnique values:         17460\n",
      "\tSmallest value:        -25229\n",
      "\tLargest value:         -7489\n",
      "\tSum:                   -4931552390\n",
      "\tMean:                  -16036.995\n",
      "\tMedian:                -15750\n",
      "\tStDev:                 4363.989\n",
      "\tMost common values:    -13749 (43x)\n",
      "\t                       -13481 (42x)\n",
      "\t                       -18248 (41x)\n",
      "\t                       -10020 (41x)\n",
      "\t                       -10292 (40x)\n",
      "\n",
      "Row count: 307511\n"
     ]
    }
   ],
   "source": [
    "!csvcut application_data2.csv | csvstat"
   ]
  },
  {
   "cell_type": "markdown",
   "id": "37b62bed-536a-4df7-8f70-1b6153917ef5",
   "metadata": {},
   "source": [
    "Using csvstat to know the detail of each column in csv file"
   ]
  },
  {
   "cell_type": "markdown",
   "id": "bd2e749d-577e-4dae-a30d-38c38c1aa37c",
   "metadata": {},
   "source": [
    "# Schema "
   ]
  },
  {
   "cell_type": "code",
   "execution_count": 6,
   "id": "6bbf88c0-0f8a-43c5-a708-6b481f6c9cfa",
   "metadata": {},
   "outputs": [
    {
     "data": {
      "text/html": [
       "<img src=\"https://github.com/zilingli1/Data-Wrangling-Project-/blob/main/Dimensional.png?raw=true\"/>"
      ],
      "text/plain": [
       "<IPython.core.display.Image object>"
      ]
     },
     "execution_count": 6,
     "metadata": {},
     "output_type": "execute_result"
    }
   ],
   "source": [
    "from IPython.display import Image\n",
    "Image(url=\"https://github.com/zilingli1/Data-Wrangling-Project-/blob/main/Dimensional.png?raw=true\")"
   ]
  },
  {
   "cell_type": "markdown",
   "id": "ff5bdd22-c4a4-4d58-8de4-e597bc780330",
   "metadata": {},
   "source": [
    "# Column Description "
   ]
  },
  {
   "cell_type": "markdown",
   "id": "67714972-5519-4809-85ec-bbe4ce99c6fb",
   "metadata": {},
   "source": [
    "* `Taget`: The 'Target' column in our dataset is crucial for understanding clients' loan repayment behavior. This column does not have any missing values, ensuring the completeness and reliability of our analysis. It stores values of either 1 or 0, where 1 indicates clients who are experiencing payment difficulties, and 0 represents clients who are managing their loan repayments without any issues. For analytical purposes, we use a derived equation based on the 'Target' variable to calculate the default rate. This approach allows us to quantitatively assess the risk of loan defaults. In our analyses, therefore, the 'Target' variable is treated as a numeric measure that helps in evaluating the financial stability and reliability of clients.\n",
    "\n",
    "* `AMT_INCOME_TOTAL_GROUP`: There are no missing values in AMT_INCOME_TOTAL_Group. This column describes the income of client. Since the income has a range from 25,650 to 117,000,000 with either whole numbers or one decimal, we assume that they are monthly income provided by the client for the loan. We decided to group the income into 4 income level groups and name it as amt_income_total_group to store it in the client demographic dimension table.\n",
    "\n",
    "* `AMT_CREDIT_GROUP`: There are no missing values in AMT_CREDIT. AMT_CREDIT stores the credit amount to the loan. AMT_CREDIT ranging from 45,000 to 4,050,00 with either whole numbers or one decimal number. We decided to group them into 5 credit level groups and name it as amt_credit_group to store in the loan dimension table.\n",
    "\n",
    "* `AMT_CREDIT_BUREAU_HOUR_GROUP`: Number of enquiries to Credit Bureau about the client one hour before application\n",
    "\n",
    "* `AMT_CREDIT_BUREAU_DAY_GROUP`: Number of enquiries to Credit Bureau about the client one day before application (excluding one hour before application)\n",
    "\n",
    "* `FLAG_MOBIL`: There are no missing values in FLAG_MOBLE. FLAG_MOBIL records whether client provided the mobile number when applying for the loan. 0 and 1 are the only values in this column with 1 represents mobile number provided and 0 represents mobile did not provide.\n",
    "\n",
    "* `FLAG_EMAIL`: There are no missing values in FLAG_EMAIL. FLAG_EMAIL records whether client provided the email when applying for the loan. 0 and 1 are the only values in this column with 1 represents a provided email and 0 represents email address did not provide.\n",
    "\n",
    "* `FLAG_CONT_MOBILE`: There are no missing values in this column. Was mobile phone that custumer provided reachable or not? (1=YES, 0=NO)\n",
    "\n",
    "* `SK_ID_CURR`: There are no missing values in this column. SK_ID_CURR is the UNIQUE loanID for each loan entry.\n",
    "\n",
    "* `NAME_CONTRACT_TYPE`: There are no missing values in this column. Cash loans and revolving loans are the two inputs in this column.\n",
    "\n",
    "* `AMT_ANNUITY`: There are missing values in this column and we replace them as NULL. AMT_ANNUITY is the annuity on the loan that needs to be paid by the client. AMT_ANNUITY ranging from 1615.5 to 258025.5 with either whole numbers or one decimal number. We grouped this column into 6 annuity level groups and name it as amt_annuity_group to store in the loan dimension table.\n",
    "\n",
    "* `CODE_GENDER`: There are no missing values in this column. 'M', 'F', and 'XNA' are the 3 inputs included in this column.\n",
    "\n",
    "* `NAME_INCOME_TYPE`: There are no missing values in this column. 'working', 'state servant', 'commerical associate', 'pensioner', 'unemployed', 'student', 'businessman', and 'maternity leave' are the 8 inputs in this column.\n",
    "\n",
    "* `NAME_EDUCATION_TYPE`: There are no missing values in this column. 'Secondary / secondary special', 'Higher education', 'Incomplete higher', 'Lower secondary', and 'Academic degree' are the 5 inputs in this column.\n",
    "\n",
    "* `NAME_FAMILY_STATUS`: There are no missing values in this column. 'Single / not married', 'Married', 'Civil marriage', 'Widow', 'Separated', and 'Unknown' are the 6 inputs in this column.\n",
    "\n",
    "* `NAME_HOUSING_TYPE`: There are no missing values in this column. 'House / apartment', 'Rented apartment', 'With parents', 'Municipal apartment', 'Office apartment', and 'Co-op apartment' are the 6 housing types.\n",
    "\n",
    "* `OCCUPATION_TYPE`: There are missing values in this column and we replace them as NULL. 18 occupations are included in this column.\n",
    "\n",
    "* `CNT_CHILDREN`: There are no missing values in this column. CNT_CHILDREN records number of children the client has, and it ranges from 0 to 19. We grouped CNT_CHILDREN into 3 children level groups and name it as cnt_children_group to store it in the client dimension table.\n",
    "\n",
    "* `DAYS_BIRTH`: There are no missing values in this column. DAYS_BIRTH records the client's age in days at the time of the application. We divided the values by 365 to get the expected client's age and grouped the whole age number into 5 age groups and store it in the client dimension table."
   ]
  },
  {
   "cell_type": "markdown",
   "id": "8ec62887-de8e-45d9-b907-83fed5a9d3b5",
   "metadata": {},
   "source": [
    "Modified columns in data wrangling:\n",
    "* amt_income_total_group\n",
    "* amt_credit_group\n",
    "* amt_annuity_group\n",
    "* cnt_children_group\n",
    "* days_birth_group \n",
    "* amt_req_credit_bureau_hour_group\n",
    "* amt_req_credit_bureau_day_group"
   ]
  },
  {
   "cell_type": "markdown",
   "id": "19bf33ff-e07b-4cf9-83a8-1ba494ecc108",
   "metadata": {},
   "source": [
    "# Set up the database and create the table "
   ]
  },
  {
   "cell_type": "markdown",
   "id": "0e7450ed-bfb3-42e0-a0f9-fa4279d4ed0b",
   "metadata": {},
   "source": [
    "Dropping Final_Project Database if it exist"
   ]
  },
  {
   "cell_type": "code",
   "execution_count": 7,
   "id": "8a085864-94b9-47ef-a0e0-ea222859535b",
   "metadata": {},
   "outputs": [],
   "source": [
    "!dropdb -U student Final_Project"
   ]
  },
  {
   "cell_type": "markdown",
   "id": "27a757d8-4c3d-4b91-bb92-fd437f5b67b0",
   "metadata": {},
   "source": [
    "Creating database Final_Project"
   ]
  },
  {
   "cell_type": "code",
   "execution_count": 8,
   "id": "ba6dfb51-fb72-4818-b70a-6c2642277ee5",
   "metadata": {},
   "outputs": [],
   "source": [
    "!createdb -U student Final_Project"
   ]
  },
  {
   "cell_type": "markdown",
   "id": "93e8de32-f815-43c8-9341-41b9acb4a98b",
   "metadata": {},
   "source": [
    "The ipython-sql library is loaded using the %load_ext iPython extension syntax and is pointed to the connection object "
   ]
  },
  {
   "cell_type": "code",
   "execution_count": 9,
   "id": "eeff18d8-80d5-4ecb-895b-169e0ffdfe53",
   "metadata": {},
   "outputs": [],
   "source": [
    "%load_ext sql"
   ]
  },
  {
   "cell_type": "code",
   "execution_count": 10,
   "id": "0f3d77ac-6965-4637-9604-09105dc01335",
   "metadata": {},
   "outputs": [],
   "source": [
    "%sql postgresql://student@/Final_Project"
   ]
  },
  {
   "cell_type": "code",
   "execution_count": 11,
   "id": "b677b709-6b28-41cb-a136-1a2153af14a1",
   "metadata": {},
   "outputs": [
    {
     "name": "stdout",
     "output_type": "stream",
     "text": [
      "psql (PostgreSQL) 12.17 (Ubuntu 12.17-0ubuntu0.20.04.1)\n"
     ]
    }
   ],
   "source": [
    "!psql --version"
   ]
  },
  {
   "cell_type": "markdown",
   "id": "2b54174b-a7c9-4541-bec1-bb9f5ad53218",
   "metadata": {},
   "source": [
    "Creating Application_Data Table"
   ]
  },
  {
   "cell_type": "code",
   "execution_count": 12,
   "id": "0df32e9d-5c7f-41f3-840f-d418d8c8466c",
   "metadata": {},
   "outputs": [
    {
     "name": "stdout",
     "output_type": "stream",
     "text": [
      " * postgresql://student@/Final_Project\n",
      "Done.\n",
      "Done.\n"
     ]
    },
    {
     "data": {
      "text/plain": [
       "[]"
      ]
     },
     "execution_count": 12,
     "metadata": {},
     "output_type": "execute_result"
    }
   ],
   "source": [
    "%%sql\n",
    "DROP TABLE IF EXISTS APPLICATION_DATA Cascade;\n",
    "\n",
    "CREATE TABLE APPLICATION_DATA (\n",
    "    TARGET NUMERIC(1) NOT NULL,\n",
    "    AMT_INCOME_TOTAL DECIMAL(10,1) NOT NULL,\n",
    "    AMT_CREDIT DECIMAL(10,1) NOT NULL,\n",
    "    AMT_REQ_CREDIT_BUREAU_HOUR NUMERIC(5),\n",
    "    AMT_REQ_CREDIT_BUREAU_DAY NUMERIC(5),\n",
    "    FLAG_MOBIL CHAR(1) NOT NULL,\n",
    "    FLAG_EMAIL CHAR(1) NOT NULL,\n",
    "    FLAG_CONT_MOBILE CHAR(1) NOT NULL,\n",
    "    SK_ID_CURR NUMERIC(6) NOT NULL,\n",
    "    NAME_CONTRACT_TYPE VARCHAR(15) NOT NULL,\n",
    "    AMT_ANNUITY DECIMAL(8,1),\n",
    "    CODE_GENDER VARCHAR(3) NOT NULL,\n",
    "    NAME_INCOME_TYPE VARCHAR(20) NOT NULL,\n",
    "    NAME_EDUCATION_TYPE VARCHAR(29) NOT NULL,\n",
    "    NAME_FAMILY_STATUS VARCHAR(20) NOT NULL,\n",
    "    NAME_HOUSING_TYPE VARCHAR(19) NOT NULL,\n",
    "    OCCUPATION_TYPE VARCHAR(21),\n",
    "    CNT_CHILDREN NUMERIC(2) NOT NULL,\n",
    "    DAYS_BIRTH NUMERIC(5) NOT NULL\n",
    ");"
   ]
  },
  {
   "cell_type": "markdown",
   "id": "f28d0338-9683-4e79-bd72-c50ebc9de8df",
   "metadata": {},
   "source": [
    "comment:\n",
    "\n",
    "We decide to treat the columns `FLAG_MOBIL`, `FLAG_EMAIL`, and `FLAG_CONT_MOBILE` as `CHAR(1)` instead of boolean (`BOOLEAN`) in the dimension table and analytical questions can offer certain benefits:\n",
    "\n",
    "1. **Clarity in Dimension Table**:\n",
    "   - Using `CHAR(1)` provides more explicit information in the dimension table. The values '0' and '1' in `CHAR(1)` indicate the absence and presence of a feature, respectively. This clarity can help users easily understand the meaning of these columns without prior knowledge of boolean conventions.\n",
    "\n",
    "5. **Flexible for Future Needs**:\n",
    "   - Treating these columns as `CHAR(1)` offers flexibility. If there is a need to expand the encoding beyond binary values ('0' and '1') to represent additional states or categories in the future, using character data allows for such expansion without major schema changes.\n",
    "\n",
    "6. **Ease of Reporting and Visualization**:\n",
    "   - Character values can be more informative when generating reports or visualizations. They can be easily labeled in a user-friendly way, making it simpler for stakeholders to understand the data and results.\n",
    "\n"
   ]
  },
  {
   "cell_type": "markdown",
   "id": "66d0d1dc-e139-4264-9963-8b43ed4750c1",
   "metadata": {},
   "source": [
    "Loading contents of application_data.csv into application_data sql table"
   ]
  },
  {
   "cell_type": "code",
   "execution_count": 13,
   "id": "a44714bd-3b23-4733-9580-aa2c05b158d7",
   "metadata": {},
   "outputs": [
    {
     "name": "stdout",
     "output_type": "stream",
     "text": [
      " * postgresql://student@/Final_Project\n",
      "307511 rows affected.\n"
     ]
    },
    {
     "data": {
      "text/plain": [
       "[]"
      ]
     },
     "execution_count": 13,
     "metadata": {},
     "output_type": "execute_result"
    }
   ],
   "source": [
    "%%sql\n",
    "COPY APPLICATION_DATA FROM '/home/ubuntu/notebooks/Final_project/application_data2.csv' \n",
    "CSV\n",
    "HEADER;"
   ]
  },
  {
   "cell_type": "markdown",
   "id": "5d762579-74e6-4c58-8dce-53bb401e1255",
   "metadata": {},
   "source": [
    "Checking the Total Number of Rows are same in csv file and sql table"
   ]
  },
  {
   "cell_type": "markdown",
   "id": "a0757370-2da6-41d7-8148-e4995cafb4f7",
   "metadata": {},
   "source": [
    "Becasue of headers the count of csv will be greater by 1 in sql table"
   ]
  },
  {
   "cell_type": "code",
   "execution_count": 14,
   "id": "6c074893-1ec2-4bac-b9c6-4ed17194d6a7",
   "metadata": {},
   "outputs": [
    {
     "name": "stdout",
     "output_type": "stream",
     "text": [
      " * postgresql://student@/Final_Project\n",
      "1 rows affected.\n"
     ]
    },
    {
     "data": {
      "text/html": [
       "<table>\n",
       "    <thead>\n",
       "        <tr>\n",
       "            <th>count</th>\n",
       "        </tr>\n",
       "    </thead>\n",
       "    <tbody>\n",
       "        <tr>\n",
       "            <td>307511</td>\n",
       "        </tr>\n",
       "    </tbody>\n",
       "</table>"
      ],
      "text/plain": [
       "[(307511,)]"
      ]
     },
     "execution_count": 14,
     "metadata": {},
     "output_type": "execute_result"
    }
   ],
   "source": [
    "%%sql\n",
    "SELECT COUNT(*) FROM APPLICATION_DATA;"
   ]
  },
  {
   "cell_type": "code",
   "execution_count": 15,
   "id": "0bf243ab-9825-473f-9051-3b4620614317",
   "metadata": {},
   "outputs": [
    {
     "name": "stdout",
     "output_type": "stream",
     "text": [
      "307512 application_data2.csv\n"
     ]
    }
   ],
   "source": [
    "!wc -l application_data2.csv"
   ]
  },
  {
   "cell_type": "code",
   "execution_count": 16,
   "id": "fff5a4fd-7940-459e-bae1-effffbdc5c99",
   "metadata": {},
   "outputs": [
    {
     "name": "stdout",
     "output_type": "stream",
     "text": [
      " * postgresql://student@/Final_Project\n",
      "10 rows affected.\n"
     ]
    },
    {
     "data": {
      "text/html": [
       "<table>\n",
       "    <thead>\n",
       "        <tr>\n",
       "            <th>target</th>\n",
       "            <th>amt_income_total</th>\n",
       "            <th>amt_credit</th>\n",
       "            <th>amt_req_credit_bureau_hour</th>\n",
       "            <th>amt_req_credit_bureau_day</th>\n",
       "            <th>flag_mobil</th>\n",
       "            <th>flag_email</th>\n",
       "            <th>flag_cont_mobile</th>\n",
       "            <th>sk_id_curr</th>\n",
       "            <th>name_contract_type</th>\n",
       "            <th>amt_annuity</th>\n",
       "            <th>code_gender</th>\n",
       "            <th>name_income_type</th>\n",
       "            <th>name_education_type</th>\n",
       "            <th>name_family_status</th>\n",
       "            <th>name_housing_type</th>\n",
       "            <th>occupation_type</th>\n",
       "            <th>cnt_children</th>\n",
       "            <th>days_birth</th>\n",
       "        </tr>\n",
       "    </thead>\n",
       "    <tbody>\n",
       "        <tr>\n",
       "            <td>1</td>\n",
       "            <td>202500.0</td>\n",
       "            <td>406597.5</td>\n",
       "            <td>0</td>\n",
       "            <td>0</td>\n",
       "            <td>1</td>\n",
       "            <td>0</td>\n",
       "            <td>1</td>\n",
       "            <td>100002</td>\n",
       "            <td>Cash loans</td>\n",
       "            <td>24700.5</td>\n",
       "            <td>M</td>\n",
       "            <td>Working</td>\n",
       "            <td>Secondary / secondary special</td>\n",
       "            <td>Single / not married</td>\n",
       "            <td>House / apartment</td>\n",
       "            <td>Laborers</td>\n",
       "            <td>0</td>\n",
       "            <td>-9461</td>\n",
       "        </tr>\n",
       "        <tr>\n",
       "            <td>0</td>\n",
       "            <td>270000.0</td>\n",
       "            <td>1293502.5</td>\n",
       "            <td>0</td>\n",
       "            <td>0</td>\n",
       "            <td>1</td>\n",
       "            <td>0</td>\n",
       "            <td>1</td>\n",
       "            <td>100003</td>\n",
       "            <td>Cash loans</td>\n",
       "            <td>35698.5</td>\n",
       "            <td>F</td>\n",
       "            <td>State servant</td>\n",
       "            <td>Higher education</td>\n",
       "            <td>Married</td>\n",
       "            <td>House / apartment</td>\n",
       "            <td>Core staff</td>\n",
       "            <td>0</td>\n",
       "            <td>-16765</td>\n",
       "        </tr>\n",
       "        <tr>\n",
       "            <td>0</td>\n",
       "            <td>67500.0</td>\n",
       "            <td>135000.0</td>\n",
       "            <td>0</td>\n",
       "            <td>0</td>\n",
       "            <td>1</td>\n",
       "            <td>0</td>\n",
       "            <td>1</td>\n",
       "            <td>100004</td>\n",
       "            <td>Revolving loans</td>\n",
       "            <td>6750.0</td>\n",
       "            <td>M</td>\n",
       "            <td>Working</td>\n",
       "            <td>Secondary / secondary special</td>\n",
       "            <td>Single / not married</td>\n",
       "            <td>House / apartment</td>\n",
       "            <td>Laborers</td>\n",
       "            <td>0</td>\n",
       "            <td>-19046</td>\n",
       "        </tr>\n",
       "        <tr>\n",
       "            <td>0</td>\n",
       "            <td>135000.0</td>\n",
       "            <td>312682.5</td>\n",
       "            <td>None</td>\n",
       "            <td>None</td>\n",
       "            <td>1</td>\n",
       "            <td>0</td>\n",
       "            <td>1</td>\n",
       "            <td>100006</td>\n",
       "            <td>Cash loans</td>\n",
       "            <td>29686.5</td>\n",
       "            <td>F</td>\n",
       "            <td>Working</td>\n",
       "            <td>Secondary / secondary special</td>\n",
       "            <td>Civil marriage</td>\n",
       "            <td>House / apartment</td>\n",
       "            <td>Laborers</td>\n",
       "            <td>0</td>\n",
       "            <td>-19005</td>\n",
       "        </tr>\n",
       "        <tr>\n",
       "            <td>0</td>\n",
       "            <td>121500.0</td>\n",
       "            <td>513000.0</td>\n",
       "            <td>0</td>\n",
       "            <td>0</td>\n",
       "            <td>1</td>\n",
       "            <td>0</td>\n",
       "            <td>1</td>\n",
       "            <td>100007</td>\n",
       "            <td>Cash loans</td>\n",
       "            <td>21865.5</td>\n",
       "            <td>M</td>\n",
       "            <td>Working</td>\n",
       "            <td>Secondary / secondary special</td>\n",
       "            <td>Single / not married</td>\n",
       "            <td>House / apartment</td>\n",
       "            <td>Core staff</td>\n",
       "            <td>0</td>\n",
       "            <td>-19932</td>\n",
       "        </tr>\n",
       "        <tr>\n",
       "            <td>0</td>\n",
       "            <td>99000.0</td>\n",
       "            <td>490495.5</td>\n",
       "            <td>0</td>\n",
       "            <td>0</td>\n",
       "            <td>1</td>\n",
       "            <td>0</td>\n",
       "            <td>1</td>\n",
       "            <td>100008</td>\n",
       "            <td>Cash loans</td>\n",
       "            <td>27517.5</td>\n",
       "            <td>M</td>\n",
       "            <td>State servant</td>\n",
       "            <td>Secondary / secondary special</td>\n",
       "            <td>Married</td>\n",
       "            <td>House / apartment</td>\n",
       "            <td>Laborers</td>\n",
       "            <td>0</td>\n",
       "            <td>-16941</td>\n",
       "        </tr>\n",
       "        <tr>\n",
       "            <td>0</td>\n",
       "            <td>171000.0</td>\n",
       "            <td>1560726.0</td>\n",
       "            <td>0</td>\n",
       "            <td>0</td>\n",
       "            <td>1</td>\n",
       "            <td>0</td>\n",
       "            <td>1</td>\n",
       "            <td>100009</td>\n",
       "            <td>Cash loans</td>\n",
       "            <td>41301.0</td>\n",
       "            <td>F</td>\n",
       "            <td>Commercial associate</td>\n",
       "            <td>Higher education</td>\n",
       "            <td>Married</td>\n",
       "            <td>House / apartment</td>\n",
       "            <td>Accountants</td>\n",
       "            <td>1</td>\n",
       "            <td>-13778</td>\n",
       "        </tr>\n",
       "        <tr>\n",
       "            <td>0</td>\n",
       "            <td>360000.0</td>\n",
       "            <td>1530000.0</td>\n",
       "            <td>0</td>\n",
       "            <td>0</td>\n",
       "            <td>1</td>\n",
       "            <td>0</td>\n",
       "            <td>1</td>\n",
       "            <td>100010</td>\n",
       "            <td>Cash loans</td>\n",
       "            <td>42075.0</td>\n",
       "            <td>M</td>\n",
       "            <td>State servant</td>\n",
       "            <td>Higher education</td>\n",
       "            <td>Married</td>\n",
       "            <td>House / apartment</td>\n",
       "            <td>Managers</td>\n",
       "            <td>0</td>\n",
       "            <td>-18850</td>\n",
       "        </tr>\n",
       "        <tr>\n",
       "            <td>0</td>\n",
       "            <td>112500.0</td>\n",
       "            <td>1019610.0</td>\n",
       "            <td>0</td>\n",
       "            <td>0</td>\n",
       "            <td>1</td>\n",
       "            <td>0</td>\n",
       "            <td>1</td>\n",
       "            <td>100011</td>\n",
       "            <td>Cash loans</td>\n",
       "            <td>33826.5</td>\n",
       "            <td>F</td>\n",
       "            <td>Pensioner</td>\n",
       "            <td>Secondary / secondary special</td>\n",
       "            <td>Married</td>\n",
       "            <td>House / apartment</td>\n",
       "            <td>None</td>\n",
       "            <td>0</td>\n",
       "            <td>-20099</td>\n",
       "        </tr>\n",
       "        <tr>\n",
       "            <td>0</td>\n",
       "            <td>135000.0</td>\n",
       "            <td>405000.0</td>\n",
       "            <td>None</td>\n",
       "            <td>None</td>\n",
       "            <td>1</td>\n",
       "            <td>0</td>\n",
       "            <td>1</td>\n",
       "            <td>100012</td>\n",
       "            <td>Revolving loans</td>\n",
       "            <td>20250.0</td>\n",
       "            <td>M</td>\n",
       "            <td>Working</td>\n",
       "            <td>Secondary / secondary special</td>\n",
       "            <td>Single / not married</td>\n",
       "            <td>House / apartment</td>\n",
       "            <td>Laborers</td>\n",
       "            <td>0</td>\n",
       "            <td>-14469</td>\n",
       "        </tr>\n",
       "    </tbody>\n",
       "</table>"
      ],
      "text/plain": [
       "[(Decimal('1'), Decimal('202500.0'), Decimal('406597.5'), Decimal('0'), Decimal('0'), '1', '0', '1', Decimal('100002'), 'Cash loans', Decimal('24700.5'), 'M', 'Working', 'Secondary / secondary special', 'Single / not married', 'House / apartment', 'Laborers', Decimal('0'), Decimal('-9461')),\n",
       " (Decimal('0'), Decimal('270000.0'), Decimal('1293502.5'), Decimal('0'), Decimal('0'), '1', '0', '1', Decimal('100003'), 'Cash loans', Decimal('35698.5'), 'F', 'State servant', 'Higher education', 'Married', 'House / apartment', 'Core staff', Decimal('0'), Decimal('-16765')),\n",
       " (Decimal('0'), Decimal('67500.0'), Decimal('135000.0'), Decimal('0'), Decimal('0'), '1', '0', '1', Decimal('100004'), 'Revolving loans', Decimal('6750.0'), 'M', 'Working', 'Secondary / secondary special', 'Single / not married', 'House / apartment', 'Laborers', Decimal('0'), Decimal('-19046')),\n",
       " (Decimal('0'), Decimal('135000.0'), Decimal('312682.5'), None, None, '1', '0', '1', Decimal('100006'), 'Cash loans', Decimal('29686.5'), 'F', 'Working', 'Secondary / secondary special', 'Civil marriage', 'House / apartment', 'Laborers', Decimal('0'), Decimal('-19005')),\n",
       " (Decimal('0'), Decimal('121500.0'), Decimal('513000.0'), Decimal('0'), Decimal('0'), '1', '0', '1', Decimal('100007'), 'Cash loans', Decimal('21865.5'), 'M', 'Working', 'Secondary / secondary special', 'Single / not married', 'House / apartment', 'Core staff', Decimal('0'), Decimal('-19932')),\n",
       " (Decimal('0'), Decimal('99000.0'), Decimal('490495.5'), Decimal('0'), Decimal('0'), '1', '0', '1', Decimal('100008'), 'Cash loans', Decimal('27517.5'), 'M', 'State servant', 'Secondary / secondary special', 'Married', 'House / apartment', 'Laborers', Decimal('0'), Decimal('-16941')),\n",
       " (Decimal('0'), Decimal('171000.0'), Decimal('1560726.0'), Decimal('0'), Decimal('0'), '1', '0', '1', Decimal('100009'), 'Cash loans', Decimal('41301.0'), 'F', 'Commercial associate', 'Higher education', 'Married', 'House / apartment', 'Accountants', Decimal('1'), Decimal('-13778')),\n",
       " (Decimal('0'), Decimal('360000.0'), Decimal('1530000.0'), Decimal('0'), Decimal('0'), '1', '0', '1', Decimal('100010'), 'Cash loans', Decimal('42075.0'), 'M', 'State servant', 'Higher education', 'Married', 'House / apartment', 'Managers', Decimal('0'), Decimal('-18850')),\n",
       " (Decimal('0'), Decimal('112500.0'), Decimal('1019610.0'), Decimal('0'), Decimal('0'), '1', '0', '1', Decimal('100011'), 'Cash loans', Decimal('33826.5'), 'F', 'Pensioner', 'Secondary / secondary special', 'Married', 'House / apartment', None, Decimal('0'), Decimal('-20099')),\n",
       " (Decimal('0'), Decimal('135000.0'), Decimal('405000.0'), None, None, '1', '0', '1', Decimal('100012'), 'Revolving loans', Decimal('20250.0'), 'M', 'Working', 'Secondary / secondary special', 'Single / not married', 'House / apartment', 'Laborers', Decimal('0'), Decimal('-14469'))]"
      ]
     },
     "execution_count": 16,
     "metadata": {},
     "output_type": "execute_result"
    }
   ],
   "source": [
    "%%sql\n",
    "SELECT * FROM APPLICATION_DATA\n",
    "LIMIT 10;"
   ]
  },
  {
   "cell_type": "markdown",
   "id": "70a8e66e-777e-4450-8345-121228891e36",
   "metadata": {},
   "source": [
    "# Data Wrangling"
   ]
  },
  {
   "cell_type": "markdown",
   "id": "7d3c3b20-99d6-4d16-8a80-b5cc2d34e627",
   "metadata": {},
   "source": [
    "Creating amt_income_total_group from amt_income_total"
   ]
  },
  {
   "cell_type": "code",
   "execution_count": 17,
   "id": "19dd8470-cfe0-4a1f-9e16-d1465b633efe",
   "metadata": {},
   "outputs": [
    {
     "name": "stdout",
     "output_type": "stream",
     "text": [
      " * postgresql://student@/Final_Project\n",
      "Done.\n"
     ]
    },
    {
     "data": {
      "text/plain": [
       "[]"
      ]
     },
     "execution_count": 17,
     "metadata": {},
     "output_type": "execute_result"
    }
   ],
   "source": [
    "%%sql\n",
    "ALTER TABLE APPLICATION_DATA\n",
    "ADD COLUMN amt_income_total_group VARCHAR(20);"
   ]
  },
  {
   "cell_type": "code",
   "execution_count": 18,
   "id": "8a137618-a786-4ee4-b3b9-112716a6100b",
   "metadata": {},
   "outputs": [
    {
     "name": "stdout",
     "output_type": "stream",
     "text": [
      " * postgresql://student@/Final_Project\n",
      "307511 rows affected.\n"
     ]
    },
    {
     "data": {
      "text/plain": [
       "[]"
      ]
     },
     "execution_count": 18,
     "metadata": {},
     "output_type": "execute_result"
    }
   ],
   "source": [
    "%%sql\n",
    "UPDATE APPLICATION_DATA\n",
    "SET amt_income_total_group=CASE\n",
    "    when amt_income_total<=100000 then '<=100K'\n",
    "    when amt_income_total between 100001 and 150000 then '100K-150K'\n",
    "    when amt_income_total between 150001 and 200000 then '150K-200K'\n",
    "    else '>200K'\n",
    "END;"
   ]
  },
  {
   "cell_type": "markdown",
   "id": "4f04e23f-74ee-405a-b2dd-e54b7b70b9ea",
   "metadata": {},
   "source": [
    "Creating amt_credit_group from amt_credit"
   ]
  },
  {
   "cell_type": "code",
   "execution_count": 19,
   "id": "0cf1e261-b855-4dc1-9029-56a63c40e15b",
   "metadata": {},
   "outputs": [
    {
     "name": "stdout",
     "output_type": "stream",
     "text": [
      " * postgresql://student@/Final_Project\n",
      "Done.\n"
     ]
    },
    {
     "data": {
      "text/plain": [
       "[]"
      ]
     },
     "execution_count": 19,
     "metadata": {},
     "output_type": "execute_result"
    }
   ],
   "source": [
    "%%sql\n",
    "ALTER TABLE APPLICATION_DATA\n",
    "ADD COLUMN amt_credit_group VARCHAR(20);"
   ]
  },
  {
   "cell_type": "code",
   "execution_count": 20,
   "id": "21949ef6-f1f4-47c2-9bdb-14e7047900e4",
   "metadata": {},
   "outputs": [
    {
     "name": "stdout",
     "output_type": "stream",
     "text": [
      " * postgresql://student@/Final_Project\n",
      "307511 rows affected.\n"
     ]
    },
    {
     "data": {
      "text/plain": [
       "[]"
      ]
     },
     "execution_count": 20,
     "metadata": {},
     "output_type": "execute_result"
    }
   ],
   "source": [
    "%%sql\n",
    "UPDATE APPLICATION_DATA\n",
    "SET amt_credit_group=CASE\n",
    "    when amt_credit<=250000 then '<=250K'\n",
    "    when amt_credit between 250001 and 500000 then '250K-500K'\n",
    "    when amt_credit between 500001 and 750000 then  '500K-750K'\n",
    "    when amt_credit between 750001 and 1000000 then '750K-1000K'\n",
    "    else '>1000K'\n",
    "END;"
   ]
  },
  {
   "cell_type": "markdown",
   "id": "7b197ad3-6395-44a4-8185-305608f3e5e1",
   "metadata": {},
   "source": [
    "Creating amt_annuity_group from amt_annuity"
   ]
  },
  {
   "cell_type": "code",
   "execution_count": 21,
   "id": "7d016407-5dec-492e-8038-07123172ec61",
   "metadata": {},
   "outputs": [
    {
     "name": "stdout",
     "output_type": "stream",
     "text": [
      " * postgresql://student@/Final_Project\n",
      "Done.\n"
     ]
    },
    {
     "data": {
      "text/plain": [
       "[]"
      ]
     },
     "execution_count": 21,
     "metadata": {},
     "output_type": "execute_result"
    }
   ],
   "source": [
    "%%sql\n",
    "ALTER TABLE APPLICATION_DATA\n",
    "ADD COLUMN amt_annuity_group VARCHAR(20);"
   ]
  },
  {
   "cell_type": "code",
   "execution_count": 22,
   "id": "2a75deb6-7aff-4be0-88ac-7f2c055d2a09",
   "metadata": {},
   "outputs": [
    {
     "name": "stdout",
     "output_type": "stream",
     "text": [
      " * postgresql://student@/Final_Project\n",
      "307511 rows affected.\n"
     ]
    },
    {
     "data": {
      "text/plain": [
       "[]"
      ]
     },
     "execution_count": 22,
     "metadata": {},
     "output_type": "execute_result"
    }
   ],
   "source": [
    "%%sql\n",
    "UPDATE APPLICATION_DATA\n",
    "SET amt_annuity_group=CASE\n",
    "    when AMT_ANNUITY<=15000 then '<=15K'\n",
    "    when AMT_ANNUITY between 15001 and 25000 then '15K-25K'\n",
    "    when AMT_ANNUITY between 25001 and 35000 then '25K-35K'\n",
    "    when AMT_ANNUITY between 35001 and 45000 then '35K-45K'\n",
    "    when AMT_ANNUITY between 45001 and 55000 then '45K-55K'\n",
    "    else '>55K'\n",
    "END;"
   ]
  },
  {
   "cell_type": "code",
   "execution_count": 23,
   "id": "be600ee4-5fe2-4644-b172-574706ca4e11",
   "metadata": {},
   "outputs": [
    {
     "name": "stdout",
     "output_type": "stream",
     "text": [
      " * postgresql://student@/Final_Project\n",
      "Done.\n"
     ]
    },
    {
     "data": {
      "text/plain": [
       "[]"
      ]
     },
     "execution_count": 23,
     "metadata": {},
     "output_type": "execute_result"
    }
   ],
   "source": [
    "%%sql\n",
    "ALTER TABLE APPLICATION_DATA\n",
    "ADD COLUMN Year_Birth NUMERIC(3),\n",
    "ADD COLUMN Year_Birth_GROUP VARCHAR(20);"
   ]
  },
  {
   "cell_type": "code",
   "execution_count": 24,
   "id": "5a08d61a-0d4d-424d-a991-b816bb5d35af",
   "metadata": {},
   "outputs": [
    {
     "name": "stdout",
     "output_type": "stream",
     "text": [
      " * postgresql://student@/Final_Project\n",
      "307511 rows affected.\n"
     ]
    },
    {
     "data": {
      "text/plain": [
       "[]"
      ]
     },
     "execution_count": 24,
     "metadata": {},
     "output_type": "execute_result"
    }
   ],
   "source": [
    "%%sql\n",
    "UPDATE APPLICATION_DATA\n",
    "SET Year_Birth=round((DAYS_BIRTH*-1)/365)"
   ]
  },
  {
   "cell_type": "markdown",
   "id": "f3df73db-b9c4-4909-b39d-a6278e21ebf0",
   "metadata": {},
   "source": [
    "Cleaning the `DAYS_BIRTH` column and creating `Year_Birth` and `Year_Birth_group` columns has several advantages:\n",
    "\n",
    "1. **Data Clarity**: Converting 'DAYS_BIRTH' to 'Year_Birth' makes the age representation more intuitive and easier to understand. Instead of negative values, we have positive whole numbers representing years.\n",
    "\n",
    "2. **Consistency**: The transformation ensures consistency in representing ages across the dataset, making it easier to work with and interpret.\n",
    "\n",
    "3. **Age Grouping**: The 'Year_Birth' column can be further grouped into age brackets or 'Year_Birth_group,' which is valuable for segmenting and analyzing the data by age ranges.\n",
    "\n",
    "4. **Improved Readability**: The transformed column enhances the readability of the dataset, making it more accessible for analysis and reporting.\n",
    "\n",
    "By making these changes, we enhance the overall quality and usability of the data for our analytical questions."
   ]
  },
  {
   "cell_type": "markdown",
   "id": "eeef7407-c47d-43d6-b0e2-8c4a5704a8e9",
   "metadata": {},
   "source": [
    "- check if it is successfully transformed"
   ]
  },
  {
   "cell_type": "code",
   "execution_count": 25,
   "id": "2cf5828b-599d-4fb5-a716-6758beb80f72",
   "metadata": {},
   "outputs": [
    {
     "name": "stdout",
     "output_type": "stream",
     "text": [
      " * postgresql://student@/Final_Project\n",
      "5 rows affected.\n"
     ]
    },
    {
     "data": {
      "text/html": [
       "<table>\n",
       "    <thead>\n",
       "        <tr>\n",
       "            <th>year_birth</th>\n",
       "        </tr>\n",
       "    </thead>\n",
       "    <tbody>\n",
       "        <tr>\n",
       "            <td>54</td>\n",
       "        </tr>\n",
       "        <tr>\n",
       "            <td>57</td>\n",
       "        </tr>\n",
       "        <tr>\n",
       "            <td>55</td>\n",
       "        </tr>\n",
       "        <tr>\n",
       "            <td>55</td>\n",
       "        </tr>\n",
       "        <tr>\n",
       "            <td>65</td>\n",
       "        </tr>\n",
       "    </tbody>\n",
       "</table>"
      ],
      "text/plain": [
       "[(Decimal('54'),),\n",
       " (Decimal('57'),),\n",
       " (Decimal('55'),),\n",
       " (Decimal('55'),),\n",
       " (Decimal('65'),)]"
      ]
     },
     "execution_count": 25,
     "metadata": {},
     "output_type": "execute_result"
    }
   ],
   "source": [
    "%%sql\n",
    "SELECT Year_Birth \n",
    "from APPLICATION_DATA \n",
    "LIMIT 5;"
   ]
  },
  {
   "cell_type": "markdown",
   "id": "f89b89df-7ab4-4cae-a277-b3e69706eff9",
   "metadata": {},
   "source": [
    "- now group the age into four levels"
   ]
  },
  {
   "cell_type": "code",
   "execution_count": 26,
   "id": "6a6c5b46-4355-427c-af89-1ab840de0136",
   "metadata": {},
   "outputs": [
    {
     "name": "stdout",
     "output_type": "stream",
     "text": [
      " * postgresql://student@/Final_Project\n",
      "307511 rows affected.\n"
     ]
    },
    {
     "data": {
      "text/plain": [
       "[]"
      ]
     },
     "execution_count": 26,
     "metadata": {},
     "output_type": "execute_result"
    }
   ],
   "source": [
    "%%sql\n",
    "UPDATE APPLICATION_DATA\n",
    "SET Year_Birth_GROUP=case\n",
    "    when Year_Birth between 21 and 30 then '21-30 Years'\n",
    "    when Year_Birth between 31 and 40 then '31-40 Years'\n",
    "    when Year_Birth between 41 and 50 then '41-50 Years'\n",
    "    when Year_Birth between 51 and 60 then '51-60 Years'\n",
    "    else '>=61 Years'\n",
    "END;"
   ]
  },
  {
   "cell_type": "code",
   "execution_count": 27,
   "id": "20bd7e55-8fdd-4f73-a49a-f28b542df286",
   "metadata": {},
   "outputs": [
    {
     "name": "stdout",
     "output_type": "stream",
     "text": [
      " * postgresql://student@/Final_Project\n",
      "10 rows affected.\n"
     ]
    },
    {
     "data": {
      "text/html": [
       "<table>\n",
       "    <thead>\n",
       "        <tr>\n",
       "            <th>target</th>\n",
       "            <th>amt_income_total</th>\n",
       "            <th>amt_credit</th>\n",
       "            <th>amt_req_credit_bureau_hour</th>\n",
       "            <th>amt_req_credit_bureau_day</th>\n",
       "            <th>flag_mobil</th>\n",
       "            <th>flag_email</th>\n",
       "            <th>flag_cont_mobile</th>\n",
       "            <th>sk_id_curr</th>\n",
       "            <th>name_contract_type</th>\n",
       "            <th>amt_annuity</th>\n",
       "            <th>code_gender</th>\n",
       "            <th>name_income_type</th>\n",
       "            <th>name_education_type</th>\n",
       "            <th>name_family_status</th>\n",
       "            <th>name_housing_type</th>\n",
       "            <th>occupation_type</th>\n",
       "            <th>cnt_children</th>\n",
       "            <th>days_birth</th>\n",
       "            <th>amt_income_total_group</th>\n",
       "            <th>amt_credit_group</th>\n",
       "            <th>amt_annuity_group</th>\n",
       "            <th>year_birth</th>\n",
       "            <th>year_birth_group</th>\n",
       "        </tr>\n",
       "    </thead>\n",
       "    <tbody>\n",
       "        <tr>\n",
       "            <td>0</td>\n",
       "            <td>94500.0</td>\n",
       "            <td>1546020.0</td>\n",
       "            <td>None</td>\n",
       "            <td>None</td>\n",
       "            <td>1</td>\n",
       "            <td>0</td>\n",
       "            <td>1</td>\n",
       "            <td>111782</td>\n",
       "            <td>Cash loans</td>\n",
       "            <td>42642.0</td>\n",
       "            <td>M</td>\n",
       "            <td>Pensioner</td>\n",
       "            <td>Higher education</td>\n",
       "            <td>Married</td>\n",
       "            <td>House / apartment</td>\n",
       "            <td>None</td>\n",
       "            <td>0</td>\n",
       "            <td>-23543</td>\n",
       "            <td>&lt;=100K</td>\n",
       "            <td>&gt;1000K</td>\n",
       "            <td>35K-45K</td>\n",
       "            <td>65</td>\n",
       "            <td>&gt;=61 Years</td>\n",
       "        </tr>\n",
       "        <tr>\n",
       "            <td>0</td>\n",
       "            <td>81000.0</td>\n",
       "            <td>1125000.0</td>\n",
       "            <td>None</td>\n",
       "            <td>None</td>\n",
       "            <td>1</td>\n",
       "            <td>0</td>\n",
       "            <td>1</td>\n",
       "            <td>116288</td>\n",
       "            <td>Cash loans</td>\n",
       "            <td>33025.5</td>\n",
       "            <td>F</td>\n",
       "            <td>Working</td>\n",
       "            <td>Higher education</td>\n",
       "            <td>Married</td>\n",
       "            <td>House / apartment</td>\n",
       "            <td>None</td>\n",
       "            <td>0</td>\n",
       "            <td>-18451</td>\n",
       "            <td>&lt;=100K</td>\n",
       "            <td>&gt;1000K</td>\n",
       "            <td>25K-35K</td>\n",
       "            <td>51</td>\n",
       "            <td>51-60 Years</td>\n",
       "        </tr>\n",
       "        <tr>\n",
       "            <td>0</td>\n",
       "            <td>225000.0</td>\n",
       "            <td>1800000.0</td>\n",
       "            <td>None</td>\n",
       "            <td>None</td>\n",
       "            <td>1</td>\n",
       "            <td>0</td>\n",
       "            <td>1</td>\n",
       "            <td>129099</td>\n",
       "            <td>Cash loans</td>\n",
       "            <td>62698.5</td>\n",
       "            <td>M</td>\n",
       "            <td>Pensioner</td>\n",
       "            <td>Higher education</td>\n",
       "            <td>Married</td>\n",
       "            <td>Office apartment</td>\n",
       "            <td>None</td>\n",
       "            <td>0</td>\n",
       "            <td>-22114</td>\n",
       "            <td>&gt;200K</td>\n",
       "            <td>&gt;1000K</td>\n",
       "            <td>&gt;55K</td>\n",
       "            <td>61</td>\n",
       "            <td>&gt;=61 Years</td>\n",
       "        </tr>\n",
       "        <tr>\n",
       "            <td>0</td>\n",
       "            <td>112500.0</td>\n",
       "            <td>157500.0</td>\n",
       "            <td>None</td>\n",
       "            <td>None</td>\n",
       "            <td>1</td>\n",
       "            <td>0</td>\n",
       "            <td>1</td>\n",
       "            <td>136422</td>\n",
       "            <td>Revolving loans</td>\n",
       "            <td>7875.0</td>\n",
       "            <td>F</td>\n",
       "            <td>Working</td>\n",
       "            <td>Lower secondary</td>\n",
       "            <td>Married</td>\n",
       "            <td>With parents</td>\n",
       "            <td>None</td>\n",
       "            <td>1</td>\n",
       "            <td>-7928</td>\n",
       "            <td>100K-150K</td>\n",
       "            <td>&lt;=250K</td>\n",
       "            <td>&lt;=15K</td>\n",
       "            <td>22</td>\n",
       "            <td>21-30 Years</td>\n",
       "        </tr>\n",
       "        <tr>\n",
       "            <td>0</td>\n",
       "            <td>67500.0</td>\n",
       "            <td>807984.0</td>\n",
       "            <td>None</td>\n",
       "            <td>None</td>\n",
       "            <td>1</td>\n",
       "            <td>0</td>\n",
       "            <td>1</td>\n",
       "            <td>139817</td>\n",
       "            <td>Cash loans</td>\n",
       "            <td>26833.5</td>\n",
       "            <td>F</td>\n",
       "            <td>Pensioner</td>\n",
       "            <td>Lower secondary</td>\n",
       "            <td>Widow</td>\n",
       "            <td>House / apartment</td>\n",
       "            <td>None</td>\n",
       "            <td>0</td>\n",
       "            <td>-23399</td>\n",
       "            <td>&lt;=100K</td>\n",
       "            <td>750K-1000K</td>\n",
       "            <td>25K-35K</td>\n",
       "            <td>64</td>\n",
       "            <td>&gt;=61 Years</td>\n",
       "        </tr>\n",
       "        <tr>\n",
       "            <td>0</td>\n",
       "            <td>360000.0</td>\n",
       "            <td>1264428.0</td>\n",
       "            <td>None</td>\n",
       "            <td>None</td>\n",
       "            <td>1</td>\n",
       "            <td>0</td>\n",
       "            <td>1</td>\n",
       "            <td>154768</td>\n",
       "            <td>Cash loans</td>\n",
       "            <td>37098.0</td>\n",
       "            <td>M</td>\n",
       "            <td>Working</td>\n",
       "            <td>Higher education</td>\n",
       "            <td>Married</td>\n",
       "            <td>House / apartment</td>\n",
       "            <td>None</td>\n",
       "            <td>3</td>\n",
       "            <td>-14054</td>\n",
       "            <td>&gt;200K</td>\n",
       "            <td>&gt;1000K</td>\n",
       "            <td>35K-45K</td>\n",
       "            <td>39</td>\n",
       "            <td>31-40 Years</td>\n",
       "        </tr>\n",
       "        <tr>\n",
       "            <td>0</td>\n",
       "            <td>90000.0</td>\n",
       "            <td>544491.0</td>\n",
       "            <td>None</td>\n",
       "            <td>None</td>\n",
       "            <td>1</td>\n",
       "            <td>0</td>\n",
       "            <td>1</td>\n",
       "            <td>155979</td>\n",
       "            <td>Cash loans</td>\n",
       "            <td>16047.0</td>\n",
       "            <td>F</td>\n",
       "            <td>Pensioner</td>\n",
       "            <td>Lower secondary</td>\n",
       "            <td>Married</td>\n",
       "            <td>House / apartment</td>\n",
       "            <td>None</td>\n",
       "            <td>0</td>\n",
       "            <td>-20101</td>\n",
       "            <td>&lt;=100K</td>\n",
       "            <td>500K-750K</td>\n",
       "            <td>15K-25K</td>\n",
       "            <td>55</td>\n",
       "            <td>51-60 Years</td>\n",
       "        </tr>\n",
       "        <tr>\n",
       "            <td>0</td>\n",
       "            <td>337500.0</td>\n",
       "            <td>225000.0</td>\n",
       "            <td>None</td>\n",
       "            <td>None</td>\n",
       "            <td>1</td>\n",
       "            <td>0</td>\n",
       "            <td>1</td>\n",
       "            <td>171561</td>\n",
       "            <td>Cash loans</td>\n",
       "            <td>22383.0</td>\n",
       "            <td>F</td>\n",
       "            <td>Pensioner</td>\n",
       "            <td>Higher education</td>\n",
       "            <td>Married</td>\n",
       "            <td>House / apartment</td>\n",
       "            <td>None</td>\n",
       "            <td>0</td>\n",
       "            <td>-24494</td>\n",
       "            <td>&gt;200K</td>\n",
       "            <td>&lt;=250K</td>\n",
       "            <td>15K-25K</td>\n",
       "            <td>67</td>\n",
       "            <td>&gt;=61 Years</td>\n",
       "        </tr>\n",
       "        <tr>\n",
       "            <td>0</td>\n",
       "            <td>225000.0</td>\n",
       "            <td>518562.0</td>\n",
       "            <td>0</td>\n",
       "            <td>0</td>\n",
       "            <td>1</td>\n",
       "            <td>0</td>\n",
       "            <td>1</td>\n",
       "            <td>207277</td>\n",
       "            <td>Cash loans</td>\n",
       "            <td>23562.0</td>\n",
       "            <td>M</td>\n",
       "            <td>Working</td>\n",
       "            <td>Higher education</td>\n",
       "            <td>Married</td>\n",
       "            <td>With parents</td>\n",
       "            <td>None</td>\n",
       "            <td>2</td>\n",
       "            <td>-13034</td>\n",
       "            <td>&gt;200K</td>\n",
       "            <td>500K-750K</td>\n",
       "            <td>15K-25K</td>\n",
       "            <td>36</td>\n",
       "            <td>31-40 Years</td>\n",
       "        </tr>\n",
       "        <tr>\n",
       "            <td>0</td>\n",
       "            <td>90000.0</td>\n",
       "            <td>202500.0</td>\n",
       "            <td>None</td>\n",
       "            <td>None</td>\n",
       "            <td>1</td>\n",
       "            <td>0</td>\n",
       "            <td>1</td>\n",
       "            <td>213555</td>\n",
       "            <td>Cash loans</td>\n",
       "            <td>11754.0</td>\n",
       "            <td>M</td>\n",
       "            <td>Working</td>\n",
       "            <td>Higher education</td>\n",
       "            <td>Married</td>\n",
       "            <td>House / apartment</td>\n",
       "            <td>None</td>\n",
       "            <td>0</td>\n",
       "            <td>-9874</td>\n",
       "            <td>&lt;=100K</td>\n",
       "            <td>&lt;=250K</td>\n",
       "            <td>&lt;=15K</td>\n",
       "            <td>27</td>\n",
       "            <td>21-30 Years</td>\n",
       "        </tr>\n",
       "    </tbody>\n",
       "</table>"
      ],
      "text/plain": [
       "[(Decimal('0'), Decimal('94500.0'), Decimal('1546020.0'), None, None, '1', '0', '1', Decimal('111782'), 'Cash loans', Decimal('42642.0'), 'M', 'Pensioner', 'Higher education', 'Married', 'House / apartment', None, Decimal('0'), Decimal('-23543'), '<=100K', '>1000K', '35K-45K', Decimal('65'), '>=61 Years'),\n",
       " (Decimal('0'), Decimal('81000.0'), Decimal('1125000.0'), None, None, '1', '0', '1', Decimal('116288'), 'Cash loans', Decimal('33025.5'), 'F', 'Working', 'Higher education', 'Married', 'House / apartment', None, Decimal('0'), Decimal('-18451'), '<=100K', '>1000K', '25K-35K', Decimal('51'), '51-60 Years'),\n",
       " (Decimal('0'), Decimal('225000.0'), Decimal('1800000.0'), None, None, '1', '0', '1', Decimal('129099'), 'Cash loans', Decimal('62698.5'), 'M', 'Pensioner', 'Higher education', 'Married', 'Office apartment', None, Decimal('0'), Decimal('-22114'), '>200K', '>1000K', '>55K', Decimal('61'), '>=61 Years'),\n",
       " (Decimal('0'), Decimal('112500.0'), Decimal('157500.0'), None, None, '1', '0', '1', Decimal('136422'), 'Revolving loans', Decimal('7875.0'), 'F', 'Working', 'Lower secondary', 'Married', 'With parents', None, Decimal('1'), Decimal('-7928'), '100K-150K', '<=250K', '<=15K', Decimal('22'), '21-30 Years'),\n",
       " (Decimal('0'), Decimal('67500.0'), Decimal('807984.0'), None, None, '1', '0', '1', Decimal('139817'), 'Cash loans', Decimal('26833.5'), 'F', 'Pensioner', 'Lower secondary', 'Widow', 'House / apartment', None, Decimal('0'), Decimal('-23399'), '<=100K', '750K-1000K', '25K-35K', Decimal('64'), '>=61 Years'),\n",
       " (Decimal('0'), Decimal('360000.0'), Decimal('1264428.0'), None, None, '1', '0', '1', Decimal('154768'), 'Cash loans', Decimal('37098.0'), 'M', 'Working', 'Higher education', 'Married', 'House / apartment', None, Decimal('3'), Decimal('-14054'), '>200K', '>1000K', '35K-45K', Decimal('39'), '31-40 Years'),\n",
       " (Decimal('0'), Decimal('90000.0'), Decimal('544491.0'), None, None, '1', '0', '1', Decimal('155979'), 'Cash loans', Decimal('16047.0'), 'F', 'Pensioner', 'Lower secondary', 'Married', 'House / apartment', None, Decimal('0'), Decimal('-20101'), '<=100K', '500K-750K', '15K-25K', Decimal('55'), '51-60 Years'),\n",
       " (Decimal('0'), Decimal('337500.0'), Decimal('225000.0'), None, None, '1', '0', '1', Decimal('171561'), 'Cash loans', Decimal('22383.0'), 'F', 'Pensioner', 'Higher education', 'Married', 'House / apartment', None, Decimal('0'), Decimal('-24494'), '>200K', '<=250K', '15K-25K', Decimal('67'), '>=61 Years'),\n",
       " (Decimal('0'), Decimal('225000.0'), Decimal('518562.0'), Decimal('0'), Decimal('0'), '1', '0', '1', Decimal('207277'), 'Cash loans', Decimal('23562.0'), 'M', 'Working', 'Higher education', 'Married', 'With parents', None, Decimal('2'), Decimal('-13034'), '>200K', '500K-750K', '15K-25K', Decimal('36'), '31-40 Years'),\n",
       " (Decimal('0'), Decimal('90000.0'), Decimal('202500.0'), None, None, '1', '0', '1', Decimal('213555'), 'Cash loans', Decimal('11754.0'), 'M', 'Working', 'Higher education', 'Married', 'House / apartment', None, Decimal('0'), Decimal('-9874'), '<=100K', '<=250K', '<=15K', Decimal('27'), '21-30 Years')]"
      ]
     },
     "execution_count": 27,
     "metadata": {},
     "output_type": "execute_result"
    }
   ],
   "source": [
    "%%sql\n",
    "select * from application_data\n",
    "limit 10;"
   ]
  },
  {
   "cell_type": "markdown",
   "id": "53346721-69bc-4373-b61c-bf54e8b4f277",
   "metadata": {},
   "source": [
    "Check whether the min and max for each age group is imputed right "
   ]
  },
  {
   "cell_type": "code",
   "execution_count": 28,
   "id": "be9c7748-b13d-4c4a-bc99-4d41c1529175",
   "metadata": {},
   "outputs": [
    {
     "name": "stdout",
     "output_type": "stream",
     "text": [
      " * postgresql://student@/Final_Project\n",
      "5 rows affected.\n"
     ]
    },
    {
     "data": {
      "text/html": [
       "<table>\n",
       "    <thead>\n",
       "        <tr>\n",
       "            <th>year_birth_group</th>\n",
       "            <th>max1</th>\n",
       "            <th>min1</th>\n",
       "        </tr>\n",
       "    </thead>\n",
       "    <tbody>\n",
       "        <tr>\n",
       "            <td>21-30 Years</td>\n",
       "            <td>30</td>\n",
       "            <td>21</td>\n",
       "        </tr>\n",
       "        <tr>\n",
       "            <td>31-40 Years</td>\n",
       "            <td>40</td>\n",
       "            <td>31</td>\n",
       "        </tr>\n",
       "        <tr>\n",
       "            <td>41-50 Years</td>\n",
       "            <td>50</td>\n",
       "            <td>41</td>\n",
       "        </tr>\n",
       "        <tr>\n",
       "            <td>51-60 Years</td>\n",
       "            <td>60</td>\n",
       "            <td>51</td>\n",
       "        </tr>\n",
       "        <tr>\n",
       "            <td>&gt;=61 Years</td>\n",
       "            <td>69</td>\n",
       "            <td>61</td>\n",
       "        </tr>\n",
       "    </tbody>\n",
       "</table>"
      ],
      "text/plain": [
       "[('21-30 Years', Decimal('30'), Decimal('21')),\n",
       " ('31-40 Years', Decimal('40'), Decimal('31')),\n",
       " ('41-50 Years', Decimal('50'), Decimal('41')),\n",
       " ('51-60 Years', Decimal('60'), Decimal('51')),\n",
       " ('>=61 Years', Decimal('69'), Decimal('61'))]"
      ]
     },
     "execution_count": 28,
     "metadata": {},
     "output_type": "execute_result"
    }
   ],
   "source": [
    "%%sql\n",
    "select Year_Birth_GROUP,max(Year_Birth) as max1,\n",
    "min(Year_Birth) as min1\n",
    "from APPLICATION_DATA\n",
    "group by 1;      "
   ]
  },
  {
   "cell_type": "code",
   "execution_count": 29,
   "id": "fb742465-b763-4a95-9df8-9a491e6cef24",
   "metadata": {},
   "outputs": [
    {
     "name": "stdout",
     "output_type": "stream",
     "text": [
      " * postgresql://student@/Final_Project\n",
      "10 rows affected.\n"
     ]
    },
    {
     "data": {
      "text/html": [
       "<table>\n",
       "    <thead>\n",
       "        <tr>\n",
       "            <th>target</th>\n",
       "            <th>amt_income_total</th>\n",
       "            <th>amt_credit</th>\n",
       "            <th>amt_req_credit_bureau_hour</th>\n",
       "            <th>amt_req_credit_bureau_day</th>\n",
       "            <th>flag_mobil</th>\n",
       "            <th>flag_email</th>\n",
       "            <th>flag_cont_mobile</th>\n",
       "            <th>sk_id_curr</th>\n",
       "            <th>name_contract_type</th>\n",
       "            <th>amt_annuity</th>\n",
       "            <th>code_gender</th>\n",
       "            <th>name_income_type</th>\n",
       "            <th>name_education_type</th>\n",
       "            <th>name_family_status</th>\n",
       "            <th>name_housing_type</th>\n",
       "            <th>occupation_type</th>\n",
       "            <th>cnt_children</th>\n",
       "            <th>days_birth</th>\n",
       "            <th>amt_income_total_group</th>\n",
       "            <th>amt_credit_group</th>\n",
       "            <th>amt_annuity_group</th>\n",
       "            <th>year_birth</th>\n",
       "            <th>year_birth_group</th>\n",
       "        </tr>\n",
       "    </thead>\n",
       "    <tbody>\n",
       "        <tr>\n",
       "            <td>0</td>\n",
       "            <td>90000.0</td>\n",
       "            <td>202500.0</td>\n",
       "            <td>None</td>\n",
       "            <td>None</td>\n",
       "            <td>1</td>\n",
       "            <td>0</td>\n",
       "            <td>1</td>\n",
       "            <td>213555</td>\n",
       "            <td>Cash loans</td>\n",
       "            <td>11754.0</td>\n",
       "            <td>M</td>\n",
       "            <td>Working</td>\n",
       "            <td>Higher education</td>\n",
       "            <td>Married</td>\n",
       "            <td>House / apartment</td>\n",
       "            <td>None</td>\n",
       "            <td>0</td>\n",
       "            <td>-9874</td>\n",
       "            <td>&lt;=100K</td>\n",
       "            <td>&lt;=250K</td>\n",
       "            <td>&lt;=15K</td>\n",
       "            <td>27</td>\n",
       "            <td>21-30 Years</td>\n",
       "        </tr>\n",
       "        <tr>\n",
       "            <td>0</td>\n",
       "            <td>202500.0</td>\n",
       "            <td>1575000.0</td>\n",
       "            <td>None</td>\n",
       "            <td>None</td>\n",
       "            <td>1</td>\n",
       "            <td>0</td>\n",
       "            <td>1</td>\n",
       "            <td>219134</td>\n",
       "            <td>Cash loans</td>\n",
       "            <td>46053.0</td>\n",
       "            <td>F</td>\n",
       "            <td>Pensioner</td>\n",
       "            <td>Higher education</td>\n",
       "            <td>Married</td>\n",
       "            <td>House / apartment</td>\n",
       "            <td>None</td>\n",
       "            <td>0</td>\n",
       "            <td>-22015</td>\n",
       "            <td>&gt;200K</td>\n",
       "            <td>&gt;1000K</td>\n",
       "            <td>45K-55K</td>\n",
       "            <td>60</td>\n",
       "            <td>51-60 Years</td>\n",
       "        </tr>\n",
       "        <tr>\n",
       "            <td>0</td>\n",
       "            <td>54000.0</td>\n",
       "            <td>113211.0</td>\n",
       "            <td>None</td>\n",
       "            <td>None</td>\n",
       "            <td>1</td>\n",
       "            <td>0</td>\n",
       "            <td>1</td>\n",
       "            <td>234314</td>\n",
       "            <td>Cash loans</td>\n",
       "            <td>8887.5</td>\n",
       "            <td>F</td>\n",
       "            <td>Working</td>\n",
       "            <td>Higher education</td>\n",
       "            <td>Married</td>\n",
       "            <td>House / apartment</td>\n",
       "            <td>None</td>\n",
       "            <td>0</td>\n",
       "            <td>-11690</td>\n",
       "            <td>&lt;=100K</td>\n",
       "            <td>&lt;=250K</td>\n",
       "            <td>&lt;=15K</td>\n",
       "            <td>32</td>\n",
       "            <td>31-40 Years</td>\n",
       "        </tr>\n",
       "        <tr>\n",
       "            <td>0</td>\n",
       "            <td>90000.0</td>\n",
       "            <td>50940.0</td>\n",
       "            <td>0</td>\n",
       "            <td>0</td>\n",
       "            <td>1</td>\n",
       "            <td>0</td>\n",
       "            <td>1</td>\n",
       "            <td>265168</td>\n",
       "            <td>Cash loans</td>\n",
       "            <td>5535.0</td>\n",
       "            <td>M</td>\n",
       "            <td>Working</td>\n",
       "            <td>Higher education</td>\n",
       "            <td>Married</td>\n",
       "            <td>House / apartment</td>\n",
       "            <td>Drivers</td>\n",
       "            <td>0</td>\n",
       "            <td>-15105</td>\n",
       "            <td>&lt;=100K</td>\n",
       "            <td>&lt;=250K</td>\n",
       "            <td>&lt;=15K</td>\n",
       "            <td>41</td>\n",
       "            <td>41-50 Years</td>\n",
       "        </tr>\n",
       "        <tr>\n",
       "            <td>0</td>\n",
       "            <td>247500.0</td>\n",
       "            <td>274779.0</td>\n",
       "            <td>None</td>\n",
       "            <td>None</td>\n",
       "            <td>1</td>\n",
       "            <td>0</td>\n",
       "            <td>1</td>\n",
       "            <td>270788</td>\n",
       "            <td>Cash loans</td>\n",
       "            <td>28287.0</td>\n",
       "            <td>F</td>\n",
       "            <td>Working</td>\n",
       "            <td>Higher education</td>\n",
       "            <td>Married</td>\n",
       "            <td>House / apartment</td>\n",
       "            <td>None</td>\n",
       "            <td>0</td>\n",
       "            <td>-16460</td>\n",
       "            <td>&gt;200K</td>\n",
       "            <td>250K-500K</td>\n",
       "            <td>25K-35K</td>\n",
       "            <td>45</td>\n",
       "            <td>41-50 Years</td>\n",
       "        </tr>\n",
       "        <tr>\n",
       "            <td>0</td>\n",
       "            <td>90000.0</td>\n",
       "            <td>1507869.0</td>\n",
       "            <td>0</td>\n",
       "            <td>0</td>\n",
       "            <td>1</td>\n",
       "            <td>0</td>\n",
       "            <td>1</td>\n",
       "            <td>275307</td>\n",
       "            <td>Cash loans</td>\n",
       "            <td>47475.0</td>\n",
       "            <td>F</td>\n",
       "            <td>Working</td>\n",
       "            <td>Higher education</td>\n",
       "            <td>Married</td>\n",
       "            <td>With parents</td>\n",
       "            <td>Core staff</td>\n",
       "            <td>1</td>\n",
       "            <td>-9410</td>\n",
       "            <td>&lt;=100K</td>\n",
       "            <td>&gt;1000K</td>\n",
       "            <td>45K-55K</td>\n",
       "            <td>26</td>\n",
       "            <td>21-30 Years</td>\n",
       "        </tr>\n",
       "        <tr>\n",
       "            <td>0</td>\n",
       "            <td>65250.0</td>\n",
       "            <td>450000.0</td>\n",
       "            <td>None</td>\n",
       "            <td>None</td>\n",
       "            <td>1</td>\n",
       "            <td>0</td>\n",
       "            <td>1</td>\n",
       "            <td>283357</td>\n",
       "            <td>Cash loans</td>\n",
       "            <td>22018.5</td>\n",
       "            <td>F</td>\n",
       "            <td>Pensioner</td>\n",
       "            <td>Lower secondary</td>\n",
       "            <td>Married</td>\n",
       "            <td>House / apartment</td>\n",
       "            <td>None</td>\n",
       "            <td>0</td>\n",
       "            <td>-20249</td>\n",
       "            <td>&lt;=100K</td>\n",
       "            <td>250K-500K</td>\n",
       "            <td>15K-25K</td>\n",
       "            <td>55</td>\n",
       "            <td>51-60 Years</td>\n",
       "        </tr>\n",
       "        <tr>\n",
       "            <td>0</td>\n",
       "            <td>261000.0</td>\n",
       "            <td>450000.0</td>\n",
       "            <td>None</td>\n",
       "            <td>None</td>\n",
       "            <td>1</td>\n",
       "            <td>0</td>\n",
       "            <td>1</td>\n",
       "            <td>288212</td>\n",
       "            <td>Revolving loans</td>\n",
       "            <td>22500.0</td>\n",
       "            <td>F</td>\n",
       "            <td>Working</td>\n",
       "            <td>Higher education</td>\n",
       "            <td>Married</td>\n",
       "            <td>House / apartment</td>\n",
       "            <td>None</td>\n",
       "            <td>0</td>\n",
       "            <td>-19883</td>\n",
       "            <td>&gt;200K</td>\n",
       "            <td>250K-500K</td>\n",
       "            <td>15K-25K</td>\n",
       "            <td>54</td>\n",
       "            <td>51-60 Years</td>\n",
       "        </tr>\n",
       "        <tr>\n",
       "            <td>0</td>\n",
       "            <td>94500.0</td>\n",
       "            <td>518562.0</td>\n",
       "            <td>None</td>\n",
       "            <td>None</td>\n",
       "            <td>1</td>\n",
       "            <td>0</td>\n",
       "            <td>1</td>\n",
       "            <td>294298</td>\n",
       "            <td>Cash loans</td>\n",
       "            <td>36220.5</td>\n",
       "            <td>F</td>\n",
       "            <td>Pensioner</td>\n",
       "            <td>Higher education</td>\n",
       "            <td>Widow</td>\n",
       "            <td>House / apartment</td>\n",
       "            <td>None</td>\n",
       "            <td>0</td>\n",
       "            <td>-23244</td>\n",
       "            <td>&lt;=100K</td>\n",
       "            <td>500K-750K</td>\n",
       "            <td>35K-45K</td>\n",
       "            <td>64</td>\n",
       "            <td>&gt;=61 Years</td>\n",
       "        </tr>\n",
       "        <tr>\n",
       "            <td>0</td>\n",
       "            <td>157500.0</td>\n",
       "            <td>722394.0</td>\n",
       "            <td>0</td>\n",
       "            <td>0</td>\n",
       "            <td>1</td>\n",
       "            <td>0</td>\n",
       "            <td>1</td>\n",
       "            <td>315919</td>\n",
       "            <td>Cash loans</td>\n",
       "            <td>21249.0</td>\n",
       "            <td>F</td>\n",
       "            <td>Pensioner</td>\n",
       "            <td>Higher education</td>\n",
       "            <td>Widow</td>\n",
       "            <td>House / apartment</td>\n",
       "            <td>None</td>\n",
       "            <td>0</td>\n",
       "            <td>-20712</td>\n",
       "            <td>150K-200K</td>\n",
       "            <td>500K-750K</td>\n",
       "            <td>15K-25K</td>\n",
       "            <td>57</td>\n",
       "            <td>51-60 Years</td>\n",
       "        </tr>\n",
       "    </tbody>\n",
       "</table>"
      ],
      "text/plain": [
       "[(Decimal('0'), Decimal('90000.0'), Decimal('202500.0'), None, None, '1', '0', '1', Decimal('213555'), 'Cash loans', Decimal('11754.0'), 'M', 'Working', 'Higher education', 'Married', 'House / apartment', None, Decimal('0'), Decimal('-9874'), '<=100K', '<=250K', '<=15K', Decimal('27'), '21-30 Years'),\n",
       " (Decimal('0'), Decimal('202500.0'), Decimal('1575000.0'), None, None, '1', '0', '1', Decimal('219134'), 'Cash loans', Decimal('46053.0'), 'F', 'Pensioner', 'Higher education', 'Married', 'House / apartment', None, Decimal('0'), Decimal('-22015'), '>200K', '>1000K', '45K-55K', Decimal('60'), '51-60 Years'),\n",
       " (Decimal('0'), Decimal('54000.0'), Decimal('113211.0'), None, None, '1', '0', '1', Decimal('234314'), 'Cash loans', Decimal('8887.5'), 'F', 'Working', 'Higher education', 'Married', 'House / apartment', None, Decimal('0'), Decimal('-11690'), '<=100K', '<=250K', '<=15K', Decimal('32'), '31-40 Years'),\n",
       " (Decimal('0'), Decimal('90000.0'), Decimal('50940.0'), Decimal('0'), Decimal('0'), '1', '0', '1', Decimal('265168'), 'Cash loans', Decimal('5535.0'), 'M', 'Working', 'Higher education', 'Married', 'House / apartment', 'Drivers', Decimal('0'), Decimal('-15105'), '<=100K', '<=250K', '<=15K', Decimal('41'), '41-50 Years'),\n",
       " (Decimal('0'), Decimal('247500.0'), Decimal('274779.0'), None, None, '1', '0', '1', Decimal('270788'), 'Cash loans', Decimal('28287.0'), 'F', 'Working', 'Higher education', 'Married', 'House / apartment', None, Decimal('0'), Decimal('-16460'), '>200K', '250K-500K', '25K-35K', Decimal('45'), '41-50 Years'),\n",
       " (Decimal('0'), Decimal('90000.0'), Decimal('1507869.0'), Decimal('0'), Decimal('0'), '1', '0', '1', Decimal('275307'), 'Cash loans', Decimal('47475.0'), 'F', 'Working', 'Higher education', 'Married', 'With parents', 'Core staff', Decimal('1'), Decimal('-9410'), '<=100K', '>1000K', '45K-55K', Decimal('26'), '21-30 Years'),\n",
       " (Decimal('0'), Decimal('65250.0'), Decimal('450000.0'), None, None, '1', '0', '1', Decimal('283357'), 'Cash loans', Decimal('22018.5'), 'F', 'Pensioner', 'Lower secondary', 'Married', 'House / apartment', None, Decimal('0'), Decimal('-20249'), '<=100K', '250K-500K', '15K-25K', Decimal('55'), '51-60 Years'),\n",
       " (Decimal('0'), Decimal('261000.0'), Decimal('450000.0'), None, None, '1', '0', '1', Decimal('288212'), 'Revolving loans', Decimal('22500.0'), 'F', 'Working', 'Higher education', 'Married', 'House / apartment', None, Decimal('0'), Decimal('-19883'), '>200K', '250K-500K', '15K-25K', Decimal('54'), '51-60 Years'),\n",
       " (Decimal('0'), Decimal('94500.0'), Decimal('518562.0'), None, None, '1', '0', '1', Decimal('294298'), 'Cash loans', Decimal('36220.5'), 'F', 'Pensioner', 'Higher education', 'Widow', 'House / apartment', None, Decimal('0'), Decimal('-23244'), '<=100K', '500K-750K', '35K-45K', Decimal('64'), '>=61 Years'),\n",
       " (Decimal('0'), Decimal('157500.0'), Decimal('722394.0'), Decimal('0'), Decimal('0'), '1', '0', '1', Decimal('315919'), 'Cash loans', Decimal('21249.0'), 'F', 'Pensioner', 'Higher education', 'Widow', 'House / apartment', None, Decimal('0'), Decimal('-20712'), '150K-200K', '500K-750K', '15K-25K', Decimal('57'), '51-60 Years')]"
      ]
     },
     "execution_count": 29,
     "metadata": {},
     "output_type": "execute_result"
    }
   ],
   "source": [
    "%%sql\n",
    "select * from application_data\n",
    "limit 10;"
   ]
  },
  {
   "cell_type": "markdown",
   "id": "0a10ab7e-2efa-4592-a302-f824bcfd2fed",
   "metadata": {},
   "source": [
    "Creating `CNT_CHILDREN_Group` from `CNT_CHILDREN`"
   ]
  },
  {
   "cell_type": "code",
   "execution_count": 30,
   "id": "52e97c6c-75bf-42f9-9eb5-387689d76856",
   "metadata": {},
   "outputs": [
    {
     "name": "stdout",
     "output_type": "stream",
     "text": [
      " * postgresql://student@/Final_Project\n",
      "Done.\n"
     ]
    },
    {
     "data": {
      "text/plain": [
       "[]"
      ]
     },
     "execution_count": 30,
     "metadata": {},
     "output_type": "execute_result"
    }
   ],
   "source": [
    "%%sql\n",
    "ALTER TABLE APPLICATION_DATA\n",
    "ADD COLUMN CNT_CHILDREN_Group VARCHAR(20);"
   ]
  },
  {
   "cell_type": "code",
   "execution_count": 31,
   "id": "feda0a70-a68e-4b9f-b3a3-c8ffe0c1ad29",
   "metadata": {},
   "outputs": [
    {
     "name": "stdout",
     "output_type": "stream",
     "text": [
      " * postgresql://student@/Final_Project\n",
      "307511 rows affected.\n"
     ]
    },
    {
     "data": {
      "text/plain": [
       "[]"
      ]
     },
     "execution_count": 31,
     "metadata": {},
     "output_type": "execute_result"
    }
   ],
   "source": [
    "%%sql\n",
    "UPDATE APPLICATION_DATA\n",
    "SET CNT_CHILDREN_Group=CASE\n",
    "    WHEN CNT_CHILDREN=0 THEN 'No children'\n",
    "    WHEN CNT_CHILDREN=1 THEN '1 child'\n",
    "    WHEN CNT_CHILDREN>=2 THEN '>=2 children'\n",
    "END;"
   ]
  },
  {
   "cell_type": "markdown",
   "id": "61f58f66-0d97-4252-8ab3-b3a706c8a41c",
   "metadata": {},
   "source": [
    "Check whether the grouping makes sense, for example, children group \n",
    "     >=2 children has minimum of 2 children and maximum of 19 children "
   ]
  },
  {
   "cell_type": "code",
   "execution_count": 32,
   "id": "fb5c431b-9da3-467a-9d37-b65720f212ff",
   "metadata": {},
   "outputs": [
    {
     "name": "stdout",
     "output_type": "stream",
     "text": [
      " * postgresql://student@/Final_Project\n",
      "3 rows affected.\n"
     ]
    },
    {
     "data": {
      "text/html": [
       "<table>\n",
       "    <thead>\n",
       "        <tr>\n",
       "            <th>cnt_children_group</th>\n",
       "            <th>max1</th>\n",
       "            <th>min1</th>\n",
       "        </tr>\n",
       "    </thead>\n",
       "    <tbody>\n",
       "        <tr>\n",
       "            <td>1 child</td>\n",
       "            <td>1</td>\n",
       "            <td>1</td>\n",
       "        </tr>\n",
       "        <tr>\n",
       "            <td>&gt;=2 children</td>\n",
       "            <td>19</td>\n",
       "            <td>2</td>\n",
       "        </tr>\n",
       "        <tr>\n",
       "            <td>No children</td>\n",
       "            <td>0</td>\n",
       "            <td>0</td>\n",
       "        </tr>\n",
       "    </tbody>\n",
       "</table>"
      ],
      "text/plain": [
       "[('1 child', Decimal('1'), Decimal('1')),\n",
       " ('>=2 children', Decimal('19'), Decimal('2')),\n",
       " ('No children', Decimal('0'), Decimal('0'))]"
      ]
     },
     "execution_count": 32,
     "metadata": {},
     "output_type": "execute_result"
    }
   ],
   "source": [
    "%%sql\n",
    "select CNT_CHILDREN_Group,\n",
    "max(CNT_CHILDREN) as max1,\n",
    "min(CNT_CHILDREN) as min1\n",
    "from APPLICATION_DATA\n",
    "group by 1;  "
   ]
  },
  {
   "cell_type": "markdown",
   "id": "971cdfda-7a76-4a1d-8991-340e3a578363",
   "metadata": {},
   "source": [
    "Creating AMT_REQ_CREDIT_BUREAU_HOUR_group from AMT_REQ_CREDIT_BUREAU_HOUR"
   ]
  },
  {
   "cell_type": "code",
   "execution_count": 33,
   "id": "418b192f-96b7-46f0-9c51-c0d09b0c3038",
   "metadata": {},
   "outputs": [
    {
     "name": "stdout",
     "output_type": "stream",
     "text": [
      " * postgresql://student@/Final_Project\n",
      "Done.\n"
     ]
    },
    {
     "data": {
      "text/plain": [
       "[]"
      ]
     },
     "execution_count": 33,
     "metadata": {},
     "output_type": "execute_result"
    }
   ],
   "source": [
    "%%sql\n",
    "ALTER TABLE APPLICATION_DATA\n",
    "ADD COLUMN AMT_REQ_CREDIT_BUREAU_HOUR_group VARCHAR(50);"
   ]
  },
  {
   "cell_type": "code",
   "execution_count": 34,
   "id": "b662b92c-0f79-4f41-81f4-b9845c40eda2",
   "metadata": {},
   "outputs": [
    {
     "name": "stdout",
     "output_type": "stream",
     "text": [
      " * postgresql://student@/Final_Project\n",
      "307511 rows affected.\n"
     ]
    },
    {
     "data": {
      "text/plain": [
       "[]"
      ]
     },
     "execution_count": 34,
     "metadata": {},
     "output_type": "execute_result"
    }
   ],
   "source": [
    "%%sql\n",
    "UPDATE APPLICATION_DATA\n",
    "SET AMT_REQ_CREDIT_BUREAU_HOUR_group=CASE\n",
    "    WHEN AMT_REQ_CREDIT_BUREAU_HOUR is Null or AMT_REQ_CREDIT_BUREAU_HOUR=0 THEN 'Zero Enquiry'\n",
    "    WHEN AMT_REQ_CREDIT_BUREAU_HOUR>=1 THEN '1 or more Enquiries'\n",
    "END;"
   ]
  },
  {
   "cell_type": "code",
   "execution_count": 35,
   "id": "d0a1d7da-f926-4c9b-a418-960a0f8314c6",
   "metadata": {},
   "outputs": [
    {
     "name": "stdout",
     "output_type": "stream",
     "text": [
      " * postgresql://student@/Final_Project\n",
      "2 rows affected.\n"
     ]
    },
    {
     "data": {
      "text/html": [
       "<table>\n",
       "    <thead>\n",
       "        <tr>\n",
       "            <th>amt_req_credit_bureau_hour_group</th>\n",
       "            <th>max1</th>\n",
       "            <th>min1</th>\n",
       "        </tr>\n",
       "    </thead>\n",
       "    <tbody>\n",
       "        <tr>\n",
       "            <td>1 or more Enquiries</td>\n",
       "            <td>4</td>\n",
       "            <td>1</td>\n",
       "        </tr>\n",
       "        <tr>\n",
       "            <td>Zero Enquiry</td>\n",
       "            <td>0</td>\n",
       "            <td>0</td>\n",
       "        </tr>\n",
       "    </tbody>\n",
       "</table>"
      ],
      "text/plain": [
       "[('1 or more Enquiries', Decimal('4'), Decimal('1')),\n",
       " ('Zero Enquiry', Decimal('0'), Decimal('0'))]"
      ]
     },
     "execution_count": 35,
     "metadata": {},
     "output_type": "execute_result"
    }
   ],
   "source": [
    "%%sql\n",
    "select AMT_REQ_CREDIT_BUREAU_HOUR_group,\n",
    "max(AMT_REQ_CREDIT_BUREAU_HOUR) as max1,\n",
    "min(AMT_REQ_CREDIT_BUREAU_HOUR) as min1\n",
    "from APPLICATION_DATA\n",
    "group by 1;  "
   ]
  },
  {
   "cell_type": "markdown",
   "id": "4a545a3f-4a50-4ada-8c87-67b6b769e3e7",
   "metadata": {},
   "source": [
    "Creating AMT_REQ_CREDIT_BUREAU_DAY_group from AMT_REQ_CREDIT_BUREAU_DAY"
   ]
  },
  {
   "cell_type": "code",
   "execution_count": 36,
   "id": "3d8ba928-0cc5-45fc-8fa2-100202eea4d4",
   "metadata": {},
   "outputs": [
    {
     "name": "stdout",
     "output_type": "stream",
     "text": [
      " * postgresql://student@/Final_Project\n",
      "Done.\n"
     ]
    },
    {
     "data": {
      "text/plain": [
       "[]"
      ]
     },
     "execution_count": 36,
     "metadata": {},
     "output_type": "execute_result"
    }
   ],
   "source": [
    "%%sql\n",
    "ALTER TABLE APPLICATION_DATA\n",
    "ADD COLUMN AMT_REQ_CREDIT_BUREAU_DAY_group VARCHAR(50);"
   ]
  },
  {
   "cell_type": "code",
   "execution_count": 37,
   "id": "9385ba54-eedb-4f45-9380-7c98975f03da",
   "metadata": {},
   "outputs": [
    {
     "name": "stdout",
     "output_type": "stream",
     "text": [
      " * postgresql://student@/Final_Project\n",
      "307511 rows affected.\n"
     ]
    },
    {
     "data": {
      "text/plain": [
       "[]"
      ]
     },
     "execution_count": 37,
     "metadata": {},
     "output_type": "execute_result"
    }
   ],
   "source": [
    "%%sql\n",
    "UPDATE APPLICATION_DATA\n",
    "SET AMT_REQ_CREDIT_BUREAU_DAY_group=CASE\n",
    "    WHEN AMT_REQ_CREDIT_BUREAU_DAY is Null or AMT_REQ_CREDIT_BUREAU_DAY=0 THEN 'Zero Enquiry'\n",
    "    WHEN AMT_REQ_CREDIT_BUREAU_DAY>=1 THEN '1 or more Enquiries'\n",
    "END;"
   ]
  },
  {
   "cell_type": "code",
   "execution_count": 38,
   "id": "78772005-8ab9-4c93-a89d-75ec7f3a0055",
   "metadata": {},
   "outputs": [
    {
     "name": "stdout",
     "output_type": "stream",
     "text": [
      " * postgresql://student@/Final_Project\n",
      "2 rows affected.\n"
     ]
    },
    {
     "data": {
      "text/html": [
       "<table>\n",
       "    <thead>\n",
       "        <tr>\n",
       "            <th>amt_req_credit_bureau_day_group</th>\n",
       "            <th>max1</th>\n",
       "            <th>min1</th>\n",
       "        </tr>\n",
       "    </thead>\n",
       "    <tbody>\n",
       "        <tr>\n",
       "            <td>1 or more Enquiries</td>\n",
       "            <td>9</td>\n",
       "            <td>1</td>\n",
       "        </tr>\n",
       "        <tr>\n",
       "            <td>Zero Enquiry</td>\n",
       "            <td>0</td>\n",
       "            <td>0</td>\n",
       "        </tr>\n",
       "    </tbody>\n",
       "</table>"
      ],
      "text/plain": [
       "[('1 or more Enquiries', Decimal('9'), Decimal('1')),\n",
       " ('Zero Enquiry', Decimal('0'), Decimal('0'))]"
      ]
     },
     "execution_count": 38,
     "metadata": {},
     "output_type": "execute_result"
    }
   ],
   "source": [
    "%%sql\n",
    "select AMT_REQ_CREDIT_BUREAU_DAY_group,\n",
    "max(AMT_REQ_CREDIT_BUREAU_DAY) as max1,\n",
    "min(AMT_REQ_CREDIT_BUREAU_Day) as min1\n",
    "from APPLICATION_DATA\n",
    "group by 1;  "
   ]
  },
  {
   "cell_type": "markdown",
   "id": "e208ad94-6deb-4d7f-bc2d-9bbdc6d60103",
   "metadata": {},
   "source": [
    "Drop Columns which are not required since we have categorical version of it, so the original column we do not need to use"
   ]
  },
  {
   "cell_type": "code",
   "execution_count": 39,
   "id": "6932d501-6596-417a-a8a8-86439747ce9f",
   "metadata": {},
   "outputs": [
    {
     "name": "stdout",
     "output_type": "stream",
     "text": [
      " * postgresql://student@/Final_Project\n",
      "Done.\n"
     ]
    },
    {
     "data": {
      "text/plain": [
       "[]"
      ]
     },
     "execution_count": 39,
     "metadata": {},
     "output_type": "execute_result"
    }
   ],
   "source": [
    "%%sql\n",
    "ALTER TABLE APPLICATION_DATA\n",
    "DROP COLUMN AMT_REQ_CREDIT_BUREAU_HOUR,\n",
    "DROP COLUMN AMT_REQ_CREDIT_BUREAU_DAY,\n",
    "DROP COLUMN AMT_CREDIT,\n",
    "DROP COLUMN AMT_ANNUITY,\n",
    "DROP COLUMN CNT_CHILDREN,\n",
    "DROP COLUMN DAYS_BIRTH,\n",
    "DROP COLUMN YEAR_BIRTH;"
   ]
  },
  {
   "cell_type": "code",
   "execution_count": 40,
   "id": "5c831889-4f44-44ca-9fb3-820b15375bd3",
   "metadata": {},
   "outputs": [
    {
     "name": "stdout",
     "output_type": "stream",
     "text": [
      " * postgresql://student@/Final_Project\n",
      "10 rows affected.\n"
     ]
    },
    {
     "data": {
      "text/html": [
       "<table>\n",
       "    <thead>\n",
       "        <tr>\n",
       "            <th>target</th>\n",
       "            <th>amt_income_total</th>\n",
       "            <th>flag_mobil</th>\n",
       "            <th>flag_email</th>\n",
       "            <th>flag_cont_mobile</th>\n",
       "            <th>sk_id_curr</th>\n",
       "            <th>name_contract_type</th>\n",
       "            <th>code_gender</th>\n",
       "            <th>name_income_type</th>\n",
       "            <th>name_education_type</th>\n",
       "            <th>name_family_status</th>\n",
       "            <th>name_housing_type</th>\n",
       "            <th>occupation_type</th>\n",
       "            <th>amt_income_total_group</th>\n",
       "            <th>amt_credit_group</th>\n",
       "            <th>amt_annuity_group</th>\n",
       "            <th>year_birth_group</th>\n",
       "            <th>cnt_children_group</th>\n",
       "            <th>amt_req_credit_bureau_hour_group</th>\n",
       "            <th>amt_req_credit_bureau_day_group</th>\n",
       "        </tr>\n",
       "    </thead>\n",
       "    <tbody>\n",
       "        <tr>\n",
       "            <td>0</td>\n",
       "            <td>157500.0</td>\n",
       "            <td>1</td>\n",
       "            <td>0</td>\n",
       "            <td>1</td>\n",
       "            <td>315919</td>\n",
       "            <td>Cash loans</td>\n",
       "            <td>F</td>\n",
       "            <td>Pensioner</td>\n",
       "            <td>Higher education</td>\n",
       "            <td>Widow</td>\n",
       "            <td>House / apartment</td>\n",
       "            <td>None</td>\n",
       "            <td>150K-200K</td>\n",
       "            <td>500K-750K</td>\n",
       "            <td>15K-25K</td>\n",
       "            <td>51-60 Years</td>\n",
       "            <td>No children</td>\n",
       "            <td>Zero Enquiry</td>\n",
       "            <td>Zero Enquiry</td>\n",
       "        </tr>\n",
       "        <tr>\n",
       "            <td>0</td>\n",
       "            <td>225000.0</td>\n",
       "            <td>1</td>\n",
       "            <td>1</td>\n",
       "            <td>1</td>\n",
       "            <td>316082</td>\n",
       "            <td>Cash loans</td>\n",
       "            <td>F</td>\n",
       "            <td>Working</td>\n",
       "            <td>Higher education</td>\n",
       "            <td>Married</td>\n",
       "            <td>House / apartment</td>\n",
       "            <td>Managers</td>\n",
       "            <td>&gt;200K</td>\n",
       "            <td>&lt;=250K</td>\n",
       "            <td>15K-25K</td>\n",
       "            <td>41-50 Years</td>\n",
       "            <td>1 child</td>\n",
       "            <td>Zero Enquiry</td>\n",
       "            <td>Zero Enquiry</td>\n",
       "        </tr>\n",
       "        <tr>\n",
       "            <td>0</td>\n",
       "            <td>94500.0</td>\n",
       "            <td>1</td>\n",
       "            <td>0</td>\n",
       "            <td>1</td>\n",
       "            <td>316755</td>\n",
       "            <td>Cash loans</td>\n",
       "            <td>M</td>\n",
       "            <td>Pensioner</td>\n",
       "            <td>Higher education</td>\n",
       "            <td>Married</td>\n",
       "            <td>House / apartment</td>\n",
       "            <td>None</td>\n",
       "            <td>&lt;=100K</td>\n",
       "            <td>250K-500K</td>\n",
       "            <td>25K-35K</td>\n",
       "            <td>&gt;=61 Years</td>\n",
       "            <td>No children</td>\n",
       "            <td>Zero Enquiry</td>\n",
       "            <td>Zero Enquiry</td>\n",
       "        </tr>\n",
       "        <tr>\n",
       "            <td>0</td>\n",
       "            <td>81000.0</td>\n",
       "            <td>1</td>\n",
       "            <td>0</td>\n",
       "            <td>1</td>\n",
       "            <td>317502</td>\n",
       "            <td>Cash loans</td>\n",
       "            <td>M</td>\n",
       "            <td>Working</td>\n",
       "            <td>Lower secondary</td>\n",
       "            <td>Married</td>\n",
       "            <td>Rented apartment</td>\n",
       "            <td>None</td>\n",
       "            <td>&lt;=100K</td>\n",
       "            <td>&lt;=250K</td>\n",
       "            <td>15K-25K</td>\n",
       "            <td>31-40 Years</td>\n",
       "            <td>&gt;=2 children</td>\n",
       "            <td>Zero Enquiry</td>\n",
       "            <td>Zero Enquiry</td>\n",
       "        </tr>\n",
       "        <tr>\n",
       "            <td>0</td>\n",
       "            <td>414000.0</td>\n",
       "            <td>1</td>\n",
       "            <td>1</td>\n",
       "            <td>1</td>\n",
       "            <td>324023</td>\n",
       "            <td>Cash loans</td>\n",
       "            <td>M</td>\n",
       "            <td>Working</td>\n",
       "            <td>Incomplete higher</td>\n",
       "            <td>Married</td>\n",
       "            <td>With parents</td>\n",
       "            <td>None</td>\n",
       "            <td>&gt;200K</td>\n",
       "            <td>750K-1000K</td>\n",
       "            <td>&gt;55K</td>\n",
       "            <td>31-40 Years</td>\n",
       "            <td>No children</td>\n",
       "            <td>Zero Enquiry</td>\n",
       "            <td>Zero Enquiry</td>\n",
       "        </tr>\n",
       "        <tr>\n",
       "            <td>0</td>\n",
       "            <td>225000.0</td>\n",
       "            <td>1</td>\n",
       "            <td>0</td>\n",
       "            <td>1</td>\n",
       "            <td>324367</td>\n",
       "            <td>Cash loans</td>\n",
       "            <td>F</td>\n",
       "            <td>Pensioner</td>\n",
       "            <td>Higher education</td>\n",
       "            <td>Married</td>\n",
       "            <td>House / apartment</td>\n",
       "            <td>None</td>\n",
       "            <td>&gt;200K</td>\n",
       "            <td>&gt;1000K</td>\n",
       "            <td>&gt;55K</td>\n",
       "            <td>51-60 Years</td>\n",
       "            <td>No children</td>\n",
       "            <td>Zero Enquiry</td>\n",
       "            <td>Zero Enquiry</td>\n",
       "        </tr>\n",
       "        <tr>\n",
       "            <td>0</td>\n",
       "            <td>81000.0</td>\n",
       "            <td>1</td>\n",
       "            <td>0</td>\n",
       "            <td>1</td>\n",
       "            <td>326417</td>\n",
       "            <td>Cash loans</td>\n",
       "            <td>F</td>\n",
       "            <td>Pensioner</td>\n",
       "            <td>Higher education</td>\n",
       "            <td>Widow</td>\n",
       "            <td>House / apartment</td>\n",
       "            <td>None</td>\n",
       "            <td>&lt;=100K</td>\n",
       "            <td>250K-500K</td>\n",
       "            <td>&lt;=15K</td>\n",
       "            <td>&gt;=61 Years</td>\n",
       "            <td>No children</td>\n",
       "            <td>Zero Enquiry</td>\n",
       "            <td>Zero Enquiry</td>\n",
       "        </tr>\n",
       "        <tr>\n",
       "            <td>0</td>\n",
       "            <td>67500.0</td>\n",
       "            <td>1</td>\n",
       "            <td>0</td>\n",
       "            <td>1</td>\n",
       "            <td>327181</td>\n",
       "            <td>Cash loans</td>\n",
       "            <td>M</td>\n",
       "            <td>Pensioner</td>\n",
       "            <td>Lower secondary</td>\n",
       "            <td>Married</td>\n",
       "            <td>House / apartment</td>\n",
       "            <td>None</td>\n",
       "            <td>&lt;=100K</td>\n",
       "            <td>250K-500K</td>\n",
       "            <td>15K-25K</td>\n",
       "            <td>&gt;=61 Years</td>\n",
       "            <td>No children</td>\n",
       "            <td>Zero Enquiry</td>\n",
       "            <td>Zero Enquiry</td>\n",
       "        </tr>\n",
       "        <tr>\n",
       "            <td>0</td>\n",
       "            <td>360000.0</td>\n",
       "            <td>1</td>\n",
       "            <td>0</td>\n",
       "            <td>1</td>\n",
       "            <td>333274</td>\n",
       "            <td>Cash loans</td>\n",
       "            <td>M</td>\n",
       "            <td>Working</td>\n",
       "            <td>Higher education</td>\n",
       "            <td>Married</td>\n",
       "            <td>House / apartment</td>\n",
       "            <td>Managers</td>\n",
       "            <td>&gt;200K</td>\n",
       "            <td>250K-500K</td>\n",
       "            <td>25K-35K</td>\n",
       "            <td>41-50 Years</td>\n",
       "            <td>No children</td>\n",
       "            <td>Zero Enquiry</td>\n",
       "            <td>Zero Enquiry</td>\n",
       "        </tr>\n",
       "        <tr>\n",
       "            <td>0</td>\n",
       "            <td>90000.0</td>\n",
       "            <td>1</td>\n",
       "            <td>0</td>\n",
       "            <td>1</td>\n",
       "            <td>333796</td>\n",
       "            <td>Cash loans</td>\n",
       "            <td>M</td>\n",
       "            <td>Pensioner</td>\n",
       "            <td>Higher education</td>\n",
       "            <td>Married</td>\n",
       "            <td>House / apartment</td>\n",
       "            <td>None</td>\n",
       "            <td>&lt;=100K</td>\n",
       "            <td>&lt;=250K</td>\n",
       "            <td>15K-25K</td>\n",
       "            <td>&gt;=61 Years</td>\n",
       "            <td>No children</td>\n",
       "            <td>Zero Enquiry</td>\n",
       "            <td>Zero Enquiry</td>\n",
       "        </tr>\n",
       "    </tbody>\n",
       "</table>"
      ],
      "text/plain": [
       "[(Decimal('0'), Decimal('157500.0'), '1', '0', '1', Decimal('315919'), 'Cash loans', 'F', 'Pensioner', 'Higher education', 'Widow', 'House / apartment', None, '150K-200K', '500K-750K', '15K-25K', '51-60 Years', 'No children', 'Zero Enquiry', 'Zero Enquiry'),\n",
       " (Decimal('0'), Decimal('225000.0'), '1', '1', '1', Decimal('316082'), 'Cash loans', 'F', 'Working', 'Higher education', 'Married', 'House / apartment', 'Managers', '>200K', '<=250K', '15K-25K', '41-50 Years', '1 child', 'Zero Enquiry', 'Zero Enquiry'),\n",
       " (Decimal('0'), Decimal('94500.0'), '1', '0', '1', Decimal('316755'), 'Cash loans', 'M', 'Pensioner', 'Higher education', 'Married', 'House / apartment', None, '<=100K', '250K-500K', '25K-35K', '>=61 Years', 'No children', 'Zero Enquiry', 'Zero Enquiry'),\n",
       " (Decimal('0'), Decimal('81000.0'), '1', '0', '1', Decimal('317502'), 'Cash loans', 'M', 'Working', 'Lower secondary', 'Married', 'Rented apartment', None, '<=100K', '<=250K', '15K-25K', '31-40 Years', '>=2 children', 'Zero Enquiry', 'Zero Enquiry'),\n",
       " (Decimal('0'), Decimal('414000.0'), '1', '1', '1', Decimal('324023'), 'Cash loans', 'M', 'Working', 'Incomplete higher', 'Married', 'With parents', None, '>200K', '750K-1000K', '>55K', '31-40 Years', 'No children', 'Zero Enquiry', 'Zero Enquiry'),\n",
       " (Decimal('0'), Decimal('225000.0'), '1', '0', '1', Decimal('324367'), 'Cash loans', 'F', 'Pensioner', 'Higher education', 'Married', 'House / apartment', None, '>200K', '>1000K', '>55K', '51-60 Years', 'No children', 'Zero Enquiry', 'Zero Enquiry'),\n",
       " (Decimal('0'), Decimal('81000.0'), '1', '0', '1', Decimal('326417'), 'Cash loans', 'F', 'Pensioner', 'Higher education', 'Widow', 'House / apartment', None, '<=100K', '250K-500K', '<=15K', '>=61 Years', 'No children', 'Zero Enquiry', 'Zero Enquiry'),\n",
       " (Decimal('0'), Decimal('67500.0'), '1', '0', '1', Decimal('327181'), 'Cash loans', 'M', 'Pensioner', 'Lower secondary', 'Married', 'House / apartment', None, '<=100K', '250K-500K', '15K-25K', '>=61 Years', 'No children', 'Zero Enquiry', 'Zero Enquiry'),\n",
       " (Decimal('0'), Decimal('360000.0'), '1', '0', '1', Decimal('333274'), 'Cash loans', 'M', 'Working', 'Higher education', 'Married', 'House / apartment', 'Managers', '>200K', '250K-500K', '25K-35K', '41-50 Years', 'No children', 'Zero Enquiry', 'Zero Enquiry'),\n",
       " (Decimal('0'), Decimal('90000.0'), '1', '0', '1', Decimal('333796'), 'Cash loans', 'M', 'Pensioner', 'Higher education', 'Married', 'House / apartment', None, '<=100K', '<=250K', '15K-25K', '>=61 Years', 'No children', 'Zero Enquiry', 'Zero Enquiry')]"
      ]
     },
     "execution_count": 40,
     "metadata": {},
     "output_type": "execute_result"
    }
   ],
   "source": [
    "%%sql\n",
    "select * from application_data\n",
    "limit 10;"
   ]
  },
  {
   "cell_type": "code",
   "execution_count": 41,
   "id": "2401b354-1dee-42b7-ac4f-f0d23389177e",
   "metadata": {},
   "outputs": [
    {
     "name": "stdout",
     "output_type": "stream",
     "text": [
      " * postgresql://student@/Final_Project\n",
      "96391 rows affected.\n"
     ]
    },
    {
     "data": {
      "text/plain": [
       "[]"
      ]
     },
     "execution_count": 41,
     "metadata": {},
     "output_type": "execute_result"
    }
   ],
   "source": [
    "%%sql\n",
    "UPDATE APPLICATION_DATA\n",
    "SET OCCUPATION_TYPE='DATA NOT AVAILABLE'\n",
    "WHERE OCCUPATION_TYPE IS NULL;"
   ]
  },
  {
   "cell_type": "markdown",
   "id": "9cec21d2-32bc-4fa9-b8b2-d08d212e0c0a",
   "metadata": {},
   "source": [
    "# Creating Dimension and Fact Table"
   ]
  },
  {
   "cell_type": "markdown",
   "id": "c125686b-76f4-46ef-bc3a-d1a244ecb65e",
   "metadata": {},
   "source": [
    "### Credit Bureau Dimension"
   ]
  },
  {
   "cell_type": "markdown",
   "id": "f3e3e4f7-d079-4040-852a-4d7083817931",
   "metadata": {},
   "source": [
    "Creating credit_bureau_dimension table"
   ]
  },
  {
   "cell_type": "code",
   "execution_count": 42,
   "id": "6cfbd8a4-a2f0-4f72-a374-28850d93b0bd",
   "metadata": {},
   "outputs": [
    {
     "name": "stdout",
     "output_type": "stream",
     "text": [
      " * postgresql://student@/Final_Project\n",
      "Done.\n",
      "Done.\n"
     ]
    },
    {
     "data": {
      "text/plain": [
       "[]"
      ]
     },
     "execution_count": 42,
     "metadata": {},
     "output_type": "execute_result"
    }
   ],
   "source": [
    "%%sql\n",
    "DROP TABLE IF EXISTS CREDIT_BUREAU_DIMENSION CASCADE;\n",
    "CREATE TABLE CREDIT_BUREAU_DIMENSION (\n",
    "    Bureau_KEY SERIAL PRIMARY KEY,\n",
    "    amt_req_credit_bureau_hour_group VARCHAR(50),\n",
    "    amt_req_credit_bureau_day_group VARCHAR(50)\n",
    ");"
   ]
  },
  {
   "cell_type": "markdown",
   "id": "19e2d69a-f96a-4f87-8591-601265d77097",
   "metadata": {},
   "source": [
    "Populate credit bureau dimension table with data from application_data table "
   ]
  },
  {
   "cell_type": "code",
   "execution_count": 43,
   "id": "ef78007a-c8f6-4ec0-8cbe-a3d4d39d6b03",
   "metadata": {},
   "outputs": [
    {
     "name": "stdout",
     "output_type": "stream",
     "text": [
      " * postgresql://student@/Final_Project\n",
      "4 rows affected.\n"
     ]
    },
    {
     "data": {
      "text/plain": [
       "[]"
      ]
     },
     "execution_count": 43,
     "metadata": {},
     "output_type": "execute_result"
    }
   ],
   "source": [
    "%%sql\n",
    "INSERT INTO CREDIT_BUREAU_DIMENSION (amt_req_credit_bureau_hour_group,amt_req_credit_bureau_day_group)\n",
    "SELECT DISTINCT amt_req_credit_bureau_hour_group,amt_req_credit_bureau_day_group\n",
    "FROM APPLICATION_DATA;"
   ]
  },
  {
   "cell_type": "markdown",
   "id": "29074b7f-db1f-47cb-8f8a-a774c6c2de97",
   "metadata": {},
   "source": [
    " - Verify that wrangling steps have succeeded "
   ]
  },
  {
   "cell_type": "code",
   "execution_count": 44,
   "id": "be6a32ff-083e-4c8c-886f-88b2581d13c4",
   "metadata": {},
   "outputs": [
    {
     "name": "stdout",
     "output_type": "stream",
     "text": [
      " * postgresql://student@/Final_Project\n",
      "4 rows affected.\n"
     ]
    },
    {
     "data": {
      "text/html": [
       "<table>\n",
       "    <thead>\n",
       "        <tr>\n",
       "            <th>bureau_key</th>\n",
       "            <th>amt_req_credit_bureau_hour_group</th>\n",
       "            <th>amt_req_credit_bureau_day_group</th>\n",
       "        </tr>\n",
       "    </thead>\n",
       "    <tbody>\n",
       "        <tr>\n",
       "            <td>1</td>\n",
       "            <td>1 or more Enquiries</td>\n",
       "            <td>1 or more Enquiries</td>\n",
       "        </tr>\n",
       "        <tr>\n",
       "            <td>2</td>\n",
       "            <td>1 or more Enquiries</td>\n",
       "            <td>Zero Enquiry</td>\n",
       "        </tr>\n",
       "        <tr>\n",
       "            <td>3</td>\n",
       "            <td>Zero Enquiry</td>\n",
       "            <td>1 or more Enquiries</td>\n",
       "        </tr>\n",
       "        <tr>\n",
       "            <td>4</td>\n",
       "            <td>Zero Enquiry</td>\n",
       "            <td>Zero Enquiry</td>\n",
       "        </tr>\n",
       "    </tbody>\n",
       "</table>"
      ],
      "text/plain": [
       "[(1, '1 or more Enquiries', '1 or more Enquiries'),\n",
       " (2, '1 or more Enquiries', 'Zero Enquiry'),\n",
       " (3, 'Zero Enquiry', '1 or more Enquiries'),\n",
       " (4, 'Zero Enquiry', 'Zero Enquiry')]"
      ]
     },
     "execution_count": 44,
     "metadata": {},
     "output_type": "execute_result"
    }
   ],
   "source": [
    "%%sql\n",
    "SELECT * FROM CREDIT_BUREAU_DIMENSION"
   ]
  },
  {
   "cell_type": "markdown",
   "id": "f2e5be3b-8363-4125-8957-dbce0b237f9d",
   "metadata": {},
   "source": [
    "Mapping the Key in the application_data (fact table)"
   ]
  },
  {
   "cell_type": "code",
   "execution_count": 45,
   "id": "e700d00a-ee9e-4013-8a04-a9d0b816ee54",
   "metadata": {},
   "outputs": [
    {
     "name": "stdout",
     "output_type": "stream",
     "text": [
      " * postgresql://student@/Final_Project\n",
      "Done.\n"
     ]
    },
    {
     "data": {
      "text/plain": [
       "[]"
      ]
     },
     "execution_count": 45,
     "metadata": {},
     "output_type": "execute_result"
    }
   ],
   "source": [
    "%%sql\n",
    "ALTER TABLE APPLICATION_DATA\n",
    "ADD COLUMN Bureau_KEY INTEGER,\n",
    "ADD FOREIGN KEY(Bureau_KEY) REFERENCES CREDIT_BUREAU_DIMENSION;"
   ]
  },
  {
   "cell_type": "markdown",
   "id": "610df0dd-66d7-4cf5-9091-d8b51864408d",
   "metadata": {},
   "source": [
    "Populate the Bureau_KEY"
   ]
  },
  {
   "cell_type": "code",
   "execution_count": 46,
   "id": "50cb1da5-7eeb-4b3f-b596-7b4838910aae",
   "metadata": {},
   "outputs": [
    {
     "name": "stdout",
     "output_type": "stream",
     "text": [
      " * postgresql://student@/Final_Project\n",
      "307511 rows affected.\n"
     ]
    },
    {
     "data": {
      "text/plain": [
       "[]"
      ]
     },
     "execution_count": 46,
     "metadata": {},
     "output_type": "execute_result"
    }
   ],
   "source": [
    "%%sql\n",
    "UPDATE APPLICATION_DATA\n",
    "SET Bureau_KEY=CREDIT_BUREAU_DIMENSION.Bureau_KEY\n",
    "FROM CREDIT_BUREAU_DIMENSION\n",
    "WHERE APPLICATION_DATA.amt_req_credit_bureau_hour_group=CREDIT_BUREAU_DIMENSION.amt_req_credit_bureau_hour_group\n",
    "and APPLICATION_DATA.amt_req_credit_bureau_day_group=CREDIT_BUREAU_DIMENSION.amt_req_credit_bureau_day_group"
   ]
  },
  {
   "cell_type": "markdown",
   "id": "f7116b46-cccd-4a1c-a30f-257e3fc69a89",
   "metadata": {},
   "source": [
    "- Verify that your wrangling steps have succeeded "
   ]
  },
  {
   "cell_type": "code",
   "execution_count": 47,
   "id": "022bb962-ea2a-41fd-827d-3290f992e2f8",
   "metadata": {},
   "outputs": [
    {
     "name": "stdout",
     "output_type": "stream",
     "text": [
      " * postgresql://student@/Final_Project\n",
      "10 rows affected.\n"
     ]
    },
    {
     "data": {
      "text/html": [
       "<table>\n",
       "    <thead>\n",
       "        <tr>\n",
       "            <th>target</th>\n",
       "            <th>amt_income_total</th>\n",
       "            <th>flag_mobil</th>\n",
       "            <th>flag_email</th>\n",
       "            <th>flag_cont_mobile</th>\n",
       "            <th>sk_id_curr</th>\n",
       "            <th>name_contract_type</th>\n",
       "            <th>code_gender</th>\n",
       "            <th>name_income_type</th>\n",
       "            <th>name_education_type</th>\n",
       "            <th>name_family_status</th>\n",
       "            <th>name_housing_type</th>\n",
       "            <th>occupation_type</th>\n",
       "            <th>amt_income_total_group</th>\n",
       "            <th>amt_credit_group</th>\n",
       "            <th>amt_annuity_group</th>\n",
       "            <th>year_birth_group</th>\n",
       "            <th>cnt_children_group</th>\n",
       "            <th>amt_req_credit_bureau_hour_group</th>\n",
       "            <th>amt_req_credit_bureau_day_group</th>\n",
       "            <th>bureau_key</th>\n",
       "        </tr>\n",
       "    </thead>\n",
       "    <tbody>\n",
       "        <tr>\n",
       "            <td>0</td>\n",
       "            <td>360000.0</td>\n",
       "            <td>1</td>\n",
       "            <td>0</td>\n",
       "            <td>1</td>\n",
       "            <td>333274</td>\n",
       "            <td>Cash loans</td>\n",
       "            <td>M</td>\n",
       "            <td>Working</td>\n",
       "            <td>Higher education</td>\n",
       "            <td>Married</td>\n",
       "            <td>House / apartment</td>\n",
       "            <td>Managers</td>\n",
       "            <td>&gt;200K</td>\n",
       "            <td>250K-500K</td>\n",
       "            <td>25K-35K</td>\n",
       "            <td>41-50 Years</td>\n",
       "            <td>No children</td>\n",
       "            <td>Zero Enquiry</td>\n",
       "            <td>Zero Enquiry</td>\n",
       "            <td>4</td>\n",
       "        </tr>\n",
       "        <tr>\n",
       "            <td>0</td>\n",
       "            <td>90000.0</td>\n",
       "            <td>1</td>\n",
       "            <td>0</td>\n",
       "            <td>1</td>\n",
       "            <td>333796</td>\n",
       "            <td>Cash loans</td>\n",
       "            <td>M</td>\n",
       "            <td>Pensioner</td>\n",
       "            <td>Higher education</td>\n",
       "            <td>Married</td>\n",
       "            <td>House / apartment</td>\n",
       "            <td>DATA NOT AVAILABLE</td>\n",
       "            <td>&lt;=100K</td>\n",
       "            <td>&lt;=250K</td>\n",
       "            <td>15K-25K</td>\n",
       "            <td>&gt;=61 Years</td>\n",
       "            <td>No children</td>\n",
       "            <td>Zero Enquiry</td>\n",
       "            <td>Zero Enquiry</td>\n",
       "            <td>4</td>\n",
       "        </tr>\n",
       "        <tr>\n",
       "            <td>0</td>\n",
       "            <td>225000.0</td>\n",
       "            <td>1</td>\n",
       "            <td>0</td>\n",
       "            <td>1</td>\n",
       "            <td>348486</td>\n",
       "            <td>Revolving loans</td>\n",
       "            <td>M</td>\n",
       "            <td>Working</td>\n",
       "            <td>Higher education</td>\n",
       "            <td>Married</td>\n",
       "            <td>With parents</td>\n",
       "            <td>Laborers</td>\n",
       "            <td>&gt;200K</td>\n",
       "            <td>&lt;=250K</td>\n",
       "            <td>&lt;=15K</td>\n",
       "            <td>21-30 Years</td>\n",
       "            <td>No children</td>\n",
       "            <td>Zero Enquiry</td>\n",
       "            <td>Zero Enquiry</td>\n",
       "            <td>4</td>\n",
       "        </tr>\n",
       "        <tr>\n",
       "            <td>0</td>\n",
       "            <td>225000.0</td>\n",
       "            <td>1</td>\n",
       "            <td>0</td>\n",
       "            <td>1</td>\n",
       "            <td>350300</td>\n",
       "            <td>Cash loans</td>\n",
       "            <td>F</td>\n",
       "            <td>Working</td>\n",
       "            <td>Higher education</td>\n",
       "            <td>Widow</td>\n",
       "            <td>House / apartment</td>\n",
       "            <td>DATA NOT AVAILABLE</td>\n",
       "            <td>&gt;200K</td>\n",
       "            <td>250K-500K</td>\n",
       "            <td>15K-25K</td>\n",
       "            <td>31-40 Years</td>\n",
       "            <td>No children</td>\n",
       "            <td>Zero Enquiry</td>\n",
       "            <td>Zero Enquiry</td>\n",
       "            <td>4</td>\n",
       "        </tr>\n",
       "        <tr>\n",
       "            <td>0</td>\n",
       "            <td>360000.0</td>\n",
       "            <td>1</td>\n",
       "            <td>0</td>\n",
       "            <td>1</td>\n",
       "            <td>350485</td>\n",
       "            <td>Cash loans</td>\n",
       "            <td>F</td>\n",
       "            <td>Working</td>\n",
       "            <td>Higher education</td>\n",
       "            <td>Married</td>\n",
       "            <td>House / apartment</td>\n",
       "            <td>DATA NOT AVAILABLE</td>\n",
       "            <td>&gt;200K</td>\n",
       "            <td>750K-1000K</td>\n",
       "            <td>&gt;55K</td>\n",
       "            <td>21-30 Years</td>\n",
       "            <td>No children</td>\n",
       "            <td>Zero Enquiry</td>\n",
       "            <td>Zero Enquiry</td>\n",
       "            <td>4</td>\n",
       "        </tr>\n",
       "        <tr>\n",
       "            <td>0</td>\n",
       "            <td>67500.0</td>\n",
       "            <td>1</td>\n",
       "            <td>0</td>\n",
       "            <td>1</td>\n",
       "            <td>354448</td>\n",
       "            <td>Cash loans</td>\n",
       "            <td>F</td>\n",
       "            <td>Working</td>\n",
       "            <td>Higher education</td>\n",
       "            <td>Married</td>\n",
       "            <td>House / apartment</td>\n",
       "            <td>DATA NOT AVAILABLE</td>\n",
       "            <td>&lt;=100K</td>\n",
       "            <td>250K-500K</td>\n",
       "            <td>15K-25K</td>\n",
       "            <td>21-30 Years</td>\n",
       "            <td>No children</td>\n",
       "            <td>Zero Enquiry</td>\n",
       "            <td>Zero Enquiry</td>\n",
       "            <td>4</td>\n",
       "        </tr>\n",
       "        <tr>\n",
       "            <td>0</td>\n",
       "            <td>90000.0</td>\n",
       "            <td>1</td>\n",
       "            <td>0</td>\n",
       "            <td>1</td>\n",
       "            <td>363790</td>\n",
       "            <td>Cash loans</td>\n",
       "            <td>F</td>\n",
       "            <td>Pensioner</td>\n",
       "            <td>Higher education</td>\n",
       "            <td>Widow</td>\n",
       "            <td>House / apartment</td>\n",
       "            <td>DATA NOT AVAILABLE</td>\n",
       "            <td>&lt;=100K</td>\n",
       "            <td>&lt;=250K</td>\n",
       "            <td>15K-25K</td>\n",
       "            <td>&gt;=61 Years</td>\n",
       "            <td>No children</td>\n",
       "            <td>Zero Enquiry</td>\n",
       "            <td>Zero Enquiry</td>\n",
       "            <td>4</td>\n",
       "        </tr>\n",
       "        <tr>\n",
       "            <td>0</td>\n",
       "            <td>90000.0</td>\n",
       "            <td>1</td>\n",
       "            <td>0</td>\n",
       "            <td>1</td>\n",
       "            <td>371805</td>\n",
       "            <td>Cash loans</td>\n",
       "            <td>M</td>\n",
       "            <td>Working</td>\n",
       "            <td>Incomplete higher</td>\n",
       "            <td>Married</td>\n",
       "            <td>With parents</td>\n",
       "            <td>Laborers</td>\n",
       "            <td>&lt;=100K</td>\n",
       "            <td>&lt;=250K</td>\n",
       "            <td>&lt;=15K</td>\n",
       "            <td>21-30 Years</td>\n",
       "            <td>No children</td>\n",
       "            <td>Zero Enquiry</td>\n",
       "            <td>Zero Enquiry</td>\n",
       "            <td>4</td>\n",
       "        </tr>\n",
       "        <tr>\n",
       "            <td>0</td>\n",
       "            <td>81000.0</td>\n",
       "            <td>1</td>\n",
       "            <td>0</td>\n",
       "            <td>1</td>\n",
       "            <td>382276</td>\n",
       "            <td>Cash loans</td>\n",
       "            <td>F</td>\n",
       "            <td>Pensioner</td>\n",
       "            <td>Higher education</td>\n",
       "            <td>Married</td>\n",
       "            <td>House / apartment</td>\n",
       "            <td>DATA NOT AVAILABLE</td>\n",
       "            <td>&lt;=100K</td>\n",
       "            <td>&gt;1000K</td>\n",
       "            <td>25K-35K</td>\n",
       "            <td>51-60 Years</td>\n",
       "            <td>No children</td>\n",
       "            <td>Zero Enquiry</td>\n",
       "            <td>Zero Enquiry</td>\n",
       "            <td>4</td>\n",
       "        </tr>\n",
       "        <tr>\n",
       "            <td>0</td>\n",
       "            <td>211500.0</td>\n",
       "            <td>1</td>\n",
       "            <td>0</td>\n",
       "            <td>1</td>\n",
       "            <td>390020</td>\n",
       "            <td>Cash loans</td>\n",
       "            <td>M</td>\n",
       "            <td>Working</td>\n",
       "            <td>Higher education</td>\n",
       "            <td>Married</td>\n",
       "            <td>House / apartment</td>\n",
       "            <td>DATA NOT AVAILABLE</td>\n",
       "            <td>&gt;200K</td>\n",
       "            <td>250K-500K</td>\n",
       "            <td>&lt;=15K</td>\n",
       "            <td>51-60 Years</td>\n",
       "            <td>No children</td>\n",
       "            <td>Zero Enquiry</td>\n",
       "            <td>Zero Enquiry</td>\n",
       "            <td>4</td>\n",
       "        </tr>\n",
       "    </tbody>\n",
       "</table>"
      ],
      "text/plain": [
       "[(Decimal('0'), Decimal('360000.0'), '1', '0', '1', Decimal('333274'), 'Cash loans', 'M', 'Working', 'Higher education', 'Married', 'House / apartment', 'Managers', '>200K', '250K-500K', '25K-35K', '41-50 Years', 'No children', 'Zero Enquiry', 'Zero Enquiry', 4),\n",
       " (Decimal('0'), Decimal('90000.0'), '1', '0', '1', Decimal('333796'), 'Cash loans', 'M', 'Pensioner', 'Higher education', 'Married', 'House / apartment', 'DATA NOT AVAILABLE', '<=100K', '<=250K', '15K-25K', '>=61 Years', 'No children', 'Zero Enquiry', 'Zero Enquiry', 4),\n",
       " (Decimal('0'), Decimal('225000.0'), '1', '0', '1', Decimal('348486'), 'Revolving loans', 'M', 'Working', 'Higher education', 'Married', 'With parents', 'Laborers', '>200K', '<=250K', '<=15K', '21-30 Years', 'No children', 'Zero Enquiry', 'Zero Enquiry', 4),\n",
       " (Decimal('0'), Decimal('225000.0'), '1', '0', '1', Decimal('350300'), 'Cash loans', 'F', 'Working', 'Higher education', 'Widow', 'House / apartment', 'DATA NOT AVAILABLE', '>200K', '250K-500K', '15K-25K', '31-40 Years', 'No children', 'Zero Enquiry', 'Zero Enquiry', 4),\n",
       " (Decimal('0'), Decimal('360000.0'), '1', '0', '1', Decimal('350485'), 'Cash loans', 'F', 'Working', 'Higher education', 'Married', 'House / apartment', 'DATA NOT AVAILABLE', '>200K', '750K-1000K', '>55K', '21-30 Years', 'No children', 'Zero Enquiry', 'Zero Enquiry', 4),\n",
       " (Decimal('0'), Decimal('67500.0'), '1', '0', '1', Decimal('354448'), 'Cash loans', 'F', 'Working', 'Higher education', 'Married', 'House / apartment', 'DATA NOT AVAILABLE', '<=100K', '250K-500K', '15K-25K', '21-30 Years', 'No children', 'Zero Enquiry', 'Zero Enquiry', 4),\n",
       " (Decimal('0'), Decimal('90000.0'), '1', '0', '1', Decimal('363790'), 'Cash loans', 'F', 'Pensioner', 'Higher education', 'Widow', 'House / apartment', 'DATA NOT AVAILABLE', '<=100K', '<=250K', '15K-25K', '>=61 Years', 'No children', 'Zero Enquiry', 'Zero Enquiry', 4),\n",
       " (Decimal('0'), Decimal('90000.0'), '1', '0', '1', Decimal('371805'), 'Cash loans', 'M', 'Working', 'Incomplete higher', 'Married', 'With parents', 'Laborers', '<=100K', '<=250K', '<=15K', '21-30 Years', 'No children', 'Zero Enquiry', 'Zero Enquiry', 4),\n",
       " (Decimal('0'), Decimal('81000.0'), '1', '0', '1', Decimal('382276'), 'Cash loans', 'F', 'Pensioner', 'Higher education', 'Married', 'House / apartment', 'DATA NOT AVAILABLE', '<=100K', '>1000K', '25K-35K', '51-60 Years', 'No children', 'Zero Enquiry', 'Zero Enquiry', 4),\n",
       " (Decimal('0'), Decimal('211500.0'), '1', '0', '1', Decimal('390020'), 'Cash loans', 'M', 'Working', 'Higher education', 'Married', 'House / apartment', 'DATA NOT AVAILABLE', '>200K', '250K-500K', '<=15K', '51-60 Years', 'No children', 'Zero Enquiry', 'Zero Enquiry', 4)]"
      ]
     },
     "execution_count": 47,
     "metadata": {},
     "output_type": "execute_result"
    }
   ],
   "source": [
    "%%sql\n",
    "select * from APPLICATION_DATA\n",
    "limit 10;"
   ]
  },
  {
   "cell_type": "markdown",
   "id": "5fa585bf-fbf6-4208-80cd-d8e14ca73475",
   "metadata": {},
   "source": [
    "### Customer Contact Dimension"
   ]
  },
  {
   "cell_type": "markdown",
   "id": "8fb62c9f-c497-4aae-aa09-6af67033eb31",
   "metadata": {},
   "source": [
    "Creating customer_contact_dimension table"
   ]
  },
  {
   "cell_type": "code",
   "execution_count": 48,
   "id": "3c76f2e0-3d16-4063-ad3a-8a31298a33e3",
   "metadata": {},
   "outputs": [
    {
     "name": "stdout",
     "output_type": "stream",
     "text": [
      " * postgresql://student@/Final_Project\n",
      "Done.\n",
      "Done.\n"
     ]
    },
    {
     "data": {
      "text/plain": [
       "[]"
      ]
     },
     "execution_count": 48,
     "metadata": {},
     "output_type": "execute_result"
    }
   ],
   "source": [
    "%%sql\n",
    "DROP TABLE IF EXISTS CUSTOMER_CONTACT_DIMENSION CASCADE;\n",
    "CREATE TABLE CUSTOMER_CONTACT_DIMENSION (\n",
    "    CONTACT_KEY SERIAL PRIMARY KEY,\n",
    "    FLAG_MOBIL CHAR(1) NOT NULL,\n",
    "    FLAG_EMAIL CHAR(1) NOT NULL,\n",
    "    FLAG_CONT_MOBILE CHAR(1) NOT NULL\n",
    ");"
   ]
  },
  {
   "cell_type": "markdown",
   "id": "13ac50a0-09df-474d-8d8a-3a6caef19ad2",
   "metadata": {},
   "source": [
    "Populate customer contact dimension table with data from application data table "
   ]
  },
  {
   "cell_type": "code",
   "execution_count": 49,
   "id": "40426cec-8087-4f5a-b93e-d9b065807375",
   "metadata": {},
   "outputs": [
    {
     "name": "stdout",
     "output_type": "stream",
     "text": [
      " * postgresql://student@/Final_Project\n",
      "5 rows affected.\n"
     ]
    },
    {
     "data": {
      "text/plain": [
       "[]"
      ]
     },
     "execution_count": 49,
     "metadata": {},
     "output_type": "execute_result"
    }
   ],
   "source": [
    "%%sql\n",
    "INSERT INTO CUSTOMER_CONTACT_DIMENSION (FLAG_MOBIL,FLAG_EMAIL,FLAG_CONT_MOBILE)\n",
    "SELECT DISTINCT FLAG_MOBIL,FLAG_EMAIL,FLAG_CONT_MOBILE\n",
    "FROM APPLICATION_DATA;"
   ]
  },
  {
   "cell_type": "markdown",
   "id": "34f08ec6-1cbc-4672-966a-b94062d5e20a",
   "metadata": {},
   "source": [
    "- Verify that your wrangling steps have succeeded "
   ]
  },
  {
   "cell_type": "code",
   "execution_count": 50,
   "id": "91dbbc61-6a21-4b86-8578-479cfcf1bd25",
   "metadata": {},
   "outputs": [
    {
     "name": "stdout",
     "output_type": "stream",
     "text": [
      " * postgresql://student@/Final_Project\n",
      "5 rows affected.\n"
     ]
    },
    {
     "data": {
      "text/html": [
       "<table>\n",
       "    <thead>\n",
       "        <tr>\n",
       "            <th>contact_key</th>\n",
       "            <th>flag_mobil</th>\n",
       "            <th>flag_email</th>\n",
       "            <th>flag_cont_mobile</th>\n",
       "        </tr>\n",
       "    </thead>\n",
       "    <tbody>\n",
       "        <tr>\n",
       "            <td>1</td>\n",
       "            <td>1</td>\n",
       "            <td>0</td>\n",
       "            <td>0</td>\n",
       "        </tr>\n",
       "        <tr>\n",
       "            <td>2</td>\n",
       "            <td>1</td>\n",
       "            <td>1</td>\n",
       "            <td>1</td>\n",
       "        </tr>\n",
       "        <tr>\n",
       "            <td>3</td>\n",
       "            <td>1</td>\n",
       "            <td>1</td>\n",
       "            <td>0</td>\n",
       "        </tr>\n",
       "        <tr>\n",
       "            <td>4</td>\n",
       "            <td>1</td>\n",
       "            <td>0</td>\n",
       "            <td>1</td>\n",
       "        </tr>\n",
       "        <tr>\n",
       "            <td>5</td>\n",
       "            <td>0</td>\n",
       "            <td>0</td>\n",
       "            <td>1</td>\n",
       "        </tr>\n",
       "    </tbody>\n",
       "</table>"
      ],
      "text/plain": [
       "[(1, '1', '0', '0'),\n",
       " (2, '1', '1', '1'),\n",
       " (3, '1', '1', '0'),\n",
       " (4, '1', '0', '1'),\n",
       " (5, '0', '0', '1')]"
      ]
     },
     "execution_count": 50,
     "metadata": {},
     "output_type": "execute_result"
    }
   ],
   "source": [
    "%%sql\n",
    "SELECT * FROM CUSTOMER_CONTACT_DIMENSION"
   ]
  },
  {
   "cell_type": "markdown",
   "id": "76583c62-96de-4510-8767-4209e57f722a",
   "metadata": {},
   "source": [
    "Mapping the Key in the application_data"
   ]
  },
  {
   "cell_type": "code",
   "execution_count": 51,
   "id": "97aa6e13-a045-45b6-9290-0004ce72fd40",
   "metadata": {},
   "outputs": [
    {
     "name": "stdout",
     "output_type": "stream",
     "text": [
      " * postgresql://student@/Final_Project\n",
      "Done.\n"
     ]
    },
    {
     "data": {
      "text/plain": [
       "[]"
      ]
     },
     "execution_count": 51,
     "metadata": {},
     "output_type": "execute_result"
    }
   ],
   "source": [
    "%%sql\n",
    "ALTER TABLE APPLICATION_DATA\n",
    "ADD COLUMN CONTACT_KEY INTEGER,\n",
    "ADD FOREIGN KEY(CONTACT_KEY) REFERENCES CUSTOMER_CONTACT_DIMENSION;"
   ]
  },
  {
   "cell_type": "markdown",
   "id": "ed857252-aa94-497e-a5b9-ed07111da1ae",
   "metadata": {},
   "source": [
    "Populate CONTACT_KEY"
   ]
  },
  {
   "cell_type": "code",
   "execution_count": 52,
   "id": "f5bd3dff-793d-4c5c-8b16-02cd186fa7cf",
   "metadata": {},
   "outputs": [
    {
     "name": "stdout",
     "output_type": "stream",
     "text": [
      " * postgresql://student@/Final_Project\n",
      "307511 rows affected.\n"
     ]
    },
    {
     "data": {
      "text/plain": [
       "[]"
      ]
     },
     "execution_count": 52,
     "metadata": {},
     "output_type": "execute_result"
    }
   ],
   "source": [
    "%%sql\n",
    "UPDATE APPLICATION_DATA\n",
    "SET CONTACT_KEY=CUSTOMER_CONTACT_DIMENSION.CONTACT_KEY\n",
    "FROM CUSTOMER_CONTACT_DIMENSION\n",
    "WHERE APPLICATION_DATA.FLAG_MOBIL=CUSTOMER_CONTACT_DIMENSION.FLAG_MOBIL\n",
    "AND APPLICATION_DATA.FLAG_EMAIL=CUSTOMER_CONTACT_DIMENSION.FLAG_EMAIL\n",
    "AND APPLICATION_DATA.FLAG_CONT_MOBILE=CUSTOMER_CONTACT_DIMENSION.FLAG_CONT_MOBILE;"
   ]
  },
  {
   "cell_type": "markdown",
   "id": "e6c6a533-4540-4e6f-aeaa-5d0652a39cd4",
   "metadata": {},
   "source": [
    "- Verify that your wrangling steps have succeeded "
   ]
  },
  {
   "cell_type": "code",
   "execution_count": 53,
   "id": "7e860445-7dc4-4a88-bb4e-b97423e0b736",
   "metadata": {},
   "outputs": [
    {
     "name": "stdout",
     "output_type": "stream",
     "text": [
      " * postgresql://student@/Final_Project\n",
      "10 rows affected.\n"
     ]
    },
    {
     "data": {
      "text/html": [
       "<table>\n",
       "    <thead>\n",
       "        <tr>\n",
       "            <th>target</th>\n",
       "            <th>amt_income_total</th>\n",
       "            <th>flag_mobil</th>\n",
       "            <th>flag_email</th>\n",
       "            <th>flag_cont_mobile</th>\n",
       "            <th>sk_id_curr</th>\n",
       "            <th>name_contract_type</th>\n",
       "            <th>code_gender</th>\n",
       "            <th>name_income_type</th>\n",
       "            <th>name_education_type</th>\n",
       "            <th>name_family_status</th>\n",
       "            <th>name_housing_type</th>\n",
       "            <th>occupation_type</th>\n",
       "            <th>amt_income_total_group</th>\n",
       "            <th>amt_credit_group</th>\n",
       "            <th>amt_annuity_group</th>\n",
       "            <th>year_birth_group</th>\n",
       "            <th>cnt_children_group</th>\n",
       "            <th>amt_req_credit_bureau_hour_group</th>\n",
       "            <th>amt_req_credit_bureau_day_group</th>\n",
       "            <th>bureau_key</th>\n",
       "            <th>contact_key</th>\n",
       "        </tr>\n",
       "    </thead>\n",
       "    <tbody>\n",
       "        <tr>\n",
       "            <td>0</td>\n",
       "            <td>211500.0</td>\n",
       "            <td>1</td>\n",
       "            <td>0</td>\n",
       "            <td>1</td>\n",
       "            <td>390020</td>\n",
       "            <td>Cash loans</td>\n",
       "            <td>M</td>\n",
       "            <td>Working</td>\n",
       "            <td>Higher education</td>\n",
       "            <td>Married</td>\n",
       "            <td>House / apartment</td>\n",
       "            <td>DATA NOT AVAILABLE</td>\n",
       "            <td>&gt;200K</td>\n",
       "            <td>250K-500K</td>\n",
       "            <td>&lt;=15K</td>\n",
       "            <td>51-60 Years</td>\n",
       "            <td>No children</td>\n",
       "            <td>Zero Enquiry</td>\n",
       "            <td>Zero Enquiry</td>\n",
       "            <td>4</td>\n",
       "            <td>4</td>\n",
       "        </tr>\n",
       "        <tr>\n",
       "            <td>0</td>\n",
       "            <td>270000.0</td>\n",
       "            <td>1</td>\n",
       "            <td>0</td>\n",
       "            <td>1</td>\n",
       "            <td>404231</td>\n",
       "            <td>Cash loans</td>\n",
       "            <td>M</td>\n",
       "            <td>Working</td>\n",
       "            <td>Higher education</td>\n",
       "            <td>Married</td>\n",
       "            <td>House / apartment</td>\n",
       "            <td>DATA NOT AVAILABLE</td>\n",
       "            <td>&gt;200K</td>\n",
       "            <td>&gt;1000K</td>\n",
       "            <td>&gt;55K</td>\n",
       "            <td>41-50 Years</td>\n",
       "            <td>No children</td>\n",
       "            <td>Zero Enquiry</td>\n",
       "            <td>Zero Enquiry</td>\n",
       "            <td>4</td>\n",
       "            <td>4</td>\n",
       "        </tr>\n",
       "        <tr>\n",
       "            <td>0</td>\n",
       "            <td>360000.0</td>\n",
       "            <td>1</td>\n",
       "            <td>0</td>\n",
       "            <td>1</td>\n",
       "            <td>409190</td>\n",
       "            <td>Cash loans</td>\n",
       "            <td>M</td>\n",
       "            <td>Pensioner</td>\n",
       "            <td>Higher education</td>\n",
       "            <td>Married</td>\n",
       "            <td>House / apartment</td>\n",
       "            <td>DATA NOT AVAILABLE</td>\n",
       "            <td>&gt;200K</td>\n",
       "            <td>&gt;1000K</td>\n",
       "            <td>&gt;55K</td>\n",
       "            <td>51-60 Years</td>\n",
       "            <td>No children</td>\n",
       "            <td>Zero Enquiry</td>\n",
       "            <td>Zero Enquiry</td>\n",
       "            <td>4</td>\n",
       "            <td>4</td>\n",
       "        </tr>\n",
       "        <tr>\n",
       "            <td>0</td>\n",
       "            <td>225000.0</td>\n",
       "            <td>1</td>\n",
       "            <td>0</td>\n",
       "            <td>1</td>\n",
       "            <td>434449</td>\n",
       "            <td>Cash loans</td>\n",
       "            <td>F</td>\n",
       "            <td>Working</td>\n",
       "            <td>Higher education</td>\n",
       "            <td>Married</td>\n",
       "            <td>With parents</td>\n",
       "            <td>DATA NOT AVAILABLE</td>\n",
       "            <td>&gt;200K</td>\n",
       "            <td>500K-750K</td>\n",
       "            <td>25K-35K</td>\n",
       "            <td>31-40 Years</td>\n",
       "            <td>No children</td>\n",
       "            <td>Zero Enquiry</td>\n",
       "            <td>Zero Enquiry</td>\n",
       "            <td>4</td>\n",
       "            <td>4</td>\n",
       "        </tr>\n",
       "        <tr>\n",
       "            <td>0</td>\n",
       "            <td>90000.0</td>\n",
       "            <td>1</td>\n",
       "            <td>0</td>\n",
       "            <td>1</td>\n",
       "            <td>437145</td>\n",
       "            <td>Cash loans</td>\n",
       "            <td>M</td>\n",
       "            <td>Pensioner</td>\n",
       "            <td>Lower secondary</td>\n",
       "            <td>Widow</td>\n",
       "            <td>House / apartment</td>\n",
       "            <td>DATA NOT AVAILABLE</td>\n",
       "            <td>&lt;=100K</td>\n",
       "            <td>250K-500K</td>\n",
       "            <td>15K-25K</td>\n",
       "            <td>&gt;=61 Years</td>\n",
       "            <td>No children</td>\n",
       "            <td>Zero Enquiry</td>\n",
       "            <td>Zero Enquiry</td>\n",
       "            <td>4</td>\n",
       "            <td>4</td>\n",
       "        </tr>\n",
       "        <tr>\n",
       "            <td>0</td>\n",
       "            <td>67500.0</td>\n",
       "            <td>1</td>\n",
       "            <td>0</td>\n",
       "            <td>1</td>\n",
       "            <td>442509</td>\n",
       "            <td>Cash loans</td>\n",
       "            <td>F</td>\n",
       "            <td>Pensioner</td>\n",
       "            <td>Higher education</td>\n",
       "            <td>Widow</td>\n",
       "            <td>With parents</td>\n",
       "            <td>DATA NOT AVAILABLE</td>\n",
       "            <td>&lt;=100K</td>\n",
       "            <td>&lt;=250K</td>\n",
       "            <td>&lt;=15K</td>\n",
       "            <td>&gt;=61 Years</td>\n",
       "            <td>No children</td>\n",
       "            <td>Zero Enquiry</td>\n",
       "            <td>Zero Enquiry</td>\n",
       "            <td>4</td>\n",
       "            <td>4</td>\n",
       "        </tr>\n",
       "        <tr>\n",
       "            <td>0</td>\n",
       "            <td>202500.0</td>\n",
       "            <td>1</td>\n",
       "            <td>0</td>\n",
       "            <td>1</td>\n",
       "            <td>443021</td>\n",
       "            <td>Cash loans</td>\n",
       "            <td>M</td>\n",
       "            <td>Working</td>\n",
       "            <td>Higher education</td>\n",
       "            <td>Married</td>\n",
       "            <td>With parents</td>\n",
       "            <td>Managers</td>\n",
       "            <td>&gt;200K</td>\n",
       "            <td>500K-750K</td>\n",
       "            <td>25K-35K</td>\n",
       "            <td>51-60 Years</td>\n",
       "            <td>No children</td>\n",
       "            <td>Zero Enquiry</td>\n",
       "            <td>Zero Enquiry</td>\n",
       "            <td>4</td>\n",
       "            <td>4</td>\n",
       "        </tr>\n",
       "        <tr>\n",
       "            <td>0</td>\n",
       "            <td>225000.0</td>\n",
       "            <td>1</td>\n",
       "            <td>0</td>\n",
       "            <td>1</td>\n",
       "            <td>450519</td>\n",
       "            <td>Cash loans</td>\n",
       "            <td>F</td>\n",
       "            <td>Pensioner</td>\n",
       "            <td>Higher education</td>\n",
       "            <td>Widow</td>\n",
       "            <td>House / apartment</td>\n",
       "            <td>DATA NOT AVAILABLE</td>\n",
       "            <td>&gt;200K</td>\n",
       "            <td>250K-500K</td>\n",
       "            <td>15K-25K</td>\n",
       "            <td>&gt;=61 Years</td>\n",
       "            <td>No children</td>\n",
       "            <td>Zero Enquiry</td>\n",
       "            <td>Zero Enquiry</td>\n",
       "            <td>4</td>\n",
       "            <td>4</td>\n",
       "        </tr>\n",
       "        <tr>\n",
       "            <td>0</td>\n",
       "            <td>180000.0</td>\n",
       "            <td>1</td>\n",
       "            <td>0</td>\n",
       "            <td>1</td>\n",
       "            <td>455613</td>\n",
       "            <td>Cash loans</td>\n",
       "            <td>M</td>\n",
       "            <td>Working</td>\n",
       "            <td>Incomplete higher</td>\n",
       "            <td>Married</td>\n",
       "            <td>With parents</td>\n",
       "            <td>Laborers</td>\n",
       "            <td>150K-200K</td>\n",
       "            <td>250K-500K</td>\n",
       "            <td>15K-25K</td>\n",
       "            <td>21-30 Years</td>\n",
       "            <td>No children</td>\n",
       "            <td>Zero Enquiry</td>\n",
       "            <td>Zero Enquiry</td>\n",
       "            <td>4</td>\n",
       "            <td>4</td>\n",
       "        </tr>\n",
       "        <tr>\n",
       "            <td>0</td>\n",
       "            <td>112500.0</td>\n",
       "            <td>1</td>\n",
       "            <td>0</td>\n",
       "            <td>1</td>\n",
       "            <td>100011</td>\n",
       "            <td>Cash loans</td>\n",
       "            <td>F</td>\n",
       "            <td>Pensioner</td>\n",
       "            <td>Secondary / secondary special</td>\n",
       "            <td>Married</td>\n",
       "            <td>House / apartment</td>\n",
       "            <td>DATA NOT AVAILABLE</td>\n",
       "            <td>100K-150K</td>\n",
       "            <td>&gt;1000K</td>\n",
       "            <td>25K-35K</td>\n",
       "            <td>51-60 Years</td>\n",
       "            <td>No children</td>\n",
       "            <td>Zero Enquiry</td>\n",
       "            <td>Zero Enquiry</td>\n",
       "            <td>4</td>\n",
       "            <td>4</td>\n",
       "        </tr>\n",
       "    </tbody>\n",
       "</table>"
      ],
      "text/plain": [
       "[(Decimal('0'), Decimal('211500.0'), '1', '0', '1', Decimal('390020'), 'Cash loans', 'M', 'Working', 'Higher education', 'Married', 'House / apartment', 'DATA NOT AVAILABLE', '>200K', '250K-500K', '<=15K', '51-60 Years', 'No children', 'Zero Enquiry', 'Zero Enquiry', 4, 4),\n",
       " (Decimal('0'), Decimal('270000.0'), '1', '0', '1', Decimal('404231'), 'Cash loans', 'M', 'Working', 'Higher education', 'Married', 'House / apartment', 'DATA NOT AVAILABLE', '>200K', '>1000K', '>55K', '41-50 Years', 'No children', 'Zero Enquiry', 'Zero Enquiry', 4, 4),\n",
       " (Decimal('0'), Decimal('360000.0'), '1', '0', '1', Decimal('409190'), 'Cash loans', 'M', 'Pensioner', 'Higher education', 'Married', 'House / apartment', 'DATA NOT AVAILABLE', '>200K', '>1000K', '>55K', '51-60 Years', 'No children', 'Zero Enquiry', 'Zero Enquiry', 4, 4),\n",
       " (Decimal('0'), Decimal('225000.0'), '1', '0', '1', Decimal('434449'), 'Cash loans', 'F', 'Working', 'Higher education', 'Married', 'With parents', 'DATA NOT AVAILABLE', '>200K', '500K-750K', '25K-35K', '31-40 Years', 'No children', 'Zero Enquiry', 'Zero Enquiry', 4, 4),\n",
       " (Decimal('0'), Decimal('90000.0'), '1', '0', '1', Decimal('437145'), 'Cash loans', 'M', 'Pensioner', 'Lower secondary', 'Widow', 'House / apartment', 'DATA NOT AVAILABLE', '<=100K', '250K-500K', '15K-25K', '>=61 Years', 'No children', 'Zero Enquiry', 'Zero Enquiry', 4, 4),\n",
       " (Decimal('0'), Decimal('67500.0'), '1', '0', '1', Decimal('442509'), 'Cash loans', 'F', 'Pensioner', 'Higher education', 'Widow', 'With parents', 'DATA NOT AVAILABLE', '<=100K', '<=250K', '<=15K', '>=61 Years', 'No children', 'Zero Enquiry', 'Zero Enquiry', 4, 4),\n",
       " (Decimal('0'), Decimal('202500.0'), '1', '0', '1', Decimal('443021'), 'Cash loans', 'M', 'Working', 'Higher education', 'Married', 'With parents', 'Managers', '>200K', '500K-750K', '25K-35K', '51-60 Years', 'No children', 'Zero Enquiry', 'Zero Enquiry', 4, 4),\n",
       " (Decimal('0'), Decimal('225000.0'), '1', '0', '1', Decimal('450519'), 'Cash loans', 'F', 'Pensioner', 'Higher education', 'Widow', 'House / apartment', 'DATA NOT AVAILABLE', '>200K', '250K-500K', '15K-25K', '>=61 Years', 'No children', 'Zero Enquiry', 'Zero Enquiry', 4, 4),\n",
       " (Decimal('0'), Decimal('180000.0'), '1', '0', '1', Decimal('455613'), 'Cash loans', 'M', 'Working', 'Incomplete higher', 'Married', 'With parents', 'Laborers', '150K-200K', '250K-500K', '15K-25K', '21-30 Years', 'No children', 'Zero Enquiry', 'Zero Enquiry', 4, 4),\n",
       " (Decimal('0'), Decimal('112500.0'), '1', '0', '1', Decimal('100011'), 'Cash loans', 'F', 'Pensioner', 'Secondary / secondary special', 'Married', 'House / apartment', 'DATA NOT AVAILABLE', '100K-150K', '>1000K', '25K-35K', '51-60 Years', 'No children', 'Zero Enquiry', 'Zero Enquiry', 4, 4)]"
      ]
     },
     "execution_count": 53,
     "metadata": {},
     "output_type": "execute_result"
    }
   ],
   "source": [
    "%%sql\n",
    "SELECT * FROM APPLICATION_DATA\n",
    "LIMIT 10;"
   ]
  },
  {
   "cell_type": "markdown",
   "id": "274d223d-8dfc-439a-ae35-77de8ca037cb",
   "metadata": {},
   "source": [
    "### LOAN DIMENSION\n",
    "Since SK_ID_CURR is already in the original dataset, we don't need to populate another forign key to the application data. We use SK_ID_CURR as the surrogate key "
   ]
  },
  {
   "cell_type": "markdown",
   "id": "287bc15c-3a35-4362-8cf2-1292c0155439",
   "metadata": {},
   "source": [
    "Creating loan_dimension table"
   ]
  },
  {
   "cell_type": "code",
   "execution_count": 54,
   "id": "8ee219f5-020a-44e3-8c96-226268eabe9a",
   "metadata": {},
   "outputs": [
    {
     "name": "stdout",
     "output_type": "stream",
     "text": [
      " * postgresql://student@/Final_Project\n",
      "Done.\n",
      "Done.\n"
     ]
    },
    {
     "data": {
      "text/plain": [
       "[]"
      ]
     },
     "execution_count": 54,
     "metadata": {},
     "output_type": "execute_result"
    }
   ],
   "source": [
    "%%sql\n",
    "DROP TABLE IF EXISTS LOAN_DIMENSION Cascade;\n",
    "CREATE TABLE LOAN_DIMENSION (\n",
    "    SK_ID_CURR NUMERIC(6) NOT NULL,\n",
    "    NAME_CONTRACT_TYPE VARCHAR(15) NOT NULL,\n",
    "    amt_credit_group VARCHAR(20),\n",
    "    amt_annuity_group VARCHAR(20),\n",
    "    PRIMARY KEY (SK_ID_CURR)\n",
    ");\n",
    "    "
   ]
  },
  {
   "cell_type": "markdown",
   "id": "07217383-6c3f-4ebf-8b68-461391e847bc",
   "metadata": {},
   "source": [
    "Populate loan dimension table with data from application_data table "
   ]
  },
  {
   "cell_type": "code",
   "execution_count": 55,
   "id": "156a3796-7c14-4db9-bff0-bb8f19c5623d",
   "metadata": {},
   "outputs": [
    {
     "name": "stdout",
     "output_type": "stream",
     "text": [
      " * postgresql://student@/Final_Project\n",
      "307511 rows affected.\n"
     ]
    },
    {
     "data": {
      "text/plain": [
       "[]"
      ]
     },
     "execution_count": 55,
     "metadata": {},
     "output_type": "execute_result"
    }
   ],
   "source": [
    "%%sql\n",
    "INSERT INTO LOAN_DIMENSION (SK_ID_CURR,NAME_CONTRACT_TYPE,amt_credit_group,amt_annuity_group)\n",
    "SELECT SK_ID_CURR,NAME_CONTRACT_TYPE,amt_credit_group,amt_annuity_group\n",
    "FROM APPLICATION_DATA"
   ]
  },
  {
   "cell_type": "markdown",
   "id": "d8b133a0-bdc2-4c8f-bdfb-abe79d9dca6b",
   "metadata": {},
   "source": [
    "- Verify that your wrangling steps have succeeded "
   ]
  },
  {
   "cell_type": "code",
   "execution_count": 56,
   "id": "9b8053d6-9be0-4e51-a084-f164e49f2acf",
   "metadata": {},
   "outputs": [
    {
     "name": "stdout",
     "output_type": "stream",
     "text": [
      " * postgresql://student@/Final_Project\n",
      "10 rows affected.\n"
     ]
    },
    {
     "data": {
      "text/html": [
       "<table>\n",
       "    <thead>\n",
       "        <tr>\n",
       "            <th>sk_id_curr</th>\n",
       "            <th>name_contract_type</th>\n",
       "            <th>amt_credit_group</th>\n",
       "            <th>amt_annuity_group</th>\n",
       "        </tr>\n",
       "    </thead>\n",
       "    <tbody>\n",
       "        <tr>\n",
       "            <td>100011</td>\n",
       "            <td>Cash loans</td>\n",
       "            <td>&gt;1000K</td>\n",
       "            <td>25K-35K</td>\n",
       "        </tr>\n",
       "        <tr>\n",
       "            <td>100002</td>\n",
       "            <td>Cash loans</td>\n",
       "            <td>250K-500K</td>\n",
       "            <td>15K-25K</td>\n",
       "        </tr>\n",
       "        <tr>\n",
       "            <td>100003</td>\n",
       "            <td>Cash loans</td>\n",
       "            <td>&gt;1000K</td>\n",
       "            <td>35K-45K</td>\n",
       "        </tr>\n",
       "        <tr>\n",
       "            <td>100004</td>\n",
       "            <td>Revolving loans</td>\n",
       "            <td>&lt;=250K</td>\n",
       "            <td>&lt;=15K</td>\n",
       "        </tr>\n",
       "        <tr>\n",
       "            <td>100006</td>\n",
       "            <td>Cash loans</td>\n",
       "            <td>250K-500K</td>\n",
       "            <td>25K-35K</td>\n",
       "        </tr>\n",
       "        <tr>\n",
       "            <td>100007</td>\n",
       "            <td>Cash loans</td>\n",
       "            <td>500K-750K</td>\n",
       "            <td>15K-25K</td>\n",
       "        </tr>\n",
       "        <tr>\n",
       "            <td>100008</td>\n",
       "            <td>Cash loans</td>\n",
       "            <td>250K-500K</td>\n",
       "            <td>25K-35K</td>\n",
       "        </tr>\n",
       "        <tr>\n",
       "            <td>100009</td>\n",
       "            <td>Cash loans</td>\n",
       "            <td>&gt;1000K</td>\n",
       "            <td>35K-45K</td>\n",
       "        </tr>\n",
       "        <tr>\n",
       "            <td>100010</td>\n",
       "            <td>Cash loans</td>\n",
       "            <td>&gt;1000K</td>\n",
       "            <td>35K-45K</td>\n",
       "        </tr>\n",
       "        <tr>\n",
       "            <td>100012</td>\n",
       "            <td>Revolving loans</td>\n",
       "            <td>250K-500K</td>\n",
       "            <td>15K-25K</td>\n",
       "        </tr>\n",
       "    </tbody>\n",
       "</table>"
      ],
      "text/plain": [
       "[(Decimal('100011'), 'Cash loans', '>1000K', '25K-35K'),\n",
       " (Decimal('100002'), 'Cash loans', '250K-500K', '15K-25K'),\n",
       " (Decimal('100003'), 'Cash loans', '>1000K', '35K-45K'),\n",
       " (Decimal('100004'), 'Revolving loans', '<=250K', '<=15K'),\n",
       " (Decimal('100006'), 'Cash loans', '250K-500K', '25K-35K'),\n",
       " (Decimal('100007'), 'Cash loans', '500K-750K', '15K-25K'),\n",
       " (Decimal('100008'), 'Cash loans', '250K-500K', '25K-35K'),\n",
       " (Decimal('100009'), 'Cash loans', '>1000K', '35K-45K'),\n",
       " (Decimal('100010'), 'Cash loans', '>1000K', '35K-45K'),\n",
       " (Decimal('100012'), 'Revolving loans', '250K-500K', '15K-25K')]"
      ]
     },
     "execution_count": 56,
     "metadata": {},
     "output_type": "execute_result"
    }
   ],
   "source": [
    "%%sql\n",
    "SELECT * FROM LOAN_DIMENSION\n",
    "LIMIT 10;"
   ]
  },
  {
   "cell_type": "markdown",
   "id": "b697dc8a-8dd4-4545-bdf8-bb630f9099ae",
   "metadata": {},
   "source": [
    "### CUSTOMER DEMOGRAPHIC DIMENSION"
   ]
  },
  {
   "cell_type": "markdown",
   "id": "5a78314d-2db9-4948-acaa-443149e3f975",
   "metadata": {},
   "source": [
    "Creating customer_demographic table "
   ]
  },
  {
   "cell_type": "code",
   "execution_count": 57,
   "id": "d2738277-3d83-4d86-858d-e2c58766bce8",
   "metadata": {},
   "outputs": [
    {
     "name": "stdout",
     "output_type": "stream",
     "text": [
      " * postgresql://student@/Final_Project\n",
      "Done.\n",
      "Done.\n"
     ]
    },
    {
     "data": {
      "text/plain": [
       "[]"
      ]
     },
     "execution_count": 57,
     "metadata": {},
     "output_type": "execute_result"
    }
   ],
   "source": [
    "%%sql\n",
    "DROP TABLE IF EXISTS CUSTOMER_DEMOGRAPHIC_DIMENSION Cascade;\n",
    "CREATE TABLE CUSTOMER_DEMOGRAPHIC_DIMENSION (\n",
    "    DEMOGRAPHIC_KEY SERIAL PRIMARY KEY,\n",
    "    CODE_GENDER VARCHAR(3) NOT NULL,\n",
    "    NAME_INCOME_TYPE VARCHAR(20) NOT NULL,\n",
    "    NAME_EDUCATION_TYPE VARCHAR(29) NOT NULL,\n",
    "    NAME_FAMILY_STATUS VARCHAR(20) NOT NULL,\n",
    "    NAME_HOUSING_TYPE VARCHAR(19) NOT NULL,\n",
    "    OCCUPATION_TYPE VARCHAR(21),\n",
    "    AMT_INCOME_TOTAL_GROUP VARCHAR(20),\n",
    "    CNT_CHILDREN_Group VARCHAR(20),\n",
    "    Year_Birth_GROUP VARCHAR(20)\n",
    "); "
   ]
  },
  {
   "cell_type": "markdown",
   "id": "5604f898-153f-423c-b9b2-5576535346fe",
   "metadata": {},
   "source": [
    "Populate customer demographic dimension with data from application data "
   ]
  },
  {
   "cell_type": "code",
   "execution_count": 58,
   "id": "502f045b-cb99-431e-a1b2-fd08c7165d61",
   "metadata": {},
   "outputs": [
    {
     "name": "stdout",
     "output_type": "stream",
     "text": [
      " * postgresql://student@/Final_Project\n",
      "38826 rows affected.\n"
     ]
    },
    {
     "data": {
      "text/plain": [
       "[]"
      ]
     },
     "execution_count": 58,
     "metadata": {},
     "output_type": "execute_result"
    }
   ],
   "source": [
    "%%sql\n",
    "INSERT INTO CUSTOMER_DEMOGRAPHIC_DIMENSION (CODE_GENDER,NAME_INCOME_TYPE,NAME_EDUCATION_TYPE,NAME_FAMILY_STATUS,NAME_HOUSING_TYPE,OCCUPATION_TYPE,AMT_INCOME_TOTAL_GROUP,CNT_CHILDREN_Group,Year_Birth_GROUP)\n",
    "SELECT DISTINCT CODE_GENDER,\n",
    "    NAME_INCOME_TYPE,\n",
    "    NAME_EDUCATION_TYPE,\n",
    "    NAME_FAMILY_STATUS,\n",
    "    NAME_HOUSING_TYPE,\n",
    "    OCCUPATION_TYPE,\n",
    "    AMT_INCOME_TOTAL_GROUP,\n",
    "    CNT_CHILDREN_Group,\n",
    "    Year_Birth_GROUP\n",
    "FROM APPLICATION_DATA;\n"
   ]
  },
  {
   "cell_type": "markdown",
   "id": "a14a4675-08bd-4d15-9ab7-69393137b018",
   "metadata": {},
   "source": [
    "- Verify that your wrangling steps have succeeded "
   ]
  },
  {
   "cell_type": "code",
   "execution_count": 59,
   "id": "6bc369de-c85b-4209-8f92-9946be55c82a",
   "metadata": {},
   "outputs": [
    {
     "name": "stdout",
     "output_type": "stream",
     "text": [
      " * postgresql://student@/Final_Project\n",
      "10 rows affected.\n"
     ]
    },
    {
     "data": {
      "text/html": [
       "<table>\n",
       "    <thead>\n",
       "        <tr>\n",
       "            <th>demographic_key</th>\n",
       "            <th>code_gender</th>\n",
       "            <th>name_income_type</th>\n",
       "            <th>name_education_type</th>\n",
       "            <th>name_family_status</th>\n",
       "            <th>name_housing_type</th>\n",
       "            <th>occupation_type</th>\n",
       "            <th>amt_income_total_group</th>\n",
       "            <th>cnt_children_group</th>\n",
       "            <th>year_birth_group</th>\n",
       "        </tr>\n",
       "    </thead>\n",
       "    <tbody>\n",
       "        <tr>\n",
       "            <td>1</td>\n",
       "            <td>F</td>\n",
       "            <td>Businessman</td>\n",
       "            <td>Higher education</td>\n",
       "            <td>Civil marriage</td>\n",
       "            <td>House / apartment</td>\n",
       "            <td>DATA NOT AVAILABLE</td>\n",
       "            <td>&gt;200K</td>\n",
       "            <td>No children</td>\n",
       "            <td>21-30 Years</td>\n",
       "        </tr>\n",
       "        <tr>\n",
       "            <td>2</td>\n",
       "            <td>F</td>\n",
       "            <td>Businessman</td>\n",
       "            <td>Higher education</td>\n",
       "            <td>Married</td>\n",
       "            <td>House / apartment</td>\n",
       "            <td>DATA NOT AVAILABLE</td>\n",
       "            <td>&gt;200K</td>\n",
       "            <td>No children</td>\n",
       "            <td>41-50 Years</td>\n",
       "        </tr>\n",
       "        <tr>\n",
       "            <td>3</td>\n",
       "            <td>F</td>\n",
       "            <td>Businessman</td>\n",
       "            <td>Higher education</td>\n",
       "            <td>Single / not married</td>\n",
       "            <td>House / apartment</td>\n",
       "            <td>Managers</td>\n",
       "            <td>&gt;200K</td>\n",
       "            <td>No children</td>\n",
       "            <td>51-60 Years</td>\n",
       "        </tr>\n",
       "        <tr>\n",
       "            <td>4</td>\n",
       "            <td>F</td>\n",
       "            <td>Commercial associate</td>\n",
       "            <td>Academic degree</td>\n",
       "            <td>Civil marriage</td>\n",
       "            <td>House / apartment</td>\n",
       "            <td>Core staff</td>\n",
       "            <td>150K-200K</td>\n",
       "            <td>No children</td>\n",
       "            <td>41-50 Years</td>\n",
       "        </tr>\n",
       "        <tr>\n",
       "            <td>5</td>\n",
       "            <td>F</td>\n",
       "            <td>Commercial associate</td>\n",
       "            <td>Academic degree</td>\n",
       "            <td>Civil marriage</td>\n",
       "            <td>Rented apartment</td>\n",
       "            <td>Accountants</td>\n",
       "            <td>&gt;200K</td>\n",
       "            <td>No children</td>\n",
       "            <td>&gt;=61 Years</td>\n",
       "        </tr>\n",
       "        <tr>\n",
       "            <td>6</td>\n",
       "            <td>F</td>\n",
       "            <td>Commercial associate</td>\n",
       "            <td>Academic degree</td>\n",
       "            <td>Married</td>\n",
       "            <td>Co-op apartment</td>\n",
       "            <td>Accountants</td>\n",
       "            <td>150K-200K</td>\n",
       "            <td>No children</td>\n",
       "            <td>31-40 Years</td>\n",
       "        </tr>\n",
       "        <tr>\n",
       "            <td>7</td>\n",
       "            <td>F</td>\n",
       "            <td>Commercial associate</td>\n",
       "            <td>Academic degree</td>\n",
       "            <td>Married</td>\n",
       "            <td>House / apartment</td>\n",
       "            <td>Accountants</td>\n",
       "            <td>&lt;=100K</td>\n",
       "            <td>No children</td>\n",
       "            <td>&gt;=61 Years</td>\n",
       "        </tr>\n",
       "        <tr>\n",
       "            <td>8</td>\n",
       "            <td>F</td>\n",
       "            <td>Commercial associate</td>\n",
       "            <td>Academic degree</td>\n",
       "            <td>Married</td>\n",
       "            <td>House / apartment</td>\n",
       "            <td>Cleaning staff</td>\n",
       "            <td>&lt;=100K</td>\n",
       "            <td>&gt;=2 children</td>\n",
       "            <td>41-50 Years</td>\n",
       "        </tr>\n",
       "        <tr>\n",
       "            <td>9</td>\n",
       "            <td>F</td>\n",
       "            <td>Commercial associate</td>\n",
       "            <td>Academic degree</td>\n",
       "            <td>Married</td>\n",
       "            <td>House / apartment</td>\n",
       "            <td>Core staff</td>\n",
       "            <td>&gt;200K</td>\n",
       "            <td>No children</td>\n",
       "            <td>31-40 Years</td>\n",
       "        </tr>\n",
       "        <tr>\n",
       "            <td>10</td>\n",
       "            <td>F</td>\n",
       "            <td>Commercial associate</td>\n",
       "            <td>Academic degree</td>\n",
       "            <td>Married</td>\n",
       "            <td>House / apartment</td>\n",
       "            <td>Core staff</td>\n",
       "            <td>&gt;200K</td>\n",
       "            <td>No children</td>\n",
       "            <td>51-60 Years</td>\n",
       "        </tr>\n",
       "    </tbody>\n",
       "</table>"
      ],
      "text/plain": [
       "[(1, 'F', 'Businessman', 'Higher education', 'Civil marriage', 'House / apartment', 'DATA NOT AVAILABLE', '>200K', 'No children', '21-30 Years'),\n",
       " (2, 'F', 'Businessman', 'Higher education', 'Married', 'House / apartment', 'DATA NOT AVAILABLE', '>200K', 'No children', '41-50 Years'),\n",
       " (3, 'F', 'Businessman', 'Higher education', 'Single / not married', 'House / apartment', 'Managers', '>200K', 'No children', '51-60 Years'),\n",
       " (4, 'F', 'Commercial associate', 'Academic degree', 'Civil marriage', 'House / apartment', 'Core staff', '150K-200K', 'No children', '41-50 Years'),\n",
       " (5, 'F', 'Commercial associate', 'Academic degree', 'Civil marriage', 'Rented apartment', 'Accountants', '>200K', 'No children', '>=61 Years'),\n",
       " (6, 'F', 'Commercial associate', 'Academic degree', 'Married', 'Co-op apartment', 'Accountants', '150K-200K', 'No children', '31-40 Years'),\n",
       " (7, 'F', 'Commercial associate', 'Academic degree', 'Married', 'House / apartment', 'Accountants', '<=100K', 'No children', '>=61 Years'),\n",
       " (8, 'F', 'Commercial associate', 'Academic degree', 'Married', 'House / apartment', 'Cleaning staff', '<=100K', '>=2 children', '41-50 Years'),\n",
       " (9, 'F', 'Commercial associate', 'Academic degree', 'Married', 'House / apartment', 'Core staff', '>200K', 'No children', '31-40 Years'),\n",
       " (10, 'F', 'Commercial associate', 'Academic degree', 'Married', 'House / apartment', 'Core staff', '>200K', 'No children', '51-60 Years')]"
      ]
     },
     "execution_count": 59,
     "metadata": {},
     "output_type": "execute_result"
    }
   ],
   "source": [
    "%%sql\n",
    "SELECT * FROM CUSTOMER_DEMOGRAPHIC_DIMENSION\n",
    "LIMIT 10;"
   ]
  },
  {
   "cell_type": "markdown",
   "id": "bec1f0d0-8d88-4a81-b195-b9bb7a47c5e0",
   "metadata": {},
   "source": [
    "Mapping the Key in the application_data"
   ]
  },
  {
   "cell_type": "code",
   "execution_count": 60,
   "id": "8846087d-5244-4cbe-8afe-24a467a045fb",
   "metadata": {},
   "outputs": [
    {
     "name": "stdout",
     "output_type": "stream",
     "text": [
      " * postgresql://student@/Final_Project\n",
      "Done.\n"
     ]
    },
    {
     "data": {
      "text/plain": [
       "[]"
      ]
     },
     "execution_count": 60,
     "metadata": {},
     "output_type": "execute_result"
    }
   ],
   "source": [
    "%%sql\n",
    "ALTER TABLE APPLICATION_DATA\n",
    "ADD COLUMN DEMOGRAPHIC_KEY INTEGER,\n",
    "ADD FOREIGN KEY(DEMOGRAPHIC_KEY)\n",
    "REFERENCES CUSTOMER_DEMOGRAPHIC_DIMENSION"
   ]
  },
  {
   "cell_type": "code",
   "execution_count": 61,
   "id": "7a463525-53e1-4997-9058-bd75d29dd6f0",
   "metadata": {},
   "outputs": [
    {
     "name": "stdout",
     "output_type": "stream",
     "text": [
      " * postgresql://student@/Final_Project\n",
      "307511 rows affected.\n"
     ]
    },
    {
     "data": {
      "text/plain": [
       "[]"
      ]
     },
     "execution_count": 61,
     "metadata": {},
     "output_type": "execute_result"
    }
   ],
   "source": [
    "%%sql\n",
    "UPDATE APPLICATION_DATA\n",
    "SET DEMOGRAPHIC_KEY=CUSTOMER_DEMOGRAPHIC_DIMENSION.DEMOGRAPHIC_KEY\n",
    "FROM CUSTOMER_DEMOGRAPHIC_DIMENSION\n",
    "WHERE APPLICATION_DATA.CODE_GENDER=CUSTOMER_DEMOGRAPHIC_DIMENSION.CODE_GENDER\n",
    "AND APPLICATION_DATA.NAME_INCOME_TYPE=CUSTOMER_DEMOGRAPHIC_DIMENSION.NAME_INCOME_TYPE\n",
    "AND APPLICATION_DATA.NAME_EDUCATION_TYPE=CUSTOMER_DEMOGRAPHIC_DIMENSION.NAME_EDUCATION_TYPE\n",
    "AND APPLICATION_DATA.NAME_FAMILY_STATUS=CUSTOMER_DEMOGRAPHIC_DIMENSION.NAME_FAMILY_STATUS\n",
    "AND APPLICATION_DATA.NAME_HOUSING_TYPE=CUSTOMER_DEMOGRAPHIC_DIMENSION.NAME_HOUSING_TYPE\n",
    "AND APPLICATION_DATA.OCCUPATION_TYPE=CUSTOMER_DEMOGRAPHIC_DIMENSION.OCCUPATION_TYPE\n",
    "AND APPLICATION_DATA.AMT_INCOME_TOTAL_GROUP=CUSTOMER_DEMOGRAPHIC_DIMENSION.AMT_INCOME_TOTAL_GROUP\n",
    "AND APPLICATION_DATA.CNT_CHILDREN_Group=CUSTOMER_DEMOGRAPHIC_DIMENSION.CNT_CHILDREN_Group\n",
    "AND APPLICATION_DATA.Year_Birth_GROUP=CUSTOMER_DEMOGRAPHIC_DIMENSION.Year_Birth_GROUP;"
   ]
  },
  {
   "cell_type": "markdown",
   "id": "3c9658d8-e03c-4fb8-8a33-6e4dc1cb79cc",
   "metadata": {},
   "source": [
    "- Verify that your wrangling steps have succeeded "
   ]
  },
  {
   "cell_type": "code",
   "execution_count": 62,
   "id": "1f9ea26a-8b0c-428b-b011-a6d4c74eddc4",
   "metadata": {},
   "outputs": [
    {
     "name": "stdout",
     "output_type": "stream",
     "text": [
      " * postgresql://student@/Final_Project\n",
      "10 rows affected.\n"
     ]
    },
    {
     "data": {
      "text/html": [
       "<table>\n",
       "    <thead>\n",
       "        <tr>\n",
       "            <th>target</th>\n",
       "            <th>amt_income_total</th>\n",
       "            <th>flag_mobil</th>\n",
       "            <th>flag_email</th>\n",
       "            <th>flag_cont_mobile</th>\n",
       "            <th>sk_id_curr</th>\n",
       "            <th>name_contract_type</th>\n",
       "            <th>code_gender</th>\n",
       "            <th>name_income_type</th>\n",
       "            <th>name_education_type</th>\n",
       "            <th>name_family_status</th>\n",
       "            <th>name_housing_type</th>\n",
       "            <th>occupation_type</th>\n",
       "            <th>amt_income_total_group</th>\n",
       "            <th>amt_credit_group</th>\n",
       "            <th>amt_annuity_group</th>\n",
       "            <th>year_birth_group</th>\n",
       "            <th>cnt_children_group</th>\n",
       "            <th>amt_req_credit_bureau_hour_group</th>\n",
       "            <th>amt_req_credit_bureau_day_group</th>\n",
       "            <th>bureau_key</th>\n",
       "            <th>contact_key</th>\n",
       "            <th>demographic_key</th>\n",
       "        </tr>\n",
       "    </thead>\n",
       "    <tbody>\n",
       "        <tr>\n",
       "            <td>0</td>\n",
       "            <td>171000.0</td>\n",
       "            <td>1</td>\n",
       "            <td>0</td>\n",
       "            <td>1</td>\n",
       "            <td>100009</td>\n",
       "            <td>Cash loans</td>\n",
       "            <td>F</td>\n",
       "            <td>Commercial associate</td>\n",
       "            <td>Higher education</td>\n",
       "            <td>Married</td>\n",
       "            <td>House / apartment</td>\n",
       "            <td>Accountants</td>\n",
       "            <td>150K-200K</td>\n",
       "            <td>&gt;1000K</td>\n",
       "            <td>35K-45K</td>\n",
       "            <td>31-40 Years</td>\n",
       "            <td>1 child</td>\n",
       "            <td>Zero Enquiry</td>\n",
       "            <td>Zero Enquiry</td>\n",
       "            <td>4</td>\n",
       "            <td>4</td>\n",
       "            <td>529</td>\n",
       "        </tr>\n",
       "        <tr>\n",
       "            <td>0</td>\n",
       "            <td>112500.0</td>\n",
       "            <td>1</td>\n",
       "            <td>0</td>\n",
       "            <td>1</td>\n",
       "            <td>100011</td>\n",
       "            <td>Cash loans</td>\n",
       "            <td>F</td>\n",
       "            <td>Pensioner</td>\n",
       "            <td>Secondary / secondary special</td>\n",
       "            <td>Married</td>\n",
       "            <td>House / apartment</td>\n",
       "            <td>DATA NOT AVAILABLE</td>\n",
       "            <td>100K-150K</td>\n",
       "            <td>&gt;1000K</td>\n",
       "            <td>25K-35K</td>\n",
       "            <td>51-60 Years</td>\n",
       "            <td>No children</td>\n",
       "            <td>Zero Enquiry</td>\n",
       "            <td>Zero Enquiry</td>\n",
       "            <td>4</td>\n",
       "            <td>4</td>\n",
       "            <td>8357</td>\n",
       "        </tr>\n",
       "        <tr>\n",
       "            <td>0</td>\n",
       "            <td>270000.0</td>\n",
       "            <td>1</td>\n",
       "            <td>0</td>\n",
       "            <td>1</td>\n",
       "            <td>100003</td>\n",
       "            <td>Cash loans</td>\n",
       "            <td>F</td>\n",
       "            <td>State servant</td>\n",
       "            <td>Higher education</td>\n",
       "            <td>Married</td>\n",
       "            <td>House / apartment</td>\n",
       "            <td>Core staff</td>\n",
       "            <td>&gt;200K</td>\n",
       "            <td>&gt;1000K</td>\n",
       "            <td>35K-45K</td>\n",
       "            <td>41-50 Years</td>\n",
       "            <td>No children</td>\n",
       "            <td>Zero Enquiry</td>\n",
       "            <td>Zero Enquiry</td>\n",
       "            <td>4</td>\n",
       "            <td>4</td>\n",
       "            <td>9112</td>\n",
       "        </tr>\n",
       "        <tr>\n",
       "            <td>0</td>\n",
       "            <td>135000.0</td>\n",
       "            <td>1</td>\n",
       "            <td>0</td>\n",
       "            <td>1</td>\n",
       "            <td>100006</td>\n",
       "            <td>Cash loans</td>\n",
       "            <td>F</td>\n",
       "            <td>Working</td>\n",
       "            <td>Secondary / secondary special</td>\n",
       "            <td>Civil marriage</td>\n",
       "            <td>House / apartment</td>\n",
       "            <td>Laborers</td>\n",
       "            <td>100K-150K</td>\n",
       "            <td>250K-500K</td>\n",
       "            <td>25K-35K</td>\n",
       "            <td>51-60 Years</td>\n",
       "            <td>No children</td>\n",
       "            <td>Zero Enquiry</td>\n",
       "            <td>Zero Enquiry</td>\n",
       "            <td>4</td>\n",
       "            <td>4</td>\n",
       "            <td>18559</td>\n",
       "        </tr>\n",
       "        <tr>\n",
       "            <td>0</td>\n",
       "            <td>360000.0</td>\n",
       "            <td>1</td>\n",
       "            <td>0</td>\n",
       "            <td>1</td>\n",
       "            <td>100010</td>\n",
       "            <td>Cash loans</td>\n",
       "            <td>M</td>\n",
       "            <td>State servant</td>\n",
       "            <td>Higher education</td>\n",
       "            <td>Married</td>\n",
       "            <td>House / apartment</td>\n",
       "            <td>Managers</td>\n",
       "            <td>&gt;200K</td>\n",
       "            <td>&gt;1000K</td>\n",
       "            <td>35K-45K</td>\n",
       "            <td>51-60 Years</td>\n",
       "            <td>No children</td>\n",
       "            <td>Zero Enquiry</td>\n",
       "            <td>Zero Enquiry</td>\n",
       "            <td>4</td>\n",
       "            <td>4</td>\n",
       "            <td>30039</td>\n",
       "        </tr>\n",
       "        <tr>\n",
       "            <td>0</td>\n",
       "            <td>99000.0</td>\n",
       "            <td>1</td>\n",
       "            <td>0</td>\n",
       "            <td>1</td>\n",
       "            <td>100008</td>\n",
       "            <td>Cash loans</td>\n",
       "            <td>M</td>\n",
       "            <td>State servant</td>\n",
       "            <td>Secondary / secondary special</td>\n",
       "            <td>Married</td>\n",
       "            <td>House / apartment</td>\n",
       "            <td>Laborers</td>\n",
       "            <td>&lt;=100K</td>\n",
       "            <td>250K-500K</td>\n",
       "            <td>25K-35K</td>\n",
       "            <td>41-50 Years</td>\n",
       "            <td>No children</td>\n",
       "            <td>Zero Enquiry</td>\n",
       "            <td>Zero Enquiry</td>\n",
       "            <td>4</td>\n",
       "            <td>4</td>\n",
       "            <td>31047</td>\n",
       "        </tr>\n",
       "        <tr>\n",
       "            <td>0</td>\n",
       "            <td>121500.0</td>\n",
       "            <td>1</td>\n",
       "            <td>0</td>\n",
       "            <td>1</td>\n",
       "            <td>100007</td>\n",
       "            <td>Cash loans</td>\n",
       "            <td>M</td>\n",
       "            <td>Working</td>\n",
       "            <td>Secondary / secondary special</td>\n",
       "            <td>Single / not married</td>\n",
       "            <td>House / apartment</td>\n",
       "            <td>Core staff</td>\n",
       "            <td>100K-150K</td>\n",
       "            <td>500K-750K</td>\n",
       "            <td>15K-25K</td>\n",
       "            <td>51-60 Years</td>\n",
       "            <td>No children</td>\n",
       "            <td>Zero Enquiry</td>\n",
       "            <td>Zero Enquiry</td>\n",
       "            <td>4</td>\n",
       "            <td>4</td>\n",
       "            <td>37978</td>\n",
       "        </tr>\n",
       "        <tr>\n",
       "            <td>0</td>\n",
       "            <td>135000.0</td>\n",
       "            <td>1</td>\n",
       "            <td>0</td>\n",
       "            <td>1</td>\n",
       "            <td>100012</td>\n",
       "            <td>Revolving loans</td>\n",
       "            <td>M</td>\n",
       "            <td>Working</td>\n",
       "            <td>Secondary / secondary special</td>\n",
       "            <td>Single / not married</td>\n",
       "            <td>House / apartment</td>\n",
       "            <td>Laborers</td>\n",
       "            <td>100K-150K</td>\n",
       "            <td>250K-500K</td>\n",
       "            <td>15K-25K</td>\n",
       "            <td>31-40 Years</td>\n",
       "            <td>No children</td>\n",
       "            <td>Zero Enquiry</td>\n",
       "            <td>Zero Enquiry</td>\n",
       "            <td>4</td>\n",
       "            <td>4</td>\n",
       "            <td>38123</td>\n",
       "        </tr>\n",
       "        <tr>\n",
       "            <td>0</td>\n",
       "            <td>67500.0</td>\n",
       "            <td>1</td>\n",
       "            <td>0</td>\n",
       "            <td>1</td>\n",
       "            <td>100004</td>\n",
       "            <td>Revolving loans</td>\n",
       "            <td>M</td>\n",
       "            <td>Working</td>\n",
       "            <td>Secondary / secondary special</td>\n",
       "            <td>Single / not married</td>\n",
       "            <td>House / apartment</td>\n",
       "            <td>Laborers</td>\n",
       "            <td>&lt;=100K</td>\n",
       "            <td>&lt;=250K</td>\n",
       "            <td>&lt;=15K</td>\n",
       "            <td>51-60 Years</td>\n",
       "            <td>No children</td>\n",
       "            <td>Zero Enquiry</td>\n",
       "            <td>Zero Enquiry</td>\n",
       "            <td>4</td>\n",
       "            <td>4</td>\n",
       "            <td>38148</td>\n",
       "        </tr>\n",
       "        <tr>\n",
       "            <td>1</td>\n",
       "            <td>202500.0</td>\n",
       "            <td>1</td>\n",
       "            <td>0</td>\n",
       "            <td>1</td>\n",
       "            <td>100002</td>\n",
       "            <td>Cash loans</td>\n",
       "            <td>M</td>\n",
       "            <td>Working</td>\n",
       "            <td>Secondary / secondary special</td>\n",
       "            <td>Single / not married</td>\n",
       "            <td>House / apartment</td>\n",
       "            <td>Laborers</td>\n",
       "            <td>&gt;200K</td>\n",
       "            <td>250K-500K</td>\n",
       "            <td>15K-25K</td>\n",
       "            <td>21-30 Years</td>\n",
       "            <td>No children</td>\n",
       "            <td>Zero Enquiry</td>\n",
       "            <td>Zero Enquiry</td>\n",
       "            <td>4</td>\n",
       "            <td>4</td>\n",
       "            <td>38157</td>\n",
       "        </tr>\n",
       "    </tbody>\n",
       "</table>"
      ],
      "text/plain": [
       "[(Decimal('0'), Decimal('171000.0'), '1', '0', '1', Decimal('100009'), 'Cash loans', 'F', 'Commercial associate', 'Higher education', 'Married', 'House / apartment', 'Accountants', '150K-200K', '>1000K', '35K-45K', '31-40 Years', '1 child', 'Zero Enquiry', 'Zero Enquiry', 4, 4, 529),\n",
       " (Decimal('0'), Decimal('112500.0'), '1', '0', '1', Decimal('100011'), 'Cash loans', 'F', 'Pensioner', 'Secondary / secondary special', 'Married', 'House / apartment', 'DATA NOT AVAILABLE', '100K-150K', '>1000K', '25K-35K', '51-60 Years', 'No children', 'Zero Enquiry', 'Zero Enquiry', 4, 4, 8357),\n",
       " (Decimal('0'), Decimal('270000.0'), '1', '0', '1', Decimal('100003'), 'Cash loans', 'F', 'State servant', 'Higher education', 'Married', 'House / apartment', 'Core staff', '>200K', '>1000K', '35K-45K', '41-50 Years', 'No children', 'Zero Enquiry', 'Zero Enquiry', 4, 4, 9112),\n",
       " (Decimal('0'), Decimal('135000.0'), '1', '0', '1', Decimal('100006'), 'Cash loans', 'F', 'Working', 'Secondary / secondary special', 'Civil marriage', 'House / apartment', 'Laborers', '100K-150K', '250K-500K', '25K-35K', '51-60 Years', 'No children', 'Zero Enquiry', 'Zero Enquiry', 4, 4, 18559),\n",
       " (Decimal('0'), Decimal('360000.0'), '1', '0', '1', Decimal('100010'), 'Cash loans', 'M', 'State servant', 'Higher education', 'Married', 'House / apartment', 'Managers', '>200K', '>1000K', '35K-45K', '51-60 Years', 'No children', 'Zero Enquiry', 'Zero Enquiry', 4, 4, 30039),\n",
       " (Decimal('0'), Decimal('99000.0'), '1', '0', '1', Decimal('100008'), 'Cash loans', 'M', 'State servant', 'Secondary / secondary special', 'Married', 'House / apartment', 'Laborers', '<=100K', '250K-500K', '25K-35K', '41-50 Years', 'No children', 'Zero Enquiry', 'Zero Enquiry', 4, 4, 31047),\n",
       " (Decimal('0'), Decimal('121500.0'), '1', '0', '1', Decimal('100007'), 'Cash loans', 'M', 'Working', 'Secondary / secondary special', 'Single / not married', 'House / apartment', 'Core staff', '100K-150K', '500K-750K', '15K-25K', '51-60 Years', 'No children', 'Zero Enquiry', 'Zero Enquiry', 4, 4, 37978),\n",
       " (Decimal('0'), Decimal('135000.0'), '1', '0', '1', Decimal('100012'), 'Revolving loans', 'M', 'Working', 'Secondary / secondary special', 'Single / not married', 'House / apartment', 'Laborers', '100K-150K', '250K-500K', '15K-25K', '31-40 Years', 'No children', 'Zero Enquiry', 'Zero Enquiry', 4, 4, 38123),\n",
       " (Decimal('0'), Decimal('67500.0'), '1', '0', '1', Decimal('100004'), 'Revolving loans', 'M', 'Working', 'Secondary / secondary special', 'Single / not married', 'House / apartment', 'Laborers', '<=100K', '<=250K', '<=15K', '51-60 Years', 'No children', 'Zero Enquiry', 'Zero Enquiry', 4, 4, 38148),\n",
       " (Decimal('1'), Decimal('202500.0'), '1', '0', '1', Decimal('100002'), 'Cash loans', 'M', 'Working', 'Secondary / secondary special', 'Single / not married', 'House / apartment', 'Laborers', '>200K', '250K-500K', '15K-25K', '21-30 Years', 'No children', 'Zero Enquiry', 'Zero Enquiry', 4, 4, 38157)]"
      ]
     },
     "execution_count": 62,
     "metadata": {},
     "output_type": "execute_result"
    }
   ],
   "source": [
    "%%sql\n",
    "SELECT * \n",
    "FROM APPLICATION_DATA\n",
    "LIMIT 10\n",
    ";"
   ]
  },
  {
   "cell_type": "markdown",
   "id": "1b9635a0-a17f-49e5-9393-bbcb9aef262c",
   "metadata": {},
   "source": [
    "### Fact Table"
   ]
  },
  {
   "cell_type": "markdown",
   "id": "7c0cb423-ac54-4829-9394-20aa089c0973",
   "metadata": {},
   "source": [
    "Creating Fact table and loading contents into it"
   ]
  },
  {
   "cell_type": "code",
   "execution_count": 63,
   "id": "fea4c7ab-5129-409c-943a-5dbb95b0eb6e",
   "metadata": {},
   "outputs": [
    {
     "name": "stdout",
     "output_type": "stream",
     "text": [
      " * postgresql://student@/Final_Project\n",
      "Done.\n",
      "Done.\n"
     ]
    },
    {
     "data": {
      "text/plain": [
       "[]"
      ]
     },
     "execution_count": 63,
     "metadata": {},
     "output_type": "execute_result"
    }
   ],
   "source": [
    "%%sql\n",
    "DROP TABLE IF EXISTS FACT Cascade;\n",
    "CREATE TABLE FACT (\n",
    "    SK_ID_CURR NUMERIC(6),\n",
    "    BUREAU_KEY INTEGER,\n",
    "    CONTACT_KEY INTEGER,\n",
    "    DEMOGRAPHIC_KEY INTEGER,\n",
    "    TARGET NUMERIC(1),\n",
    "    AMT_INCOME_TOTAL NUMERIC(10),\n",
    "    FOREIGN KEY (SK_ID_CURR) REFERENCES LOAN_DIMENSION,\n",
    "    FOREIGN KEY (BUREAU_KEY) REFERENCES CREDIT_BUREAU_DIMENSION,\n",
    "    FOREIGN KEY (CONTACT_KEY) REFERENCES CUSTOMER_CONTACT_DIMENSION,\n",
    "    FOREIGN KEY (DEMOGRAPHIC_KEY) REFERENCES CUSTOMER_DEMOGRAPHIC_DIMENSION\n",
    ");"
   ]
  },
  {
   "cell_type": "code",
   "execution_count": 64,
   "id": "132c7a0f-69a8-495e-acbc-422f7f6afea1",
   "metadata": {},
   "outputs": [
    {
     "name": "stdout",
     "output_type": "stream",
     "text": [
      " * postgresql://student@/Final_Project\n",
      "307511 rows affected.\n"
     ]
    },
    {
     "data": {
      "text/plain": [
       "[]"
      ]
     },
     "execution_count": 64,
     "metadata": {},
     "output_type": "execute_result"
    }
   ],
   "source": [
    "%%sql\n",
    "INSERT INTO FACT (SK_ID_CURR,BUREAU_KEY,CONTACT_KEY,DEMOGRAPHIC_KEY,TARGET,AMT_INCOME_TOTAL)\n",
    "SELECT SK_ID_CURR,BUREAU_KEY,CONTACT_KEY,DEMOGRAPHIC_KEY,TARGET,AMT_INCOME_TOTAL\n",
    "FROM APPLICATION_DATA;"
   ]
  },
  {
   "cell_type": "markdown",
   "id": "c9020581-12b0-409b-9a7f-8b391e09eeab",
   "metadata": {},
   "source": [
    "Now, check the final fact table \n",
    "- Verify that wrangling steps have succeeded "
   ]
  },
  {
   "cell_type": "code",
   "execution_count": 65,
   "id": "47a4d45b-9f52-443d-9ede-da0574f225f0",
   "metadata": {},
   "outputs": [
    {
     "name": "stdout",
     "output_type": "stream",
     "text": [
      " * postgresql://student@/Final_Project\n",
      "5 rows affected.\n"
     ]
    },
    {
     "data": {
      "text/html": [
       "<table>\n",
       "    <thead>\n",
       "        <tr>\n",
       "            <th>sk_id_curr</th>\n",
       "            <th>bureau_key</th>\n",
       "            <th>contact_key</th>\n",
       "            <th>demographic_key</th>\n",
       "            <th>target</th>\n",
       "            <th>amt_income_total</th>\n",
       "        </tr>\n",
       "    </thead>\n",
       "    <tbody>\n",
       "        <tr>\n",
       "            <td>100009</td>\n",
       "            <td>4</td>\n",
       "            <td>4</td>\n",
       "            <td>529</td>\n",
       "            <td>0</td>\n",
       "            <td>171000</td>\n",
       "        </tr>\n",
       "        <tr>\n",
       "            <td>100011</td>\n",
       "            <td>4</td>\n",
       "            <td>4</td>\n",
       "            <td>8357</td>\n",
       "            <td>0</td>\n",
       "            <td>112500</td>\n",
       "        </tr>\n",
       "        <tr>\n",
       "            <td>100003</td>\n",
       "            <td>4</td>\n",
       "            <td>4</td>\n",
       "            <td>9112</td>\n",
       "            <td>0</td>\n",
       "            <td>270000</td>\n",
       "        </tr>\n",
       "        <tr>\n",
       "            <td>100006</td>\n",
       "            <td>4</td>\n",
       "            <td>4</td>\n",
       "            <td>18559</td>\n",
       "            <td>0</td>\n",
       "            <td>135000</td>\n",
       "        </tr>\n",
       "        <tr>\n",
       "            <td>100010</td>\n",
       "            <td>4</td>\n",
       "            <td>4</td>\n",
       "            <td>30039</td>\n",
       "            <td>0</td>\n",
       "            <td>360000</td>\n",
       "        </tr>\n",
       "    </tbody>\n",
       "</table>"
      ],
      "text/plain": [
       "[(Decimal('100009'), 4, 4, 529, Decimal('0'), Decimal('171000')),\n",
       " (Decimal('100011'), 4, 4, 8357, Decimal('0'), Decimal('112500')),\n",
       " (Decimal('100003'), 4, 4, 9112, Decimal('0'), Decimal('270000')),\n",
       " (Decimal('100006'), 4, 4, 18559, Decimal('0'), Decimal('135000')),\n",
       " (Decimal('100010'), 4, 4, 30039, Decimal('0'), Decimal('360000'))]"
      ]
     },
     "execution_count": 65,
     "metadata": {},
     "output_type": "execute_result"
    }
   ],
   "source": [
    "%%sql\n",
    "select * from FACT\n",
    "LIMIT 5\n",
    ";"
   ]
  },
  {
   "cell_type": "code",
   "execution_count": 66,
   "id": "b7b9b6c2-a955-4473-8d0e-8c6b08634ad6",
   "metadata": {},
   "outputs": [
    {
     "name": "stdout",
     "output_type": "stream",
     "text": [
      " * postgresql://student@/Final_Project\n",
      "1 rows affected.\n"
     ]
    },
    {
     "data": {
      "text/html": [
       "<table>\n",
       "    <thead>\n",
       "        <tr>\n",
       "            <th>count</th>\n",
       "        </tr>\n",
       "    </thead>\n",
       "    <tbody>\n",
       "        <tr>\n",
       "            <td>307511</td>\n",
       "        </tr>\n",
       "    </tbody>\n",
       "</table>"
      ],
      "text/plain": [
       "[(307511,)]"
      ]
     },
     "execution_count": 66,
     "metadata": {},
     "output_type": "execute_result"
    }
   ],
   "source": [
    "%%sql\n",
    "select count(*)\n",
    "from FACT\n",
    ";"
   ]
  },
  {
   "cell_type": "markdown",
   "id": "cbf485f7-01e9-434f-8ff7-fa36992d0d63",
   "metadata": {},
   "source": [
    "# ASK3: Data analysis and visualization"
   ]
  },
  {
   "cell_type": "markdown",
   "id": "51d8ede9-abbe-4bc3-bed3-383cf47196ad",
   "metadata": {},
   "source": [
    "## Q1: In the provided loan data, what is the average loan default rate? What is the average credit limit on the loan that the consumer is granted? What are the loan types along with which income levels have the higher default rate?"
   ]
  },
  {
   "cell_type": "code",
   "execution_count": 67,
   "id": "8eb94f45-bca6-4983-b9d1-10b7fffbf238",
   "metadata": {},
   "outputs": [],
   "source": [
    "# Average default rate"
   ]
  },
  {
   "cell_type": "code",
   "execution_count": 68,
   "id": "5e7dbf80-e8aa-4cfd-88d4-00aa6f7091b0",
   "metadata": {
    "tags": []
   },
   "outputs": [
    {
     "name": "stdout",
     "output_type": "stream",
     "text": [
      " * postgresql://student@/Final_Project\n",
      "1 rows affected.\n"
     ]
    },
    {
     "data": {
      "text/html": [
       "<table>\n",
       "    <thead>\n",
       "        <tr>\n",
       "            <th>average_default_rate</th>\n",
       "        </tr>\n",
       "    </thead>\n",
       "    <tbody>\n",
       "        <tr>\n",
       "            <td>0.08072881945686495768</td>\n",
       "        </tr>\n",
       "    </tbody>\n",
       "</table>"
      ],
      "text/plain": [
       "[(Decimal('0.08072881945686495768'),)]"
      ]
     },
     "execution_count": 68,
     "metadata": {},
     "output_type": "execute_result"
    }
   ],
   "source": [
    "%%sql\n",
    "SELECT AVG(CAST(target AS DECIMAL)) AS average_default_rate\n",
    "FROM FACT;"
   ]
  },
  {
   "cell_type": "markdown",
   "id": "d21ab7e6-d248-4a0f-bfdf-33c7037294dd",
   "metadata": {},
   "source": [
    "Average Loan Default Rate: The average loan default rate in the provided loan data is approximately 8.07%. This means that, on average, about 8.07% of the borrowers in the dataset experienced payment difficulties."
   ]
  },
  {
   "cell_type": "code",
   "execution_count": 69,
   "id": "e5755c64-34b1-4324-b842-24b38e41f290",
   "metadata": {},
   "outputs": [],
   "source": [
    "# Loan Type with highest Default, we can see that cash loan is the highest. "
   ]
  },
  {
   "cell_type": "code",
   "execution_count": 70,
   "id": "6698918f-e44c-44a2-99f8-a685eb0a9eaa",
   "metadata": {},
   "outputs": [
    {
     "name": "stdout",
     "output_type": "stream",
     "text": [
      " * postgresql://student@/Final_Project\n",
      "2 rows affected.\n"
     ]
    },
    {
     "data": {
      "text/html": [
       "<table>\n",
       "    <thead>\n",
       "        <tr>\n",
       "            <th>name_contract_type</th>\n",
       "            <th>average_default_rate</th>\n",
       "        </tr>\n",
       "    </thead>\n",
       "    <tbody>\n",
       "        <tr>\n",
       "            <td>Cash loans</td>\n",
       "            <td>0.08345912763449207855</td>\n",
       "        </tr>\n",
       "        <tr>\n",
       "            <td>Revolving loans</td>\n",
       "            <td>0.05478329177909081594</td>\n",
       "        </tr>\n",
       "    </tbody>\n",
       "</table>"
      ],
      "text/plain": [
       "[('Cash loans', Decimal('0.08345912763449207855')),\n",
       " ('Revolving loans', Decimal('0.05478329177909081594'))]"
      ]
     },
     "execution_count": 70,
     "metadata": {},
     "output_type": "execute_result"
    }
   ],
   "source": [
    "%%sql\n",
    "SELECT LD.name_contract_type, AVG(CAST(F.target AS DECIMAL)) AS average_default_rate\n",
    "FROM FACT F\n",
    "JOIN LOAN_DIMENSION LD ON F.sk_id_curr = LD.sk_id_curr\n",
    "GROUP BY LD.name_contract_type\n",
    "ORDER BY average_default_rate DESC"
   ]
  },
  {
   "cell_type": "markdown",
   "id": "49c41ba3-4ea0-4f3b-9abf-22a1e1c09aa9",
   "metadata": {},
   "source": [
    "Loan Types and Default Rates:\n",
    "\n",
    "For \"Cash loans,\" the default rate is approximately 8.35%. This suggests that a relatively higher percentage of borrowers with cash loans had payment difficulties.\n",
    "For \"Revolving loans,\" the default rate is approximately 5.48%. Borrowers with revolving loans had a lower default rate compared to cash loans."
   ]
  },
  {
   "cell_type": "code",
   "execution_count": 71,
   "id": "4d5d3b92-7f7d-46e9-a93d-fae0334f56e1",
   "metadata": {},
   "outputs": [],
   "source": [
    "# typical income group and loan contract type with default_rate"
   ]
  },
  {
   "cell_type": "code",
   "execution_count": 72,
   "id": "721d42f4-2f2b-420f-8a67-68407a1f8956",
   "metadata": {},
   "outputs": [
    {
     "name": "stdout",
     "output_type": "stream",
     "text": [
      " * postgresql://student@/Final_Project\n",
      "8 rows affected.\n"
     ]
    },
    {
     "data": {
      "text/html": [
       "<table>\n",
       "    <thead>\n",
       "        <tr>\n",
       "            <th>name_contract_type</th>\n",
       "            <th>amt_income_total_group</th>\n",
       "            <th>default_rate</th>\n",
       "        </tr>\n",
       "    </thead>\n",
       "    <tbody>\n",
       "        <tr>\n",
       "            <td>Cash loans</td>\n",
       "            <td>100K-150K</td>\n",
       "            <td>0.089</td>\n",
       "        </tr>\n",
       "        <tr>\n",
       "            <td>Cash loans</td>\n",
       "            <td>150K-200K</td>\n",
       "            <td>0.088</td>\n",
       "        </tr>\n",
       "        <tr>\n",
       "            <td>Cash loans</td>\n",
       "            <td>&lt;=100K</td>\n",
       "            <td>0.084</td>\n",
       "        </tr>\n",
       "        <tr>\n",
       "            <td>Cash loans</td>\n",
       "            <td>&gt;200K</td>\n",
       "            <td>0.075</td>\n",
       "        </tr>\n",
       "        <tr>\n",
       "            <td>Revolving loans</td>\n",
       "            <td>&lt;=100K</td>\n",
       "            <td>0.068</td>\n",
       "        </tr>\n",
       "        <tr>\n",
       "            <td>Revolving loans</td>\n",
       "            <td>100K-150K</td>\n",
       "            <td>0.064</td>\n",
       "        </tr>\n",
       "        <tr>\n",
       "            <td>Revolving loans</td>\n",
       "            <td>150K-200K</td>\n",
       "            <td>0.047</td>\n",
       "        </tr>\n",
       "        <tr>\n",
       "            <td>Revolving loans</td>\n",
       "            <td>&gt;200K</td>\n",
       "            <td>0.035</td>\n",
       "        </tr>\n",
       "    </tbody>\n",
       "</table>"
      ],
      "text/plain": [
       "[('Cash loans', '100K-150K', Decimal('0.089')),\n",
       " ('Cash loans', '150K-200K', Decimal('0.088')),\n",
       " ('Cash loans', '<=100K', Decimal('0.084')),\n",
       " ('Cash loans', '>200K', Decimal('0.075')),\n",
       " ('Revolving loans', '<=100K', Decimal('0.068')),\n",
       " ('Revolving loans', '100K-150K', Decimal('0.064')),\n",
       " ('Revolving loans', '150K-200K', Decimal('0.047')),\n",
       " ('Revolving loans', '>200K', Decimal('0.035'))]"
      ]
     },
     "execution_count": 72,
     "metadata": {},
     "output_type": "execute_result"
    }
   ],
   "source": [
    "%%sql \n",
    "select NAME_CONTRACT_TYPE, amt_income_total_group,\n",
    "round(sum(TARGET)/count(*),3) as default_rate\n",
    "from FACT a \n",
    "left join Loan_Dimension b \n",
    "on a.SK_ID_CURR=b.SK_ID_CURR \n",
    "left join Customer_Demographic_Dimension c\n",
    "on a.demographic_key=c.demographic_key\n",
    "group by NAME_CONTRACT_TYPE, AMT_INCOME_TOTAL_GROUP\n",
    "order by default_rate desc\n",
    ";"
   ]
  },
  {
   "cell_type": "markdown",
   "id": "d29d40b0-7999-47d3-a899-ebfb711c980a",
   "metadata": {},
   "source": [
    "**Expectations vs. Results**:\n",
    "\n",
    "- The average loan default rate of approximately 8.07% is within the expected range for consumer loans, where single-digit default rates are typical.\n",
    "- The finding that \"Cash loans\" have a higher default rate compared to \"Revolving loans\" aligns with the general understanding that installment loans (like cash loans) tend to have higher default rates than revolving credit (like credit cards).\n",
    "- The variation in default rates across different income groups is also expected, as borrowers with higher incomes may have better financial stability and a lower likelihood of defaulting.\n",
    "\n",
    "- Overall, the results align with common trends in the lending industry, where loan types and income levels are known factors influencing default rates."
   ]
  },
  {
   "cell_type": "code",
   "execution_count": 73,
   "id": "ede7a903-dd0d-4249-b9d8-0b001a4fd7ac",
   "metadata": {},
   "outputs": [
    {
     "name": "stdout",
     "output_type": "stream",
     "text": [
      " * postgresql://student@/Final_Project\n",
      "8 rows affected.\n"
     ]
    }
   ],
   "source": [
    "q1=%sql select NAME_CONTRACT_TYPE, amt_income_total_group,round(sum(TARGET)/count(*),3) as default_rate from FACT a left join Loan_Dimension b on a.SK_ID_CURR=b.SK_ID_CURR left join Customer_Demographic_Dimension c on a.demographic_key=c.demographic_key group by NAME_CONTRACT_TYPE, AMT_INCOME_TOTAL_GROUP order by default_rate desc;"
   ]
  },
  {
   "cell_type": "markdown",
   "id": "bc4cda46-bd45-4a90-89bc-46cb8ddcc1a7",
   "metadata": {},
   "source": [
    " ### visualization"
   ]
  },
  {
   "cell_type": "code",
   "execution_count": 74,
   "id": "918911fe-ee5a-4cad-913a-c2f7c67913fe",
   "metadata": {},
   "outputs": [
    {
     "data": {
      "image/png": "[encoded data removed]",
      "text/plain": [
       "<Figure size 1200x800 with 1 Axes>"
      ]
     },
     "metadata": {},
     "output_type": "display_data"
    }
   ],
   "source": [
    "import matplotlib.pyplot as plt\n",
    "import seaborn as sns\n",
    "import pandas as pd\n",
    "\n",
    "# Data for plotting\n",
    "data = {\n",
    "    'name_contract_type': ['Cash loans', 'Cash loans', 'Cash loans', 'Cash loans',\n",
    "                           'Revolving loans', 'Revolving loans', 'Revolving loans', 'Revolving loans'],\n",
    "    'amt_income_total_group': ['100K-150K', '150K-200K', '<=100K', '>200K',\n",
    "                               '<=100K', '100K-150K', '150K-200K', '>200K'],\n",
    "    'default_rate': [0.089, 0.088, 0.084, 0.075, 0.068, 0.064, 0.047, 0.035]\n",
    "}\n",
    "\n",
    "# Convert data to DataFrame\n",
    "df = pd.DataFrame(data)\n",
    "\n",
    "# Create the plot with overlapping bars\n",
    "plt.figure(figsize=(12, 8))\n",
    "plot = sns.barplot(x='amt_income_total_group', y='default_rate', hue='name_contract_type', data=df, dodge=False)\n",
    "\n",
    "# Add the text (default rate percentage) on each bar\n",
    "for p in plot.patches:\n",
    "    height = p.get_height()\n",
    "    plt.text(p.get_x() + p.get_width() / 2.,  \n",
    "             height + 0.001, \n",
    "             f'{height:.3f}', \n",
    "             ha='center',  \n",
    "             va='bottom')  \n",
    "\n",
    "# Setting the labels and title\n",
    "plt.xlabel('Income Total Group')\n",
    "plt.ylabel('Default Rate')\n",
    "plt.title('Default Rate by Contract Type and Income Group')\n",
    "plt.show()\n",
    "\n"
   ]
  },
  {
   "cell_type": "markdown",
   "id": "5085dda4-e518-47af-a10a-11fc38c2c190",
   "metadata": {},
   "source": [
    "## Question 2: what are the differences between females and males regarding their average income and default rate? Also, within each gender group, which income level shows the highest frequency of defaults?"
   ]
  },
  {
   "cell_type": "code",
   "execution_count": 75,
   "id": "a33f6669-25ce-470d-856d-2ba7b7dbd262",
   "metadata": {},
   "outputs": [],
   "source": [
    "import pandas as plt\n",
    "import matplotlib.pyplot as plt\n",
    "%matplotlib inline"
   ]
  },
  {
   "cell_type": "code",
   "execution_count": 76,
   "id": "5ab0ab04-4ce2-4db7-944e-435e3216005f",
   "metadata": {},
   "outputs": [],
   "source": [
    "# the differences between females and males regarding their average income and default rate"
   ]
  },
  {
   "cell_type": "code",
   "execution_count": 77,
   "id": "3ac412d7-8a3c-4fca-ae26-53d25ca79976",
   "metadata": {},
   "outputs": [
    {
     "name": "stdout",
     "output_type": "stream",
     "text": [
      " * postgresql://student@/Final_Project\n",
      "2 rows affected.\n"
     ]
    },
    {
     "data": {
      "text/html": [
       "<table>\n",
       "    <thead>\n",
       "        <tr>\n",
       "            <th>code_gender</th>\n",
       "            <th>number_0f_loan</th>\n",
       "            <th>avg_income</th>\n",
       "            <th>default_rate</th>\n",
       "        </tr>\n",
       "    </thead>\n",
       "    <tbody>\n",
       "        <tr>\n",
       "            <td>F</td>\n",
       "            <td>202448</td>\n",
       "            <td>156032.31</td>\n",
       "            <td>0.070</td>\n",
       "        </tr>\n",
       "        <tr>\n",
       "            <td>M</td>\n",
       "            <td>105059</td>\n",
       "            <td>193396.48</td>\n",
       "            <td>0.101</td>\n",
       "        </tr>\n",
       "    </tbody>\n",
       "</table>"
      ],
      "text/plain": [
       "[('F', 202448, Decimal('156032.31'), Decimal('0.070')),\n",
       " ('M', 105059, Decimal('193396.48'), Decimal('0.101'))]"
      ]
     },
     "execution_count": 77,
     "metadata": {},
     "output_type": "execute_result"
    }
   ],
   "source": [
    "%%sql\n",
    "select CODE_GENDER,\n",
    "count(*) as Number_0f_loan,\n",
    "round(avg(AMT_INCOME_TOTAL),2) as Avg_INCOME,\n",
    "round(sum(Target)/count(*),3) as default_rate\n",
    "from FACT a\n",
    "left join Customer_Demographic_Dimension b\n",
    "on a.demographic_key=b.demographic_key\n",
    "group by CODE_GENDER\n",
    "limit 2;"
   ]
  },
  {
   "cell_type": "markdown",
   "id": "36febde5-3309-470b-9bbd-5798d1808f39",
   "metadata": {},
   "source": [
    "**Average Income**:\n",
    "\n",
    "- Females (F) have an average income of approximately 156,032.31 rupee.\n",
    "- Males (M) have a higher average income of approximately 193,396.48 rupee."
   ]
  },
  {
   "cell_type": "code",
   "execution_count": 78,
   "id": "e76bee63-fb7e-4038-a02d-3fd154a6b939",
   "metadata": {},
   "outputs": [],
   "source": [
    "# within each gender group shows the highest frequency of defaults?"
   ]
  },
  {
   "cell_type": "code",
   "execution_count": 79,
   "id": "de5bfca8-1965-4067-a638-94ecace39a0a",
   "metadata": {},
   "outputs": [
    {
     "name": "stdout",
     "output_type": "stream",
     "text": [
      " * postgresql://student@/Final_Project\n",
      "2 rows affected.\n"
     ]
    }
   ],
   "source": [
    "q2 = %sql select CODE_GENDER, count(*) as Total_Credit_Cards, round(avg(AMT_INCOME_TOTAL),2) as Avg_INCOME, round(sum(Target)/count(*),3) as default_rate from FACT a left join Customer_Demographic_Dimension b on a.demographic_key=b.demographic_key where CODE_GENDER !='XNA'  group by CODE_GENDER;"
   ]
  },
  {
   "cell_type": "code",
   "execution_count": 80,
   "id": "08d8140f-baf3-4e77-a0a8-64c61c0d2c7e",
   "metadata": {},
   "outputs": [],
   "source": [
    "df=q2.DataFrame()"
   ]
  },
  {
   "cell_type": "code",
   "execution_count": 81,
   "id": "16b00b82-0e7f-4d84-a396-48890e1e2c7b",
   "metadata": {},
   "outputs": [
    {
     "data": {
      "text/html": [
       "<div>\n",
       "<style scoped>\n",
       "    .dataframe tbody tr th:only-of-type {\n",
       "        vertical-align: middle;\n",
       "    }\n",
       "\n",
       "    .dataframe tbody tr th {\n",
       "        vertical-align: top;\n",
       "    }\n",
       "\n",
       "    .dataframe thead th {\n",
       "        text-align: right;\n",
       "    }\n",
       "</style>\n",
       "<table border=\"1\" class=\"dataframe\">\n",
       "  <thead>\n",
       "    <tr style=\"text-align: right;\">\n",
       "      <th></th>\n",
       "      <th>code_gender</th>\n",
       "      <th>total_credit_cards</th>\n",
       "      <th>avg_income</th>\n",
       "      <th>default_rate</th>\n",
       "    </tr>\n",
       "  </thead>\n",
       "  <tbody>\n",
       "    <tr>\n",
       "      <th>0</th>\n",
       "      <td>F</td>\n",
       "      <td>202448</td>\n",
       "      <td>156032.31</td>\n",
       "      <td>0.070</td>\n",
       "    </tr>\n",
       "    <tr>\n",
       "      <th>1</th>\n",
       "      <td>M</td>\n",
       "      <td>105059</td>\n",
       "      <td>193396.48</td>\n",
       "      <td>0.101</td>\n",
       "    </tr>\n",
       "  </tbody>\n",
       "</table>\n",
       "</div>"
      ],
      "text/plain": [
       "  code_gender  total_credit_cards avg_income default_rate\n",
       "0           F              202448  156032.31        0.070\n",
       "1           M              105059  193396.48        0.101"
      ]
     },
     "execution_count": 81,
     "metadata": {},
     "output_type": "execute_result"
    }
   ],
   "source": [
    "df"
   ]
  },
  {
   "cell_type": "markdown",
   "id": "12a917e8-276a-4f7d-83b1-59d26b348ee3",
   "metadata": {},
   "source": [
    "**Default Rate**:\n",
    "\n",
    "- Females have a default rate of approximately 7.0% with lower income.\n",
    "- Males have a higher default rate of approximately 10.1% with higher income.\n"
   ]
  },
  {
   "cell_type": "markdown",
   "id": "4ef2ef04-e246-4661-9426-57b06c930370",
   "metadata": {
    "tags": []
   },
   "source": [
    "### visualization"
   ]
  },
  {
   "cell_type": "code",
   "execution_count": 82,
   "id": "ca77f83c-6c91-437d-8aa8-5a53c74e39f5",
   "metadata": {},
   "outputs": [
    {
     "data": {
      "image/png": "[encoded data removed]",
      "text/plain": [
       "<Figure size 640x480 with 2 Axes>"
      ]
     },
     "metadata": {},
     "output_type": "display_data"
    }
   ],
   "source": [
    "fig, ax = plt.subplots()\n",
    "ax2=ax.twinx()\n",
    "\n",
    "ax.bar(df['code_gender'],df['avg_income'],color='b', label='Bar')\n",
    "ax2.plot(df['code_gender'],df['default_rate'],color='r',marker='o')\n",
    "plt.yticks([0.00,0.02,0.04,0.06,0.08,0.10,0.12,0.14],['0%','2%','4%','6%','8%','10%','12%','14%'])\n",
    "\n",
    "plt.xticks(['F','M'],['Female','Male'])\n",
    "ax.set_xlabel('Gender')\n",
    "ax.set_ylabel('Average Income')\n",
    "ax2.set_ylabel('Default Rate')\n",
    "plt.title('Gender Comparision: Average Income and Default Rate')\n",
    "\n",
    "plt.show()"
   ]
  },
  {
   "cell_type": "code",
   "execution_count": 83,
   "id": "fdb0ea44-982c-4d15-a16e-cf002c8cf2a5",
   "metadata": {},
   "outputs": [],
   "source": [
    "# within each gender group, which income level shows the highest frequency of defaults?"
   ]
  },
  {
   "cell_type": "code",
   "execution_count": 105,
   "id": "b7a5162f-4f9a-485e-8c15-cab2e6da66c4",
   "metadata": {},
   "outputs": [
    {
     "name": "stdout",
     "output_type": "stream",
     "text": [
      " * postgresql://student@/Final_Project\n",
      "8 rows affected.\n"
     ]
    }
   ],
   "source": [
    "q2_2 = %sql select AMT_INCOME_TOTAL_group,CODE_GENDER, count(*) as Total_Credit_Cards, round(avg(AMT_INCOME_TOTAL),2) as Avg_INCOME, round(sum(Target)/count(*),4) as default_rate from FACT a left join Customer_Demographic_Dimension b on a.demographic_key=b.demographic_key where CODE_GENDER !='XNA'  group by AMT_INCOME_TOTAL_group,CODE_GENDER;"
   ]
  },
  {
   "cell_type": "code",
   "execution_count": 106,
   "id": "3b9a06b2-b6de-4ff2-8f94-d7876dcd0904",
   "metadata": {},
   "outputs": [],
   "source": [
    "df_2=q2_2.DataFrame()"
   ]
  },
  {
   "cell_type": "code",
   "execution_count": 107,
   "id": "6b90f8a5-a05a-4cd0-91f2-62499b01fdc7",
   "metadata": {},
   "outputs": [
    {
     "data": {
      "text/html": [
       "<div>\n",
       "<style scoped>\n",
       "    .dataframe tbody tr th:only-of-type {\n",
       "        vertical-align: middle;\n",
       "    }\n",
       "\n",
       "    .dataframe tbody tr th {\n",
       "        vertical-align: top;\n",
       "    }\n",
       "\n",
       "    .dataframe thead th {\n",
       "        text-align: right;\n",
       "    }\n",
       "</style>\n",
       "<table border=\"1\" class=\"dataframe\">\n",
       "  <thead>\n",
       "    <tr style=\"text-align: right;\">\n",
       "      <th></th>\n",
       "      <th>amt_income_total_group</th>\n",
       "      <th>code_gender</th>\n",
       "      <th>total_credit_cards</th>\n",
       "      <th>avg_income</th>\n",
       "      <th>default_rate</th>\n",
       "    </tr>\n",
       "  </thead>\n",
       "  <tbody>\n",
       "    <tr>\n",
       "      <th>0</th>\n",
       "      <td>100K-150K</td>\n",
       "      <td>F</td>\n",
       "      <td>64026</td>\n",
       "      <td>123797.13</td>\n",
       "      <td>0.0736</td>\n",
       "    </tr>\n",
       "    <tr>\n",
       "      <th>1</th>\n",
       "      <td>100K-150K</td>\n",
       "      <td>M</td>\n",
       "      <td>27564</td>\n",
       "      <td>125789.15</td>\n",
       "      <td>0.1154</td>\n",
       "    </tr>\n",
       "    <tr>\n",
       "      <th>2</th>\n",
       "      <td>150K-200K</td>\n",
       "      <td>F</td>\n",
       "      <td>39700</td>\n",
       "      <td>168905.03</td>\n",
       "      <td>0.0695</td>\n",
       "    </tr>\n",
       "    <tr>\n",
       "      <th>3</th>\n",
       "      <td>150K-200K</td>\n",
       "      <td>M</td>\n",
       "      <td>24606</td>\n",
       "      <td>170252.55</td>\n",
       "      <td>0.1087</td>\n",
       "    </tr>\n",
       "    <tr>\n",
       "      <th>4</th>\n",
       "      <td>&lt;=100K</td>\n",
       "      <td>F</td>\n",
       "      <td>51485</td>\n",
       "      <td>77571.94</td>\n",
       "      <td>0.0743</td>\n",
       "    </tr>\n",
       "    <tr>\n",
       "      <th>5</th>\n",
       "      <td>&lt;=100K</td>\n",
       "      <td>M</td>\n",
       "      <td>12213</td>\n",
       "      <td>80190.99</td>\n",
       "      <td>0.1147</td>\n",
       "    </tr>\n",
       "    <tr>\n",
       "      <th>6</th>\n",
       "      <td>&gt;200K</td>\n",
       "      <td>F</td>\n",
       "      <td>47237</td>\n",
       "      <td>274422.02</td>\n",
       "      <td>0.0609</td>\n",
       "    </tr>\n",
       "    <tr>\n",
       "      <th>7</th>\n",
       "      <td>&gt;200K</td>\n",
       "      <td>M</td>\n",
       "      <td>40676</td>\n",
       "      <td>287200.86</td>\n",
       "      <td>0.0836</td>\n",
       "    </tr>\n",
       "  </tbody>\n",
       "</table>\n",
       "</div>"
      ],
      "text/plain": [
       "  amt_income_total_group code_gender  total_credit_cards avg_income  \\\n",
       "0              100K-150K           F               64026  123797.13   \n",
       "1              100K-150K           M               27564  125789.15   \n",
       "2              150K-200K           F               39700  168905.03   \n",
       "3              150K-200K           M               24606  170252.55   \n",
       "4                 <=100K           F               51485   77571.94   \n",
       "5                 <=100K           M               12213   80190.99   \n",
       "6                  >200K           F               47237  274422.02   \n",
       "7                  >200K           M               40676  287200.86   \n",
       "\n",
       "  default_rate  \n",
       "0       0.0736  \n",
       "1       0.1154  \n",
       "2       0.0695  \n",
       "3       0.1087  \n",
       "4       0.0743  \n",
       "5       0.1147  \n",
       "6       0.0609  \n",
       "7       0.0836  "
      ]
     },
     "execution_count": 107,
     "metadata": {},
     "output_type": "execute_result"
    }
   ],
   "source": [
    "df_2"
   ]
  },
  {
   "cell_type": "markdown",
   "id": "c21a91a8-82ff-422a-8d0d-033676ba2a8d",
   "metadata": {},
   "source": [
    "**Income Levels and Default Rates Within Gender Groups**:\n",
    "\n",
    "- Among Females (F):\n",
    "\n",
    "    - The income group \"100K-150K\" has a default rate of approximately 7.4%.\n",
    "    - The income group \"150K-200K\" has a default rate of approximately 6.9%.\n",
    "    - The income group \"<=100K\" has a default rate of approximately 7.4%.\n",
    "    - The income group \">200K\" has the lowest default rate at approximately 6.1%.\n",
    "\n",
    "- Among Males (M):\n",
    "\n",
    "    - The income group \"100K-150K\" has the highest default rate at approximately 11.5%.\n",
    "    - The income group \"150K-200K\" has a default rate of approximately 10.9%.\n",
    "    - The income group \"<=100K\" has a default rate of approximately 11.5%.\n",
    "    - The income group \">200K\" has a lower default rate than the previous income groups at approximately 8.4%."
   ]
  },
  {
   "cell_type": "markdown",
   "id": "eaa8494a-c1ed-4758-a7bf-39426836a616",
   "metadata": {},
   "source": [
    "**Expectations vs. Results**:\n",
    "\n",
    "- It is expected that males have a higher average income compared to females, as this trend is commonly observed in income disparities.\n",
    "- The finding that males have a higher default rate aligns with statistical data showing that, on average, males tend to default on loans at a higher rate than females.\n",
    "- Within each gender group, it is expected that higher income levels are associated with lower default rates. However, there is a notable exception among males in the \"100K-150K\" income group, where the default rate is higher. This could be due to various factors affecting loan repayment behavior.\n",
    "- Overall, the results reflect known trends in income and default rates between genders and income levels."
   ]
  },
  {
   "cell_type": "code",
   "execution_count": 109,
   "id": "3c553024-e72b-4e7e-ac39-94dbabdcaef8",
   "metadata": {},
   "outputs": [
    {
     "data": {
      "image/png": "[encoded data removed]",
      "text/plain": [
       "<Figure size 1000x600 with 1 Axes>"
      ]
     },
     "metadata": {},
     "output_type": "display_data"
    }
   ],
   "source": [
    "import pandas as pd\n",
    "import matplotlib.pyplot as plt\n",
    "import seaborn as sns\n",
    "\n",
    "# Define the desired order of income groups\n",
    "income_group_order = ['<=100K', '100K-150K', '150K-200K', '>200K']\n",
    "\n",
    "# Convert the 'amt_income_total_group' column to a categorical type with the specified order\n",
    "df_2['amt_income_total_group'] = pd.Categorical(df_2['amt_income_total_group'], categories=income_group_order, ordered=True)\n",
    "\n",
    "# Grouping by gender and income group and calculating mean default rate\n",
    "grouped_data = df_2.groupby(['code_gender', 'amt_income_total_group']).agg({'default_rate': 'mean'}).reset_index()\n",
    "\n",
    "# Creating a bar plot\n",
    "plt.figure(figsize=(10, 6))\n",
    "bar_plot = sns.barplot(x='amt_income_total_group', y='default_rate', hue='code_gender', data=grouped_data)\n",
    "\n",
    "plt.title('Average Default Rate by Gender and Income Group')\n",
    "plt.xlabel('Income Group')\n",
    "plt.ylabel('Average Default Rate')\n",
    "plt.xticks(rotation=45)\n",
    "plt.legend(title='Gender')\n",
    "\n",
    "# Adding annotations\n",
    "for p in bar_plot.patches:\n",
    "    bar_plot.annotate(format(p.get_height() * 100, '.2f') + '%', \n",
    "                      (p.get_x() + p.get_width() / 2., p.get_height()), \n",
    "                      ha = 'center', va = 'center', \n",
    "                      xytext = (0, 9), \n",
    "                      textcoords = 'offset points')\n",
    "\n",
    "plt.tight_layout()\n",
    "plt.show()\n"
   ]
  },
  {
   "cell_type": "markdown",
   "id": "1e8f016f-977a-4a01-b547-8ef111d7b43a",
   "metadata": {},
   "source": [
    "## Q3: How can we identify and categorize the risk profiles of our loan applicants based on their income level, age group, and occupation? Specifically, which income group has the highest overall default rate, and within this group, which age bracket is most prone to defaulting? Furthermore, among the high-risk age bracket in the highest defaulting income group, what are the common occupation types, and how do their default rates compare? "
   ]
  },
  {
   "cell_type": "code",
   "execution_count": 88,
   "id": "b3f96340-8433-4d3d-a2bc-911485c1bf2e",
   "metadata": {},
   "outputs": [],
   "source": [
    "# average default rate across four different income groups"
   ]
  },
  {
   "cell_type": "code",
   "execution_count": 89,
   "id": "a31802bb-0702-41a6-a407-d640f7284296",
   "metadata": {},
   "outputs": [
    {
     "name": "stdout",
     "output_type": "stream",
     "text": [
      " * postgresql://student@/Final_Project\n",
      "4 rows affected.\n"
     ]
    },
    {
     "data": {
      "text/html": [
       "<table>\n",
       "    <thead>\n",
       "        <tr>\n",
       "            <th>amt_income_total_group</th>\n",
       "            <th>average_default_rate</th>\n",
       "        </tr>\n",
       "    </thead>\n",
       "    <tbody>\n",
       "        <tr>\n",
       "            <td>100K-150K</td>\n",
       "            <td>0.0862</td>\n",
       "        </tr>\n",
       "        <tr>\n",
       "            <td>150K-200K</td>\n",
       "            <td>0.0845</td>\n",
       "        </tr>\n",
       "        <tr>\n",
       "            <td>&lt;=100K</td>\n",
       "            <td>0.0820</td>\n",
       "        </tr>\n",
       "        <tr>\n",
       "            <td>&gt;200K</td>\n",
       "            <td>0.0714</td>\n",
       "        </tr>\n",
       "    </tbody>\n",
       "</table>"
      ],
      "text/plain": [
       "[('100K-150K', Decimal('0.0862')),\n",
       " ('150K-200K', Decimal('0.0845')),\n",
       " ('<=100K', Decimal('0.0820')),\n",
       " ('>200K', Decimal('0.0714'))]"
      ]
     },
     "execution_count": 89,
     "metadata": {},
     "output_type": "execute_result"
    }
   ],
   "source": [
    "%%sql\n",
    "SELECT CDD.AMT_INCOME_TOTAL_GROUP, ROUND(AVG(CAST(F.target AS DECIMAL)),4) AS average_default_rate\n",
    "FROM FACT F\n",
    "JOIN CUSTOMER_DEMOGRAPHIC_DIMENSION CDD ON F.demographic_key = CDD.demographic_key\n",
    "GROUP BY CDD.AMT_INCOME_TOTAL_GROUP\n",
    "ORDER BY average_default_rate DESC;"
   ]
  },
  {
   "cell_type": "code",
   "execution_count": 90,
   "id": "82e79069-a9b5-4e04-9e95-8625c7b9cf59",
   "metadata": {},
   "outputs": [
    {
     "data": {
      "image/png": "[encoded data removed]",
      "text/plain": [
       "<Figure size 1000x600 with 1 Axes>"
      ]
     },
     "metadata": {},
     "output_type": "display_data"
    }
   ],
   "source": [
    "import matplotlib.pyplot as plt\n",
    "import seaborn as sns\n",
    "import pandas as pd\n",
    "\n",
    "# Sample data\n",
    "data = {\n",
    "    'amt_income_total_group': ['100K-150K', '150K-200K', '<=100K', '>200K'],\n",
    "    'average_default_rate': [0.0862, 0.0845, 0.0820, 0.0714]\n",
    "}\n",
    "\n",
    "df = pd.DataFrame(data)\n",
    "\n",
    "# Creating the plot with percentage numbers on top of each bar\n",
    "plt.figure(figsize=(10, 6))\n",
    "ax = sns.barplot(x='amt_income_total_group', y='average_default_rate', data=df, palette='muted')\n",
    "\n",
    "# Adding the text on top of each bar\n",
    "for p in ax.patches:\n",
    "    ax.annotate(f'{p.get_height():.4f}', \n",
    "                (p.get_x() + p.get_width() / 2., p.get_height()), \n",
    "                ha = 'center', \n",
    "                va = 'center', \n",
    "                xytext = (0, 9), \n",
    "                textcoords = 'offset points')\n",
    "\n",
    "plt.xlabel('Income Total Group')\n",
    "plt.ylabel('Average Default Rate (%)')\n",
    "plt.title('Average Default Rate by Income Total Group')\n",
    "plt.xticks(rotation=45)\n",
    "plt.show()\n",
    "\n"
   ]
  },
  {
   "cell_type": "markdown",
   "id": "f00ef551-d50c-48c3-9f1a-e4b05f3525cb",
   "metadata": {},
   "source": [
    "- Income Level and Default Risk:\n",
    "\n",
    "Clients with higher incomes (>200K) appear to have a lower default rate (0.0713) compared to other groups. This suggests that higher income might be associated with a lower likelihood of payment difficulties, possibly due to better financial stability.\n",
    "\n",
    "- Vulnerability of Middle-Income Groups:\n",
    "\n",
    "The middle-income groups, particularly those earning between 100K-150K and 150K-200K, show higher default rates (0.0862 and 0.0845 respectively). This could indicate that these groups are more vulnerable to financial challenges leading to payment difficulties, possibly due to lifestyle, debt burdens, or other financial commitments.\n",
    "\n",
    "- Lowest Income Group's Resilience:\n",
    "\n",
    "Interestingly, the group with the lowest income (<=100K) does not have the highest default rate; in fact, its default rate is lower (0.0820) than the middle-income groups. This might reflect more cautious borrowing behavior, less access to high credit amounts, or effective financial management strategies within this group."
   ]
  },
  {
   "cell_type": "code",
   "execution_count": 91,
   "id": "708a9695-7868-46b7-89dc-5a9bb6a77e21",
   "metadata": {},
   "outputs": [],
   "source": [
    " # break down the income group \"100K-150K\" by age group"
   ]
  },
  {
   "cell_type": "code",
   "execution_count": 92,
   "id": "267c10e0-6867-44bd-9ee2-2146da4aaae5",
   "metadata": {},
   "outputs": [
    {
     "name": "stdout",
     "output_type": "stream",
     "text": [
      " * postgresql://student@/Final_Project\n",
      "5 rows affected.\n"
     ]
    },
    {
     "data": {
      "text/html": [
       "<table>\n",
       "    <thead>\n",
       "        <tr>\n",
       "            <th>year_birth_group</th>\n",
       "            <th>average_default_rate</th>\n",
       "        </tr>\n",
       "    </thead>\n",
       "    <tbody>\n",
       "        <tr>\n",
       "            <td>21-30 Years</td>\n",
       "            <td>0.1232</td>\n",
       "        </tr>\n",
       "        <tr>\n",
       "            <td>31-40 Years</td>\n",
       "            <td>0.1009</td>\n",
       "        </tr>\n",
       "        <tr>\n",
       "            <td>41-50 Years</td>\n",
       "            <td>0.0801</td>\n",
       "        </tr>\n",
       "        <tr>\n",
       "            <td>51-60 Years</td>\n",
       "            <td>0.0630</td>\n",
       "        </tr>\n",
       "        <tr>\n",
       "            <td>&gt;=61 Years</td>\n",
       "            <td>0.0489</td>\n",
       "        </tr>\n",
       "    </tbody>\n",
       "</table>"
      ],
      "text/plain": [
       "[('21-30 Years', Decimal('0.1232')),\n",
       " ('31-40 Years', Decimal('0.1009')),\n",
       " ('41-50 Years', Decimal('0.0801')),\n",
       " ('51-60 Years', Decimal('0.0630')),\n",
       " ('>=61 Years', Decimal('0.0489'))]"
      ]
     },
     "execution_count": 92,
     "metadata": {},
     "output_type": "execute_result"
    }
   ],
   "source": [
    "%%sql\n",
    "SELECT CDD.Year_Birth_GROUP, ROUND(AVG(CAST(F.target AS DECIMAL)),4) AS average_default_rate\n",
    "FROM FACT F\n",
    "JOIN CUSTOMER_DEMOGRAPHIC_DIMENSION CDD ON F.demographic_key = CDD.demographic_key\n",
    "WHERE CDD.AMT_INCOME_TOTAL_GROUP = '100K-150K'\n",
    "GROUP BY CDD.Year_Birth_GROUP\n",
    "ORDER BY average_default_rate DESC;\n"
   ]
  },
  {
   "cell_type": "code",
   "execution_count": 93,
   "id": "a7c6dd94-cac2-4f1f-ac1c-b9c6260688f9",
   "metadata": {},
   "outputs": [
    {
     "data": {
      "image/png": "[encoded data removed]",
      "text/plain": [
       "<Figure size 1000x600 with 1 Axes>"
      ]
     },
     "metadata": {},
     "output_type": "display_data"
    }
   ],
   "source": [
    "# New data for age groups and their average default rates\n",
    "age_data = {\n",
    "    'year_birth_group': ['21-30 Years', '31-40 Years', '41-50 Years', '51-60 Years', '>=61 Years'],\n",
    "    'average_default_rate': [0.1232, 0.1009, 0.0801, 0.0630, 0.0489]\n",
    "}\n",
    "\n",
    "# Creating a DataFrame\n",
    "age_df = pd.DataFrame(age_data)\n",
    "\n",
    "# Creating the plot with percentage numbers on top of each bar\n",
    "plt.figure(figsize=(10, 6))\n",
    "ax = sns.barplot(x='year_birth_group', y='average_default_rate', data=age_df, palette='coolwarm')\n",
    "\n",
    "# Adding the text on top of each bar\n",
    "for p in ax.patches:\n",
    "    ax.annotate(f'{p.get_height():.4f}', \n",
    "                (p.get_x() + p.get_width() / 2., p.get_height()), \n",
    "                ha = 'center', \n",
    "                va = 'center', \n",
    "                xytext = (0, 9), \n",
    "                textcoords = 'offset points')\n",
    "\n",
    "plt.xlabel('Age Group')\n",
    "plt.ylabel('Average Default Rate')\n",
    "plt.title('Average Default Rate by Age Group (Income Level 100K-150K)')\n",
    "plt.xticks(rotation=45)\n",
    "plt.show()\n"
   ]
  },
  {
   "cell_type": "markdown",
   "id": "8778169a-3956-4b19-ae5f-f4cd50c40575",
   "metadata": {},
   "source": [
    "- Higher Default Rates in Younger Age Groups:\n",
    "\n",
    "The highest default rate is observed in the youngest age group, \"21-30 Years\" (0.1232), which suggests that younger clients in this income bracket may have a higher likelihood of payment difficulties. This could be due to factors like less established credit history, higher likelihood of unstable employment, or other financial commitments such as student loans.\n",
    "\n",
    "- Decreasing Default Rate with Age:\n",
    "\n",
    "There is a clear trend of decreasing default rates with increasing age. The \"31-40 Years\" group has a default rate of 0.1009, which drops further for \"41-50 Years\" (0.0801), \"51-60 Years\" (0.0630), and is lowest for the \">=61 Years\" group (0.0489). This trend could indicate increased financial stability, better credit management, or more conservative borrowing behavior in older age groups.\n",
    "\n",
    "- Financial Planning and Risk Management:\n",
    "\n",
    "Financial institutions might use this information for risk assessment, tailoring loan products, or financial advice to younger clients, particularly those between 21 and 40 years of age.\n",
    "This data could also guide targeted interventions or educational programs focusing on credit management and financial planning for younger customers."
   ]
  },
  {
   "cell_type": "code",
   "execution_count": 94,
   "id": "ad47ea74-c072-4b3d-b7e0-9916713dc6f3",
   "metadata": {},
   "outputs": [
    {
     "name": "stdout",
     "output_type": "stream",
     "text": [
      " * postgresql://student@/Final_Project\n",
      "19 rows affected.\n"
     ]
    },
    {
     "data": {
      "text/html": [
       "<table>\n",
       "    <thead>\n",
       "        <tr>\n",
       "            <th>occupation_type</th>\n",
       "            <th>average_default_rate</th>\n",
       "        </tr>\n",
       "    </thead>\n",
       "    <tbody>\n",
       "        <tr>\n",
       "            <td>Cleaning staff</td>\n",
       "            <td>0.235</td>\n",
       "        </tr>\n",
       "        <tr>\n",
       "            <td>Low-skill Laborers</td>\n",
       "            <td>0.221</td>\n",
       "        </tr>\n",
       "        <tr>\n",
       "            <td>Security staff</td>\n",
       "            <td>0.156</td>\n",
       "        </tr>\n",
       "        <tr>\n",
       "            <td>Cooking staff</td>\n",
       "            <td>0.151</td>\n",
       "        </tr>\n",
       "        <tr>\n",
       "            <td>Laborers</td>\n",
       "            <td>0.150</td>\n",
       "        </tr>\n",
       "        <tr>\n",
       "            <td>Waiters/barmen staff</td>\n",
       "            <td>0.144</td>\n",
       "        </tr>\n",
       "        <tr>\n",
       "            <td>HR staff</td>\n",
       "            <td>0.143</td>\n",
       "        </tr>\n",
       "        <tr>\n",
       "            <td>Drivers</td>\n",
       "            <td>0.137</td>\n",
       "        </tr>\n",
       "        <tr>\n",
       "            <td>Sales staff</td>\n",
       "            <td>0.134</td>\n",
       "        </tr>\n",
       "        <tr>\n",
       "            <td>DATA NOT AVAILABLE</td>\n",
       "            <td>0.116</td>\n",
       "        </tr>\n",
       "        <tr>\n",
       "            <td>Secretaries</td>\n",
       "            <td>0.111</td>\n",
       "        </tr>\n",
       "        <tr>\n",
       "            <td>Realty agents</td>\n",
       "            <td>0.104</td>\n",
       "        </tr>\n",
       "        <tr>\n",
       "            <td>Managers</td>\n",
       "            <td>0.098</td>\n",
       "        </tr>\n",
       "        <tr>\n",
       "            <td>Private service staff</td>\n",
       "            <td>0.095</td>\n",
       "        </tr>\n",
       "        <tr>\n",
       "            <td>Medicine staff</td>\n",
       "            <td>0.090</td>\n",
       "        </tr>\n",
       "        <tr>\n",
       "            <td>High skill tech staff</td>\n",
       "            <td>0.090</td>\n",
       "        </tr>\n",
       "        <tr>\n",
       "            <td>Core staff</td>\n",
       "            <td>0.088</td>\n",
       "        </tr>\n",
       "        <tr>\n",
       "            <td>IT staff</td>\n",
       "            <td>0.075</td>\n",
       "        </tr>\n",
       "        <tr>\n",
       "            <td>Accountants</td>\n",
       "            <td>0.066</td>\n",
       "        </tr>\n",
       "    </tbody>\n",
       "</table>"
      ],
      "text/plain": [
       "[('Cleaning staff', Decimal('0.235')),\n",
       " ('Low-skill Laborers', Decimal('0.221')),\n",
       " ('Security staff', Decimal('0.156')),\n",
       " ('Cooking staff', Decimal('0.151')),\n",
       " ('Laborers', Decimal('0.150')),\n",
       " ('Waiters/barmen staff', Decimal('0.144')),\n",
       " ('HR staff', Decimal('0.143')),\n",
       " ('Drivers', Decimal('0.137')),\n",
       " ('Sales staff', Decimal('0.134')),\n",
       " ('DATA NOT AVAILABLE', Decimal('0.116')),\n",
       " ('Secretaries', Decimal('0.111')),\n",
       " ('Realty agents', Decimal('0.104')),\n",
       " ('Managers', Decimal('0.098')),\n",
       " ('Private service staff', Decimal('0.095')),\n",
       " ('Medicine staff', Decimal('0.090')),\n",
       " ('High skill tech staff', Decimal('0.090')),\n",
       " ('Core staff', Decimal('0.088')),\n",
       " ('IT staff', Decimal('0.075')),\n",
       " ('Accountants', Decimal('0.066'))]"
      ]
     },
     "execution_count": 94,
     "metadata": {},
     "output_type": "execute_result"
    }
   ],
   "source": [
    "%%sql\n",
    "SELECT CDD.OCCUPATION_TYPE, ROUND(AVG(CAST(F.TARGET AS DECIMAL)),3) AS average_default_rate\n",
    "FROM FACT F\n",
    "JOIN CUSTOMER_DEMOGRAPHIC_DIMENSION CDD ON F.demographic_key = CDD.demographic_key\n",
    "WHERE CDD.Year_Birth_GROUP = '21-30 Years'and AMT_INCOME_TOTAL_GROUP = '100K-150K'\n",
    "GROUP BY CDD.OCCUPATION_TYPE\n",
    "ORDER BY average_default_rate DESC;\n"
   ]
  },
  {
   "cell_type": "markdown",
   "id": "6be79b76-0211-425d-a6d0-46a89f3fddda",
   "metadata": {},
   "source": [
    "- Higher Risk Occupations:\n",
    "\n",
    "'Cleaning staff' and 'Low-skill Laborers' have the highest default rates at 0.235 and 0.221, respectively. This suggests that occupations typically associated with lower income and potentially less job security are at a higher risk of loan defaults.\n",
    "\n",
    "- Moderate Risk Occupations:\n",
    "\n",
    "Occupations such as 'Security staff', 'Cooking staff', 'Laborers', and 'Waiters/barmen staff' have moderate default rates, ranging from 0.144 to 0.156. These jobs might offer more stability than the highest risk occupations but still show a significant level of risk.\n",
    "\n",
    "- Lower Risk Occupations:\n",
    "\n",
    "'Managers', 'Private service staff', 'Medicine staff', 'High skill tech staff', 'Core staff', 'IT staff', and 'Accountants' exhibit lower default rates, with 'Accountants' showing the lowest at 0.066. This could indicate that these occupations are generally more stable, come with higher income, and the individuals in these roles have a better track record of managing their finances effectively.\n",
    "Data Not Available:\n",
    "\n",
    "The category 'DATA NOT AVAILABLE' has a relatively low default rate of 0.116, suggesting that even without specific occupational data, this group as a whole represents a lower credit risk than several specific occupations.\n",
    "\n",
    "- Professional Occupations:\n",
    "\n",
    "Professional and technical occupations, such as 'IT staff' and 'Accountants', tend to have lower default rates, which aligns with the possibility that higher education and specialized skills could lead to better financial stability.\n",
    "\n",
    "- Implications for Lending:\n",
    "\n",
    "Lenders might use this information to adjust their credit risk models, possibly assigning different risk weights to borrowers based on occupation.\n",
    "The bank could also consider tailoring financial products, advice, or support services to higher-risk occupations to help mitigate the risk of default."
   ]
  },
  {
   "cell_type": "markdown",
   "id": "f1de5c74-a99e-4699-811c-22ec1e56b1ee",
   "metadata": {},
   "source": [
    "**Expectations vs. Results**:\n",
    "\n",
    "- It is expected that lower-income groups have higher default rates, as they may have more financial constraints.\n",
    "- The findings align with expectations, as the \"100K-150K\" income group has the highest default rate.\n",
    "Younger age groups are typically associated with higher risk, which is confirmed by the high default rate in the \"21-30 Years\" age group.\n",
    "- Occupations that require lower skills and may have lower income levels tend to have higher default rates, consistent with common industry knowledge.\n",
    "- Within the high-risk \"21-30 Years\" age group, occupations that often have less stable employment, such as \"Cleaning staff\" and \"Low-skill Laborers,\" show the highest default rates."
   ]
  },
  {
   "cell_type": "code",
   "execution_count": 95,
   "id": "08a6c04c-ec8f-4b33-af0b-10d013039951",
   "metadata": {},
   "outputs": [
    {
     "data": {
      "image/png": "[encoded data removed]",
      "text/plain": [
       "<Figure size 1200x1000 with 1 Axes>"
      ]
     },
     "metadata": {},
     "output_type": "display_data"
    }
   ],
   "source": [
    "import seaborn as sns\n",
    "\n",
    "# Data for plotting\n",
    "occupation_types = [\n",
    "    \"Cleaning staff\", \"Low-skill Laborers\", \"Security staff\", \"Cooking staff\",\n",
    "    \"Laborers\", \"Waiters/barmen staff\", \"HR staff\", \"Drivers\",\n",
    "    \"Sales staff\", \"DATA NOT AVAILABLE\", \"Secretaries\", \"Realty agents\",\n",
    "    \"Managers\", \"Private service staff\", \"Medicine staff\", \"High skill tech staff\",\n",
    "    \"Core staff\", \"IT staff\", \"Accountants\"\n",
    "]\n",
    "average_default_rates = [\n",
    "    0.235, 0.221, 0.156, 0.151, 0.150, 0.144, 0.143, 0.137,\n",
    "    0.134, 0.116, 0.111, 0.104, 0.098, 0.095, 0.090, 0.090,\n",
    "    0.088, 0.075, 0.066\n",
    "]\n",
    "\n",
    "# Convert data to DataFrame\n",
    "df = pd.DataFrame({\n",
    "    'Occupation Type': occupation_types,\n",
    "    'Average Default Rate': average_default_rates\n",
    "})\n",
    "\n",
    "# Sort the DataFrame by default rate for better visualization\n",
    "df = df.sort_values('Average Default Rate', ascending=False)\n",
    "\n",
    "\n",
    "# Create the bar chart using seaborn with percentages\n",
    "plt.figure(figsize=(12, 10))\n",
    "plot = sns.barplot(x='Average Default Rate', y='Occupation Type', data=df, palette='Spectral')\n",
    "\n",
    "# Add the text (percentage) on each bar\n",
    "for p in plot.patches:\n",
    "    width = p.get_width()\n",
    "    plt.text(width + 0.005,  # position of text\n",
    "             p.get_y() + p.get_height() / 2,  # y-position\n",
    "             f'{width:.4f}',  # text to display\n",
    "             ha = 'left',  # horizontal alignment\n",
    "             va = 'center')  # vertical alignment\n",
    "\n",
    "plt.show()\n",
    "\n"
   ]
  }
 ],
 "metadata": {
  "kernelspec": {
   "display_name": "Python 3 (ipykernel)",
   "language": "python",
   "name": "python3"
  },
  "language_info": {
   "codemirror_mode": {
    "name": "ipython",
    "version": 3
   },
   "file_extension": ".py",
   "mimetype": "text/x-python",
   "name": "python",
   "nbconvert_exporter": "python",
   "pygments_lexer": "ipython3",
   "version": "3.8.10"
  }
 },
 "nbformat": 4,
 "nbformat_minor": 5
}
